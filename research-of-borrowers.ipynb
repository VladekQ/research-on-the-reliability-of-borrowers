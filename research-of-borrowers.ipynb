{
 "cells": [
  {
   "cell_type": "markdown",
   "metadata": {},
   "source": [
    "# Исследование надёжности заёмщиков\n",
    "\n",
    "Заказчик — кредитный отдел банка. Нужно разобраться, влияет ли семейное положение и количество детей клиента на факт погашения кредита в срок. Входные данные от банка — статистика о платёжеспособности клиентов.\n",
    "\n",
    "Результаты исследования будут учтены при построении модели **кредитного скоринга** — специальной системы, которая оценивает способность потенциального заёмщика вернуть кредит банку."
   ]
  },
  {
   "cell_type": "markdown",
   "metadata": {},
   "source": [
    "## Шаг 1. Откройте файл с данными и изучите общую информацию"
   ]
  },
  {
   "cell_type": "code",
   "execution_count": 32,
   "metadata": {},
   "outputs": [
    {
     "name": "stdout",
     "output_type": "stream",
     "text": [
      "<class 'pandas.core.frame.DataFrame'>\n",
      "RangeIndex: 21525 entries, 0 to 21524\n",
      "Data columns (total 12 columns):\n",
      " #   Column            Non-Null Count  Dtype  \n",
      "---  ------            --------------  -----  \n",
      " 0   children          21525 non-null  int64  \n",
      " 1   days_employed     19351 non-null  float64\n",
      " 2   dob_years         21525 non-null  int64  \n",
      " 3   education         21525 non-null  object \n",
      " 4   education_id      21525 non-null  int64  \n",
      " 5   family_status     21525 non-null  object \n",
      " 6   family_status_id  21525 non-null  int64  \n",
      " 7   gender            21525 non-null  object \n",
      " 8   income_type       21525 non-null  object \n",
      " 9   debt              21525 non-null  int64  \n",
      " 10  total_income      19351 non-null  float64\n",
      " 11  purpose           21525 non-null  object \n",
      "dtypes: float64(2), int64(5), object(5)\n",
      "memory usage: 2.0+ MB\n"
     ]
    },
    {
     "data": {
      "text/html": [
       "<div>\n",
       "<style scoped>\n",
       "    .dataframe tbody tr th:only-of-type {\n",
       "        vertical-align: middle;\n",
       "    }\n",
       "\n",
       "    .dataframe tbody tr th {\n",
       "        vertical-align: top;\n",
       "    }\n",
       "\n",
       "    .dataframe thead th {\n",
       "        text-align: right;\n",
       "    }\n",
       "</style>\n",
       "<table border=\"1\" class=\"dataframe\">\n",
       "  <thead>\n",
       "    <tr style=\"text-align: right;\">\n",
       "      <th></th>\n",
       "      <th>children</th>\n",
       "      <th>days_employed</th>\n",
       "      <th>dob_years</th>\n",
       "      <th>education</th>\n",
       "      <th>education_id</th>\n",
       "      <th>family_status</th>\n",
       "      <th>family_status_id</th>\n",
       "      <th>gender</th>\n",
       "      <th>income_type</th>\n",
       "      <th>debt</th>\n",
       "      <th>total_income</th>\n",
       "      <th>purpose</th>\n",
       "    </tr>\n",
       "  </thead>\n",
       "  <tbody>\n",
       "    <tr>\n",
       "      <th>0</th>\n",
       "      <td>1</td>\n",
       "      <td>-8437.673028</td>\n",
       "      <td>42</td>\n",
       "      <td>высшее</td>\n",
       "      <td>0</td>\n",
       "      <td>женат / замужем</td>\n",
       "      <td>0</td>\n",
       "      <td>F</td>\n",
       "      <td>сотрудник</td>\n",
       "      <td>0</td>\n",
       "      <td>253875.639453</td>\n",
       "      <td>покупка жилья</td>\n",
       "    </tr>\n",
       "    <tr>\n",
       "      <th>1</th>\n",
       "      <td>1</td>\n",
       "      <td>-4024.803754</td>\n",
       "      <td>36</td>\n",
       "      <td>среднее</td>\n",
       "      <td>1</td>\n",
       "      <td>женат / замужем</td>\n",
       "      <td>0</td>\n",
       "      <td>F</td>\n",
       "      <td>сотрудник</td>\n",
       "      <td>0</td>\n",
       "      <td>112080.014102</td>\n",
       "      <td>приобретение автомобиля</td>\n",
       "    </tr>\n",
       "    <tr>\n",
       "      <th>2</th>\n",
       "      <td>0</td>\n",
       "      <td>-5623.422610</td>\n",
       "      <td>33</td>\n",
       "      <td>Среднее</td>\n",
       "      <td>1</td>\n",
       "      <td>женат / замужем</td>\n",
       "      <td>0</td>\n",
       "      <td>M</td>\n",
       "      <td>сотрудник</td>\n",
       "      <td>0</td>\n",
       "      <td>145885.952297</td>\n",
       "      <td>покупка жилья</td>\n",
       "    </tr>\n",
       "    <tr>\n",
       "      <th>3</th>\n",
       "      <td>3</td>\n",
       "      <td>-4124.747207</td>\n",
       "      <td>32</td>\n",
       "      <td>среднее</td>\n",
       "      <td>1</td>\n",
       "      <td>женат / замужем</td>\n",
       "      <td>0</td>\n",
       "      <td>M</td>\n",
       "      <td>сотрудник</td>\n",
       "      <td>0</td>\n",
       "      <td>267628.550329</td>\n",
       "      <td>дополнительное образование</td>\n",
       "    </tr>\n",
       "    <tr>\n",
       "      <th>4</th>\n",
       "      <td>0</td>\n",
       "      <td>340266.072047</td>\n",
       "      <td>53</td>\n",
       "      <td>среднее</td>\n",
       "      <td>1</td>\n",
       "      <td>гражданский брак</td>\n",
       "      <td>1</td>\n",
       "      <td>F</td>\n",
       "      <td>пенсионер</td>\n",
       "      <td>0</td>\n",
       "      <td>158616.077870</td>\n",
       "      <td>сыграть свадьбу</td>\n",
       "    </tr>\n",
       "    <tr>\n",
       "      <th>5</th>\n",
       "      <td>0</td>\n",
       "      <td>-926.185831</td>\n",
       "      <td>27</td>\n",
       "      <td>высшее</td>\n",
       "      <td>0</td>\n",
       "      <td>гражданский брак</td>\n",
       "      <td>1</td>\n",
       "      <td>M</td>\n",
       "      <td>компаньон</td>\n",
       "      <td>0</td>\n",
       "      <td>255763.565419</td>\n",
       "      <td>покупка жилья</td>\n",
       "    </tr>\n",
       "    <tr>\n",
       "      <th>6</th>\n",
       "      <td>0</td>\n",
       "      <td>-2879.202052</td>\n",
       "      <td>43</td>\n",
       "      <td>высшее</td>\n",
       "      <td>0</td>\n",
       "      <td>женат / замужем</td>\n",
       "      <td>0</td>\n",
       "      <td>F</td>\n",
       "      <td>компаньон</td>\n",
       "      <td>0</td>\n",
       "      <td>240525.971920</td>\n",
       "      <td>операции с жильем</td>\n",
       "    </tr>\n",
       "    <tr>\n",
       "      <th>7</th>\n",
       "      <td>0</td>\n",
       "      <td>-152.779569</td>\n",
       "      <td>50</td>\n",
       "      <td>СРЕДНЕЕ</td>\n",
       "      <td>1</td>\n",
       "      <td>женат / замужем</td>\n",
       "      <td>0</td>\n",
       "      <td>M</td>\n",
       "      <td>сотрудник</td>\n",
       "      <td>0</td>\n",
       "      <td>135823.934197</td>\n",
       "      <td>образование</td>\n",
       "    </tr>\n",
       "    <tr>\n",
       "      <th>8</th>\n",
       "      <td>2</td>\n",
       "      <td>-6929.865299</td>\n",
       "      <td>35</td>\n",
       "      <td>ВЫСШЕЕ</td>\n",
       "      <td>0</td>\n",
       "      <td>гражданский брак</td>\n",
       "      <td>1</td>\n",
       "      <td>F</td>\n",
       "      <td>сотрудник</td>\n",
       "      <td>0</td>\n",
       "      <td>95856.832424</td>\n",
       "      <td>на проведение свадьбы</td>\n",
       "    </tr>\n",
       "    <tr>\n",
       "      <th>9</th>\n",
       "      <td>0</td>\n",
       "      <td>-2188.756445</td>\n",
       "      <td>41</td>\n",
       "      <td>среднее</td>\n",
       "      <td>1</td>\n",
       "      <td>женат / замужем</td>\n",
       "      <td>0</td>\n",
       "      <td>M</td>\n",
       "      <td>сотрудник</td>\n",
       "      <td>0</td>\n",
       "      <td>144425.938277</td>\n",
       "      <td>покупка жилья для семьи</td>\n",
       "    </tr>\n",
       "  </tbody>\n",
       "</table>\n",
       "</div>"
      ],
      "text/plain": [
       "   children  days_employed  dob_years education  education_id  \\\n",
       "0         1   -8437.673028         42    высшее             0   \n",
       "1         1   -4024.803754         36   среднее             1   \n",
       "2         0   -5623.422610         33   Среднее             1   \n",
       "3         3   -4124.747207         32   среднее             1   \n",
       "4         0  340266.072047         53   среднее             1   \n",
       "5         0    -926.185831         27    высшее             0   \n",
       "6         0   -2879.202052         43    высшее             0   \n",
       "7         0    -152.779569         50   СРЕДНЕЕ             1   \n",
       "8         2   -6929.865299         35    ВЫСШЕЕ             0   \n",
       "9         0   -2188.756445         41   среднее             1   \n",
       "\n",
       "      family_status  family_status_id gender income_type  debt   total_income  \\\n",
       "0   женат / замужем                 0      F   сотрудник     0  253875.639453   \n",
       "1   женат / замужем                 0      F   сотрудник     0  112080.014102   \n",
       "2   женат / замужем                 0      M   сотрудник     0  145885.952297   \n",
       "3   женат / замужем                 0      M   сотрудник     0  267628.550329   \n",
       "4  гражданский брак                 1      F   пенсионер     0  158616.077870   \n",
       "5  гражданский брак                 1      M   компаньон     0  255763.565419   \n",
       "6   женат / замужем                 0      F   компаньон     0  240525.971920   \n",
       "7   женат / замужем                 0      M   сотрудник     0  135823.934197   \n",
       "8  гражданский брак                 1      F   сотрудник     0   95856.832424   \n",
       "9   женат / замужем                 0      M   сотрудник     0  144425.938277   \n",
       "\n",
       "                      purpose  \n",
       "0               покупка жилья  \n",
       "1     приобретение автомобиля  \n",
       "2               покупка жилья  \n",
       "3  дополнительное образование  \n",
       "4             сыграть свадьбу  \n",
       "5               покупка жилья  \n",
       "6           операции с жильем  \n",
       "7                 образование  \n",
       "8       на проведение свадьбы  \n",
       "9     покупка жилья для семьи  "
      ]
     },
     "execution_count": 32,
     "metadata": {},
     "output_type": "execute_result"
    }
   ],
   "source": [
    "import pandas as pd\n",
    "\n",
    "clients = pd.read_csv('clients.csv')\n",
    "clients.info()\n",
    "clients.head(10)"
   ]
  },
  {
   "cell_type": "markdown",
   "metadata": {},
   "source": [
    "**Вывод**"
   ]
  },
  {
   "cell_type": "markdown",
   "metadata": {},
   "source": [
    "Информация о клиентах. Размер таблицы - 21525 строк, 12 столбцов. Имеются пропущенные значения в столбцах <b>'days_employed'</b> и <b>'total_income'</b>. В столбце <b>'days_employed'</b> часто встречаются отрицательные значения, что представляется невозможным в реальной жизни, очевидно - это технологическая ошибка. В столбце <b>'education'</b> имеются данные типа 'object' в разных регистрах."
   ]
  },
  {
   "cell_type": "markdown",
   "metadata": {},
   "source": [
    "## Шаг 2. Предобработка данных"
   ]
  },
  {
   "cell_type": "markdown",
   "metadata": {},
   "source": [
    "### Обработка пропусков"
   ]
  },
  {
   "cell_type": "code",
   "execution_count": 82,
   "metadata": {},
   "outputs": [
    {
     "name": "stdout",
     "output_type": "stream",
     "text": [
      "Столбцы, имеющие пропущенные значения: ['days_employed', 'total_income']\n"
     ]
    }
   ],
   "source": [
    "cols_with_missing = [col for col in clients.columns if clients[col].isnull().any() == True]\n",
    "print('Столбцы, имеющие пропущенные значения: {}'.format(cols_with_missing))"
   ]
  },
  {
   "cell_type": "markdown",
   "metadata": {},
   "source": [
    "Два столбца, которые имеют пропущенные значения напрямую связаны. Количество дней в статусе \"занятого\" и \"общий доход\". Соответственно, если количество дней в статусе \"занятого\" является пропущенным значением, то и \"общий доход\" также будет являться пропущенным значением. Проверим."
   ]
  },
  {
   "cell_type": "code",
   "execution_count": 83,
   "metadata": {},
   "outputs": [
    {
     "data": {
      "text/html": [
       "<div>\n",
       "<style scoped>\n",
       "    .dataframe tbody tr th:only-of-type {\n",
       "        vertical-align: middle;\n",
       "    }\n",
       "\n",
       "    .dataframe tbody tr th {\n",
       "        vertical-align: top;\n",
       "    }\n",
       "\n",
       "    .dataframe thead th {\n",
       "        text-align: right;\n",
       "    }\n",
       "</style>\n",
       "<table border=\"1\" class=\"dataframe\">\n",
       "  <thead>\n",
       "    <tr style=\"text-align: right;\">\n",
       "      <th></th>\n",
       "      <th>children</th>\n",
       "      <th>days_employed</th>\n",
       "      <th>dob_years</th>\n",
       "      <th>education</th>\n",
       "      <th>education_id</th>\n",
       "      <th>family_status</th>\n",
       "      <th>family_status_id</th>\n",
       "      <th>gender</th>\n",
       "      <th>income_type</th>\n",
       "      <th>debt</th>\n",
       "      <th>total_income</th>\n",
       "      <th>purpose</th>\n",
       "    </tr>\n",
       "  </thead>\n",
       "  <tbody>\n",
       "    <tr>\n",
       "      <td>12</td>\n",
       "      <td>0</td>\n",
       "      <td>NaN</td>\n",
       "      <td>65</td>\n",
       "      <td>среднее</td>\n",
       "      <td>1</td>\n",
       "      <td>гражданский брак</td>\n",
       "      <td>1</td>\n",
       "      <td>M</td>\n",
       "      <td>пенсионер</td>\n",
       "      <td>0</td>\n",
       "      <td>NaN</td>\n",
       "      <td>сыграть свадьбу</td>\n",
       "    </tr>\n",
       "    <tr>\n",
       "      <td>26</td>\n",
       "      <td>0</td>\n",
       "      <td>NaN</td>\n",
       "      <td>41</td>\n",
       "      <td>среднее</td>\n",
       "      <td>1</td>\n",
       "      <td>женат / замужем</td>\n",
       "      <td>0</td>\n",
       "      <td>M</td>\n",
       "      <td>госслужащий</td>\n",
       "      <td>0</td>\n",
       "      <td>NaN</td>\n",
       "      <td>образование</td>\n",
       "    </tr>\n",
       "    <tr>\n",
       "      <td>29</td>\n",
       "      <td>0</td>\n",
       "      <td>NaN</td>\n",
       "      <td>63</td>\n",
       "      <td>среднее</td>\n",
       "      <td>1</td>\n",
       "      <td>Не женат / не замужем</td>\n",
       "      <td>4</td>\n",
       "      <td>F</td>\n",
       "      <td>пенсионер</td>\n",
       "      <td>0</td>\n",
       "      <td>NaN</td>\n",
       "      <td>строительство жилой недвижимости</td>\n",
       "    </tr>\n",
       "    <tr>\n",
       "      <td>41</td>\n",
       "      <td>0</td>\n",
       "      <td>NaN</td>\n",
       "      <td>50</td>\n",
       "      <td>среднее</td>\n",
       "      <td>1</td>\n",
       "      <td>женат / замужем</td>\n",
       "      <td>0</td>\n",
       "      <td>F</td>\n",
       "      <td>госслужащий</td>\n",
       "      <td>0</td>\n",
       "      <td>NaN</td>\n",
       "      <td>сделка с подержанным автомобилем</td>\n",
       "    </tr>\n",
       "    <tr>\n",
       "      <td>55</td>\n",
       "      <td>0</td>\n",
       "      <td>NaN</td>\n",
       "      <td>54</td>\n",
       "      <td>среднее</td>\n",
       "      <td>1</td>\n",
       "      <td>гражданский брак</td>\n",
       "      <td>1</td>\n",
       "      <td>F</td>\n",
       "      <td>пенсионер</td>\n",
       "      <td>1</td>\n",
       "      <td>NaN</td>\n",
       "      <td>сыграть свадьбу</td>\n",
       "    </tr>\n",
       "    <tr>\n",
       "      <td>65</td>\n",
       "      <td>0</td>\n",
       "      <td>NaN</td>\n",
       "      <td>21</td>\n",
       "      <td>среднее</td>\n",
       "      <td>1</td>\n",
       "      <td>Не женат / не замужем</td>\n",
       "      <td>4</td>\n",
       "      <td>M</td>\n",
       "      <td>компаньон</td>\n",
       "      <td>0</td>\n",
       "      <td>NaN</td>\n",
       "      <td>операции с коммерческой недвижимостью</td>\n",
       "    </tr>\n",
       "    <tr>\n",
       "      <td>67</td>\n",
       "      <td>0</td>\n",
       "      <td>NaN</td>\n",
       "      <td>52</td>\n",
       "      <td>высшее</td>\n",
       "      <td>0</td>\n",
       "      <td>женат / замужем</td>\n",
       "      <td>0</td>\n",
       "      <td>F</td>\n",
       "      <td>пенсионер</td>\n",
       "      <td>0</td>\n",
       "      <td>NaN</td>\n",
       "      <td>покупка жилья для семьи</td>\n",
       "    </tr>\n",
       "    <tr>\n",
       "      <td>72</td>\n",
       "      <td>1</td>\n",
       "      <td>NaN</td>\n",
       "      <td>32</td>\n",
       "      <td>высшее</td>\n",
       "      <td>0</td>\n",
       "      <td>женат / замужем</td>\n",
       "      <td>0</td>\n",
       "      <td>M</td>\n",
       "      <td>госслужащий</td>\n",
       "      <td>0</td>\n",
       "      <td>NaN</td>\n",
       "      <td>операции с коммерческой недвижимостью</td>\n",
       "    </tr>\n",
       "    <tr>\n",
       "      <td>82</td>\n",
       "      <td>2</td>\n",
       "      <td>NaN</td>\n",
       "      <td>50</td>\n",
       "      <td>высшее</td>\n",
       "      <td>0</td>\n",
       "      <td>женат / замужем</td>\n",
       "      <td>0</td>\n",
       "      <td>F</td>\n",
       "      <td>сотрудник</td>\n",
       "      <td>0</td>\n",
       "      <td>NaN</td>\n",
       "      <td>жилье</td>\n",
       "    </tr>\n",
       "    <tr>\n",
       "      <td>83</td>\n",
       "      <td>0</td>\n",
       "      <td>NaN</td>\n",
       "      <td>52</td>\n",
       "      <td>среднее</td>\n",
       "      <td>1</td>\n",
       "      <td>женат / замужем</td>\n",
       "      <td>0</td>\n",
       "      <td>M</td>\n",
       "      <td>сотрудник</td>\n",
       "      <td>0</td>\n",
       "      <td>NaN</td>\n",
       "      <td>жилье</td>\n",
       "    </tr>\n",
       "  </tbody>\n",
       "</table>\n",
       "</div>"
      ],
      "text/plain": [
       "    children  days_employed  dob_years education  education_id  \\\n",
       "12         0            NaN         65   среднее             1   \n",
       "26         0            NaN         41   среднее             1   \n",
       "29         0            NaN         63   среднее             1   \n",
       "41         0            NaN         50   среднее             1   \n",
       "55         0            NaN         54   среднее             1   \n",
       "65         0            NaN         21   среднее             1   \n",
       "67         0            NaN         52    высшее             0   \n",
       "72         1            NaN         32    высшее             0   \n",
       "82         2            NaN         50    высшее             0   \n",
       "83         0            NaN         52   среднее             1   \n",
       "\n",
       "            family_status  family_status_id gender  income_type  debt  \\\n",
       "12       гражданский брак                 1      M    пенсионер     0   \n",
       "26        женат / замужем                 0      M  госслужащий     0   \n",
       "29  Не женат / не замужем                 4      F    пенсионер     0   \n",
       "41        женат / замужем                 0      F  госслужащий     0   \n",
       "55       гражданский брак                 1      F    пенсионер     1   \n",
       "65  Не женат / не замужем                 4      M    компаньон     0   \n",
       "67        женат / замужем                 0      F    пенсионер     0   \n",
       "72        женат / замужем                 0      M  госслужащий     0   \n",
       "82        женат / замужем                 0      F    сотрудник     0   \n",
       "83        женат / замужем                 0      M    сотрудник     0   \n",
       "\n",
       "    total_income                                purpose  \n",
       "12           NaN                        сыграть свадьбу  \n",
       "26           NaN                            образование  \n",
       "29           NaN       строительство жилой недвижимости  \n",
       "41           NaN       сделка с подержанным автомобилем  \n",
       "55           NaN                        сыграть свадьбу  \n",
       "65           NaN  операции с коммерческой недвижимостью  \n",
       "67           NaN                покупка жилья для семьи  \n",
       "72           NaN  операции с коммерческой недвижимостью  \n",
       "82           NaN                                  жилье  \n",
       "83           NaN                                  жилье  "
      ]
     },
     "execution_count": 83,
     "metadata": {},
     "output_type": "execute_result"
    }
   ],
   "source": [
    "missing_clients = clients[(clients['total_income'].isnull() == True) & (clients['days_employed'].isnull() == True)]\n",
    "missing_clients.head(10)"
   ]
  },
  {
   "cell_type": "markdown",
   "metadata": {},
   "source": [
    "Это действительно так. Пропуски в данных могли оказаться по трем причинам:\n",
    "- Клиент безработный\n",
    "- Клиент не указал эти данные\n",
    "- Данные были утеряны"
   ]
  },
  {
   "cell_type": "code",
   "execution_count": 84,
   "metadata": {},
   "outputs": [
    {
     "name": "stdout",
     "output_type": "stream",
     "text": [
      "Количество клиентов с пропущенными значениями: 2174\n"
     ]
    }
   ],
   "source": [
    "print('Количество клиентов с пропущенными значениями: {}'.format(missing_clients.shape[0]))"
   ]
  },
  {
   "cell_type": "code",
   "execution_count": 85,
   "metadata": {},
   "outputs": [
    {
     "name": "stdout",
     "output_type": "stream",
     "text": [
      "Статусы клиентов с пропущенными значениями:\n",
      "income_type\n",
      "госслужащий         147\n",
      "компаньон           508\n",
      "пенсионер           413\n",
      "предприниматель       1\n",
      "сотрудник          1105\n",
      "Name: income_type, dtype: int64\n"
     ]
    }
   ],
   "source": [
    "print('Статусы клиентов с пропущенными значениями:')\n",
    "print(missing_clients.groupby('income_type')['income_type'].count())"
   ]
  },
  {
   "cell_type": "markdown",
   "metadata": {},
   "source": [
    "Первое, на что могут указывать такие пропущенные значения - безработный клиент. Но, во входных данных и так имеется отдельный \"статус\" клиента, указывающий на его безработность - \"безработный\". В таком случае можно отклонить эту теорию."
   ]
  },
  {
   "cell_type": "code",
   "execution_count": 86,
   "metadata": {},
   "outputs": [
    {
     "name": "stdout",
     "output_type": "stream",
     "text": [
      "['сотрудник' 'пенсионер' 'компаньон' 'госслужащий' 'безработный'\n",
      " 'предприниматель' 'студент' 'в декрете']\n"
     ]
    }
   ],
   "source": [
    "print(clients['income_type'].unique())"
   ]
  },
  {
   "cell_type": "markdown",
   "metadata": {},
   "source": [
    "По всей видимости, данные были <b>утеряны</b>.\n",
    "При условии, что \"статус\" клиента официально подтвержден, в случае, когда клиент не указал данные или они были утеряны, их можно восстановить с помощью нахождения <b>среднего значения</b> или <b>медианы</b> для каждой группы клиентов.\n",
    "Рассмотрим обе величины."
   ]
  },
  {
   "cell_type": "code",
   "execution_count": 87,
   "metadata": {},
   "outputs": [
    {
     "name": "stdout",
     "output_type": "stream",
     "text": [
      "Среднее значение \"общего дохода\" для каждой группы клиентов:  income_type\n",
      "безработный        131339.751676\n",
      "в декрете           53829.130729\n",
      "госслужащий        170898.309923\n",
      "компаньон          202417.461462\n",
      "пенсионер          137127.465690\n",
      "предприниматель    499163.144947\n",
      "сотрудник          161380.260488\n",
      "студент             98201.625314\n",
      "Name: total_income, dtype: float64\n",
      "-----------------------------------------------------\n",
      "Медиана \"общего дохода\" для каждой группы клиентов:  income_type\n",
      "безработный        131339.751676\n",
      "в декрете           53829.130729\n",
      "госслужащий        150447.935283\n",
      "компаньон          172357.950966\n",
      "пенсионер          118514.486412\n",
      "предприниматель    499163.144947\n",
      "сотрудник          142594.396847\n",
      "студент             98201.625314\n",
      "Name: total_income, dtype: float64\n"
     ]
    }
   ],
   "source": [
    "print('Среднее значение \"общего дохода\" для каждой группы клиентов: ', clients.groupby('income_type')['total_income'].mean())\n",
    "print('-----------------------------------------------------')\n",
    "print('Медиана \"общего дохода\" для каждой группы клиентов: ', clients.groupby('income_type')['total_income'].median())"
   ]
  },
  {
   "cell_type": "markdown",
   "metadata": {},
   "source": [
    "Обратим внимание, что именно в тех группах клиентов, где пропущены значения, среднее значение <b>больше</b>, чем медиана. <b>Кроме</b> \"предприниматель\" так как для этой группы лишь у одного клиента оказались пропущенные значения, они не повлияли на эти величины.\n",
    "Среднее значение некорректно характеризует данные, когда некоторые значения сильно выделяются среди большинства. Это относится и к группам клиентов, где значения были пропущены. По данной причине выбираем <b>медиану</b> на замену пропущенных значений."
   ]
  },
  {
   "cell_type": "code",
   "execution_count": 88,
   "metadata": {},
   "outputs": [
    {
     "name": "stdout",
     "output_type": "stream",
     "text": [
      "False\n"
     ]
    }
   ],
   "source": [
    "# создадим Series, где содержатся медианы для каждой группы клиентов\n",
    "total_income_grouped_median = clients.groupby('income_type')['total_income'].median()\n",
    "# заменим каждое пропущенное значение в столбце 'total_income' в соответствии со статусом\n",
    "for income_type in missing_clients['income_type'].unique():\n",
    "    clients.loc[(clients['income_type'] == income_type) & (clients['total_income'].isnull() == True), 'total_income'] = total_income_grouped_median[income_type]\n",
    "\n",
    "# проверим наличие пропущенных значений в столбце 'total_income'\n",
    "print(clients['total_income'].isnull().any())"
   ]
  },
  {
   "cell_type": "markdown",
   "metadata": {},
   "source": [
    "Пропущенные значения в столбце <b>'total_income'</b> был заполнен по принципу медианы среди каждой группы клиентов относительно их статуса. Данные об \"общем доходе\" клиента скорее всего были утеряны, поэтому необходимо было их восстановить.\n",
    "Следующий столбец, в котором необходимо избавиться от пропущенных значений - <b>'days_employed'</b>. Давайте посмотрим на медиану этого столбца для каждой группы клиентов."
   ]
  },
  {
   "cell_type": "code",
   "execution_count": 89,
   "metadata": {},
   "outputs": [
    {
     "data": {
      "text/plain": [
       "income_type\n",
       "безработный        366413.652744\n",
       "в декрете           -3296.759962\n",
       "госслужащий         -2689.368353\n",
       "компаньон           -1547.382223\n",
       "пенсионер          365213.306266\n",
       "предприниматель      -520.848083\n",
       "сотрудник           -1574.202821\n",
       "студент              -578.751554\n",
       "Name: days_employed, dtype: float64"
      ]
     },
     "execution_count": 89,
     "metadata": {},
     "output_type": "execute_result"
    }
   ],
   "source": [
    "# медиана стажа для каждой группы клиентов относительно их статуса\n",
    "clients.groupby('income_type')['days_employed'].median()"
   ]
  },
  {
   "cell_type": "markdown",
   "metadata": {},
   "source": [
    "Обратим внимание на два артефакта:\n",
    "- Медиана для \"безработных\" и \"пенсионеров\" составляет около 366000 дней, что равно примерно 1000 лет.\n",
    "- Медианы для остальных групп являются отрицательными\n",
    "\n",
    "В <b>первую</b> очередь проверим, есть ли для \"безработных\" и \"пенсионеров\" более адекватные данные в столбце 'days_employed'."
   ]
  },
  {
   "cell_type": "code",
   "execution_count": 90,
   "metadata": {},
   "outputs": [
    {
     "name": "stdout",
     "output_type": "stream",
     "text": [
      "Empty DataFrame\n",
      "Columns: [children, days_employed, dob_years, education, education_id, family_status, family_status_id, gender, income_type, debt, total_income, purpose]\n",
      "Index: []\n",
      "Empty DataFrame\n",
      "Columns: [children, days_employed, dob_years, education, education_id, family_status, family_status_id, gender, income_type, debt, total_income, purpose]\n",
      "Index: []\n"
     ]
    }
   ],
   "source": [
    "print(clients[(clients['days_employed'] < 15000) & (clients['income_type'] == 'безработный')])\n",
    "print(clients[(clients['days_employed'] < 15000) & (clients['income_type'] == 'пенсионер')])"
   ]
  },
  {
   "cell_type": "markdown",
   "metadata": {},
   "source": [
    "Допустим, что 15000 дней это средний стаж пенсионера, больше, чем 41 год, работать практически невозможно. Допускаем, что стаж у \"пенсионеров\" и \"безработных\" представлен в часах, а не в днях. Напишем функцию, которая переводит стаж из часов в дни. И функцию, которая изменит знак перед отрицательными значениями."
   ]
  },
  {
   "cell_type": "code",
   "execution_count": 91,
   "metadata": {
    "scrolled": true
   },
   "outputs": [
    {
     "data": {
      "text/html": [
       "<div>\n",
       "<style scoped>\n",
       "    .dataframe tbody tr th:only-of-type {\n",
       "        vertical-align: middle;\n",
       "    }\n",
       "\n",
       "    .dataframe tbody tr th {\n",
       "        vertical-align: top;\n",
       "    }\n",
       "\n",
       "    .dataframe thead th {\n",
       "        text-align: right;\n",
       "    }\n",
       "</style>\n",
       "<table border=\"1\" class=\"dataframe\">\n",
       "  <thead>\n",
       "    <tr style=\"text-align: right;\">\n",
       "      <th></th>\n",
       "      <th>children</th>\n",
       "      <th>days_employed</th>\n",
       "      <th>dob_years</th>\n",
       "      <th>education</th>\n",
       "      <th>education_id</th>\n",
       "      <th>family_status</th>\n",
       "      <th>family_status_id</th>\n",
       "      <th>gender</th>\n",
       "      <th>income_type</th>\n",
       "      <th>debt</th>\n",
       "      <th>total_income</th>\n",
       "      <th>purpose</th>\n",
       "    </tr>\n",
       "  </thead>\n",
       "  <tbody>\n",
       "    <tr>\n",
       "      <td>0</td>\n",
       "      <td>1</td>\n",
       "      <td>8437.673028</td>\n",
       "      <td>42</td>\n",
       "      <td>высшее</td>\n",
       "      <td>0</td>\n",
       "      <td>женат / замужем</td>\n",
       "      <td>0</td>\n",
       "      <td>F</td>\n",
       "      <td>сотрудник</td>\n",
       "      <td>0</td>\n",
       "      <td>253875.639453</td>\n",
       "      <td>покупка жилья</td>\n",
       "    </tr>\n",
       "    <tr>\n",
       "      <td>1</td>\n",
       "      <td>1</td>\n",
       "      <td>4024.803754</td>\n",
       "      <td>36</td>\n",
       "      <td>среднее</td>\n",
       "      <td>1</td>\n",
       "      <td>женат / замужем</td>\n",
       "      <td>0</td>\n",
       "      <td>F</td>\n",
       "      <td>сотрудник</td>\n",
       "      <td>0</td>\n",
       "      <td>112080.014102</td>\n",
       "      <td>приобретение автомобиля</td>\n",
       "    </tr>\n",
       "    <tr>\n",
       "      <td>2</td>\n",
       "      <td>0</td>\n",
       "      <td>5623.422610</td>\n",
       "      <td>33</td>\n",
       "      <td>Среднее</td>\n",
       "      <td>1</td>\n",
       "      <td>женат / замужем</td>\n",
       "      <td>0</td>\n",
       "      <td>M</td>\n",
       "      <td>сотрудник</td>\n",
       "      <td>0</td>\n",
       "      <td>145885.952297</td>\n",
       "      <td>покупка жилья</td>\n",
       "    </tr>\n",
       "    <tr>\n",
       "      <td>3</td>\n",
       "      <td>3</td>\n",
       "      <td>4124.747207</td>\n",
       "      <td>32</td>\n",
       "      <td>среднее</td>\n",
       "      <td>1</td>\n",
       "      <td>женат / замужем</td>\n",
       "      <td>0</td>\n",
       "      <td>M</td>\n",
       "      <td>сотрудник</td>\n",
       "      <td>0</td>\n",
       "      <td>267628.550329</td>\n",
       "      <td>дополнительное образование</td>\n",
       "    </tr>\n",
       "    <tr>\n",
       "      <td>4</td>\n",
       "      <td>0</td>\n",
       "      <td>14177.753002</td>\n",
       "      <td>53</td>\n",
       "      <td>среднее</td>\n",
       "      <td>1</td>\n",
       "      <td>гражданский брак</td>\n",
       "      <td>1</td>\n",
       "      <td>F</td>\n",
       "      <td>пенсионер</td>\n",
       "      <td>0</td>\n",
       "      <td>158616.077870</td>\n",
       "      <td>сыграть свадьбу</td>\n",
       "    </tr>\n",
       "    <tr>\n",
       "      <td>5</td>\n",
       "      <td>0</td>\n",
       "      <td>926.185831</td>\n",
       "      <td>27</td>\n",
       "      <td>высшее</td>\n",
       "      <td>0</td>\n",
       "      <td>гражданский брак</td>\n",
       "      <td>1</td>\n",
       "      <td>M</td>\n",
       "      <td>компаньон</td>\n",
       "      <td>0</td>\n",
       "      <td>255763.565419</td>\n",
       "      <td>покупка жилья</td>\n",
       "    </tr>\n",
       "    <tr>\n",
       "      <td>6</td>\n",
       "      <td>0</td>\n",
       "      <td>2879.202052</td>\n",
       "      <td>43</td>\n",
       "      <td>высшее</td>\n",
       "      <td>0</td>\n",
       "      <td>женат / замужем</td>\n",
       "      <td>0</td>\n",
       "      <td>F</td>\n",
       "      <td>компаньон</td>\n",
       "      <td>0</td>\n",
       "      <td>240525.971920</td>\n",
       "      <td>операции с жильем</td>\n",
       "    </tr>\n",
       "    <tr>\n",
       "      <td>7</td>\n",
       "      <td>0</td>\n",
       "      <td>152.779569</td>\n",
       "      <td>50</td>\n",
       "      <td>СРЕДНЕЕ</td>\n",
       "      <td>1</td>\n",
       "      <td>женат / замужем</td>\n",
       "      <td>0</td>\n",
       "      <td>M</td>\n",
       "      <td>сотрудник</td>\n",
       "      <td>0</td>\n",
       "      <td>135823.934197</td>\n",
       "      <td>образование</td>\n",
       "    </tr>\n",
       "    <tr>\n",
       "      <td>8</td>\n",
       "      <td>2</td>\n",
       "      <td>6929.865299</td>\n",
       "      <td>35</td>\n",
       "      <td>ВЫСШЕЕ</td>\n",
       "      <td>0</td>\n",
       "      <td>гражданский брак</td>\n",
       "      <td>1</td>\n",
       "      <td>F</td>\n",
       "      <td>сотрудник</td>\n",
       "      <td>0</td>\n",
       "      <td>95856.832424</td>\n",
       "      <td>на проведение свадьбы</td>\n",
       "    </tr>\n",
       "    <tr>\n",
       "      <td>9</td>\n",
       "      <td>0</td>\n",
       "      <td>2188.756445</td>\n",
       "      <td>41</td>\n",
       "      <td>среднее</td>\n",
       "      <td>1</td>\n",
       "      <td>женат / замужем</td>\n",
       "      <td>0</td>\n",
       "      <td>M</td>\n",
       "      <td>сотрудник</td>\n",
       "      <td>0</td>\n",
       "      <td>144425.938277</td>\n",
       "      <td>покупка жилья для семьи</td>\n",
       "    </tr>\n",
       "    <tr>\n",
       "      <td>10</td>\n",
       "      <td>2</td>\n",
       "      <td>4171.483647</td>\n",
       "      <td>36</td>\n",
       "      <td>высшее</td>\n",
       "      <td>0</td>\n",
       "      <td>женат / замужем</td>\n",
       "      <td>0</td>\n",
       "      <td>M</td>\n",
       "      <td>компаньон</td>\n",
       "      <td>0</td>\n",
       "      <td>113943.491460</td>\n",
       "      <td>покупка недвижимости</td>\n",
       "    </tr>\n",
       "    <tr>\n",
       "      <td>11</td>\n",
       "      <td>0</td>\n",
       "      <td>792.701887</td>\n",
       "      <td>40</td>\n",
       "      <td>среднее</td>\n",
       "      <td>1</td>\n",
       "      <td>женат / замужем</td>\n",
       "      <td>0</td>\n",
       "      <td>F</td>\n",
       "      <td>сотрудник</td>\n",
       "      <td>0</td>\n",
       "      <td>77069.234271</td>\n",
       "      <td>покупка коммерческой недвижимости</td>\n",
       "    </tr>\n",
       "    <tr>\n",
       "      <td>12</td>\n",
       "      <td>0</td>\n",
       "      <td>NaN</td>\n",
       "      <td>65</td>\n",
       "      <td>среднее</td>\n",
       "      <td>1</td>\n",
       "      <td>гражданский брак</td>\n",
       "      <td>1</td>\n",
       "      <td>M</td>\n",
       "      <td>пенсионер</td>\n",
       "      <td>0</td>\n",
       "      <td>118514.486412</td>\n",
       "      <td>сыграть свадьбу</td>\n",
       "    </tr>\n",
       "    <tr>\n",
       "      <td>13</td>\n",
       "      <td>0</td>\n",
       "      <td>1846.641941</td>\n",
       "      <td>54</td>\n",
       "      <td>неоконченное высшее</td>\n",
       "      <td>2</td>\n",
       "      <td>женат / замужем</td>\n",
       "      <td>0</td>\n",
       "      <td>F</td>\n",
       "      <td>сотрудник</td>\n",
       "      <td>0</td>\n",
       "      <td>130458.228857</td>\n",
       "      <td>приобретение автомобиля</td>\n",
       "    </tr>\n",
       "    <tr>\n",
       "      <td>14</td>\n",
       "      <td>0</td>\n",
       "      <td>1844.956182</td>\n",
       "      <td>56</td>\n",
       "      <td>высшее</td>\n",
       "      <td>0</td>\n",
       "      <td>гражданский брак</td>\n",
       "      <td>1</td>\n",
       "      <td>F</td>\n",
       "      <td>компаньон</td>\n",
       "      <td>1</td>\n",
       "      <td>165127.911772</td>\n",
       "      <td>покупка жилой недвижимости</td>\n",
       "    </tr>\n",
       "  </tbody>\n",
       "</table>\n",
       "</div>"
      ],
      "text/plain": [
       "    children  days_employed  dob_years            education  education_id  \\\n",
       "0          1    8437.673028         42               высшее             0   \n",
       "1          1    4024.803754         36              среднее             1   \n",
       "2          0    5623.422610         33              Среднее             1   \n",
       "3          3    4124.747207         32              среднее             1   \n",
       "4          0   14177.753002         53              среднее             1   \n",
       "5          0     926.185831         27               высшее             0   \n",
       "6          0    2879.202052         43               высшее             0   \n",
       "7          0     152.779569         50              СРЕДНЕЕ             1   \n",
       "8          2    6929.865299         35               ВЫСШЕЕ             0   \n",
       "9          0    2188.756445         41              среднее             1   \n",
       "10         2    4171.483647         36               высшее             0   \n",
       "11         0     792.701887         40              среднее             1   \n",
       "12         0            NaN         65              среднее             1   \n",
       "13         0    1846.641941         54  неоконченное высшее             2   \n",
       "14         0    1844.956182         56               высшее             0   \n",
       "\n",
       "       family_status  family_status_id gender income_type  debt  \\\n",
       "0    женат / замужем                 0      F   сотрудник     0   \n",
       "1    женат / замужем                 0      F   сотрудник     0   \n",
       "2    женат / замужем                 0      M   сотрудник     0   \n",
       "3    женат / замужем                 0      M   сотрудник     0   \n",
       "4   гражданский брак                 1      F   пенсионер     0   \n",
       "5   гражданский брак                 1      M   компаньон     0   \n",
       "6    женат / замужем                 0      F   компаньон     0   \n",
       "7    женат / замужем                 0      M   сотрудник     0   \n",
       "8   гражданский брак                 1      F   сотрудник     0   \n",
       "9    женат / замужем                 0      M   сотрудник     0   \n",
       "10   женат / замужем                 0      M   компаньон     0   \n",
       "11   женат / замужем                 0      F   сотрудник     0   \n",
       "12  гражданский брак                 1      M   пенсионер     0   \n",
       "13   женат / замужем                 0      F   сотрудник     0   \n",
       "14  гражданский брак                 1      F   компаньон     1   \n",
       "\n",
       "     total_income                            purpose  \n",
       "0   253875.639453                      покупка жилья  \n",
       "1   112080.014102            приобретение автомобиля  \n",
       "2   145885.952297                      покупка жилья  \n",
       "3   267628.550329         дополнительное образование  \n",
       "4   158616.077870                    сыграть свадьбу  \n",
       "5   255763.565419                      покупка жилья  \n",
       "6   240525.971920                  операции с жильем  \n",
       "7   135823.934197                        образование  \n",
       "8    95856.832424              на проведение свадьбы  \n",
       "9   144425.938277            покупка жилья для семьи  \n",
       "10  113943.491460               покупка недвижимости  \n",
       "11   77069.234271  покупка коммерческой недвижимости  \n",
       "12  118514.486412                    сыграть свадьбу  \n",
       "13  130458.228857            приобретение автомобиля  \n",
       "14  165127.911772         покупка жилой недвижимости  "
      ]
     },
     "execution_count": 91,
     "metadata": {},
     "output_type": "execute_result"
    }
   ],
   "source": [
    "def from_hours_to_days_employed(days_employed):\n",
    "    return (days_employed / 24)\n",
    "\n",
    "def positive(days_employed):\n",
    "    return -1*days_employed\n",
    "\n",
    "# заменим значения в часах на значения в днях\n",
    "clients.loc[(clients['income_type'] == 'пенсионер') | (clients['income_type'] == 'безработный'), 'days_employed'] = clients.loc[(clients['income_type'] == 'пенсионер') | (clients['income_type'] == 'безработный'), 'days_employed'].apply(from_hours_to_days_employed)\n",
    "# сделаем отрицательные значения положительными\n",
    "clients.loc[(clients['days_employed'] < 0), 'days_employed'] = clients.loc[clients['days_employed'] < 0].apply(positive)\n",
    "clients.head(15)"
   ]
  },
  {
   "cell_type": "markdown",
   "metadata": {},
   "source": [
    "Теперь заменим пропущенные данные в столбце <b>'days_employed'</b> медианами для каждой группы клиентов соответственно статусу."
   ]
  },
  {
   "cell_type": "code",
   "execution_count": 92,
   "metadata": {},
   "outputs": [
    {
     "data": {
      "text/html": [
       "<div>\n",
       "<style scoped>\n",
       "    .dataframe tbody tr th:only-of-type {\n",
       "        vertical-align: middle;\n",
       "    }\n",
       "\n",
       "    .dataframe tbody tr th {\n",
       "        vertical-align: top;\n",
       "    }\n",
       "\n",
       "    .dataframe thead th {\n",
       "        text-align: right;\n",
       "    }\n",
       "</style>\n",
       "<table border=\"1\" class=\"dataframe\">\n",
       "  <thead>\n",
       "    <tr style=\"text-align: right;\">\n",
       "      <th></th>\n",
       "      <th>children</th>\n",
       "      <th>days_employed</th>\n",
       "      <th>dob_years</th>\n",
       "      <th>education</th>\n",
       "      <th>education_id</th>\n",
       "      <th>family_status</th>\n",
       "      <th>family_status_id</th>\n",
       "      <th>gender</th>\n",
       "      <th>income_type</th>\n",
       "      <th>debt</th>\n",
       "      <th>total_income</th>\n",
       "      <th>purpose</th>\n",
       "    </tr>\n",
       "  </thead>\n",
       "  <tbody>\n",
       "    <tr>\n",
       "      <td>0</td>\n",
       "      <td>1</td>\n",
       "      <td>8437.673028</td>\n",
       "      <td>42</td>\n",
       "      <td>высшее</td>\n",
       "      <td>0</td>\n",
       "      <td>женат / замужем</td>\n",
       "      <td>0</td>\n",
       "      <td>F</td>\n",
       "      <td>сотрудник</td>\n",
       "      <td>0</td>\n",
       "      <td>253875.639453</td>\n",
       "      <td>покупка жилья</td>\n",
       "    </tr>\n",
       "    <tr>\n",
       "      <td>1</td>\n",
       "      <td>1</td>\n",
       "      <td>4024.803754</td>\n",
       "      <td>36</td>\n",
       "      <td>среднее</td>\n",
       "      <td>1</td>\n",
       "      <td>женат / замужем</td>\n",
       "      <td>0</td>\n",
       "      <td>F</td>\n",
       "      <td>сотрудник</td>\n",
       "      <td>0</td>\n",
       "      <td>112080.014102</td>\n",
       "      <td>приобретение автомобиля</td>\n",
       "    </tr>\n",
       "    <tr>\n",
       "      <td>2</td>\n",
       "      <td>0</td>\n",
       "      <td>5623.422610</td>\n",
       "      <td>33</td>\n",
       "      <td>Среднее</td>\n",
       "      <td>1</td>\n",
       "      <td>женат / замужем</td>\n",
       "      <td>0</td>\n",
       "      <td>M</td>\n",
       "      <td>сотрудник</td>\n",
       "      <td>0</td>\n",
       "      <td>145885.952297</td>\n",
       "      <td>покупка жилья</td>\n",
       "    </tr>\n",
       "    <tr>\n",
       "      <td>3</td>\n",
       "      <td>3</td>\n",
       "      <td>4124.747207</td>\n",
       "      <td>32</td>\n",
       "      <td>среднее</td>\n",
       "      <td>1</td>\n",
       "      <td>женат / замужем</td>\n",
       "      <td>0</td>\n",
       "      <td>M</td>\n",
       "      <td>сотрудник</td>\n",
       "      <td>0</td>\n",
       "      <td>267628.550329</td>\n",
       "      <td>дополнительное образование</td>\n",
       "    </tr>\n",
       "    <tr>\n",
       "      <td>4</td>\n",
       "      <td>0</td>\n",
       "      <td>14177.753002</td>\n",
       "      <td>53</td>\n",
       "      <td>среднее</td>\n",
       "      <td>1</td>\n",
       "      <td>гражданский брак</td>\n",
       "      <td>1</td>\n",
       "      <td>F</td>\n",
       "      <td>пенсионер</td>\n",
       "      <td>0</td>\n",
       "      <td>158616.077870</td>\n",
       "      <td>сыграть свадьбу</td>\n",
       "    </tr>\n",
       "    <tr>\n",
       "      <td>5</td>\n",
       "      <td>0</td>\n",
       "      <td>926.185831</td>\n",
       "      <td>27</td>\n",
       "      <td>высшее</td>\n",
       "      <td>0</td>\n",
       "      <td>гражданский брак</td>\n",
       "      <td>1</td>\n",
       "      <td>M</td>\n",
       "      <td>компаньон</td>\n",
       "      <td>0</td>\n",
       "      <td>255763.565419</td>\n",
       "      <td>покупка жилья</td>\n",
       "    </tr>\n",
       "    <tr>\n",
       "      <td>6</td>\n",
       "      <td>0</td>\n",
       "      <td>2879.202052</td>\n",
       "      <td>43</td>\n",
       "      <td>высшее</td>\n",
       "      <td>0</td>\n",
       "      <td>женат / замужем</td>\n",
       "      <td>0</td>\n",
       "      <td>F</td>\n",
       "      <td>компаньон</td>\n",
       "      <td>0</td>\n",
       "      <td>240525.971920</td>\n",
       "      <td>операции с жильем</td>\n",
       "    </tr>\n",
       "    <tr>\n",
       "      <td>7</td>\n",
       "      <td>0</td>\n",
       "      <td>152.779569</td>\n",
       "      <td>50</td>\n",
       "      <td>СРЕДНЕЕ</td>\n",
       "      <td>1</td>\n",
       "      <td>женат / замужем</td>\n",
       "      <td>0</td>\n",
       "      <td>M</td>\n",
       "      <td>сотрудник</td>\n",
       "      <td>0</td>\n",
       "      <td>135823.934197</td>\n",
       "      <td>образование</td>\n",
       "    </tr>\n",
       "    <tr>\n",
       "      <td>8</td>\n",
       "      <td>2</td>\n",
       "      <td>6929.865299</td>\n",
       "      <td>35</td>\n",
       "      <td>ВЫСШЕЕ</td>\n",
       "      <td>0</td>\n",
       "      <td>гражданский брак</td>\n",
       "      <td>1</td>\n",
       "      <td>F</td>\n",
       "      <td>сотрудник</td>\n",
       "      <td>0</td>\n",
       "      <td>95856.832424</td>\n",
       "      <td>на проведение свадьбы</td>\n",
       "    </tr>\n",
       "    <tr>\n",
       "      <td>9</td>\n",
       "      <td>0</td>\n",
       "      <td>2188.756445</td>\n",
       "      <td>41</td>\n",
       "      <td>среднее</td>\n",
       "      <td>1</td>\n",
       "      <td>женат / замужем</td>\n",
       "      <td>0</td>\n",
       "      <td>M</td>\n",
       "      <td>сотрудник</td>\n",
       "      <td>0</td>\n",
       "      <td>144425.938277</td>\n",
       "      <td>покупка жилья для семьи</td>\n",
       "    </tr>\n",
       "    <tr>\n",
       "      <td>10</td>\n",
       "      <td>2</td>\n",
       "      <td>4171.483647</td>\n",
       "      <td>36</td>\n",
       "      <td>высшее</td>\n",
       "      <td>0</td>\n",
       "      <td>женат / замужем</td>\n",
       "      <td>0</td>\n",
       "      <td>M</td>\n",
       "      <td>компаньон</td>\n",
       "      <td>0</td>\n",
       "      <td>113943.491460</td>\n",
       "      <td>покупка недвижимости</td>\n",
       "    </tr>\n",
       "    <tr>\n",
       "      <td>11</td>\n",
       "      <td>0</td>\n",
       "      <td>792.701887</td>\n",
       "      <td>40</td>\n",
       "      <td>среднее</td>\n",
       "      <td>1</td>\n",
       "      <td>женат / замужем</td>\n",
       "      <td>0</td>\n",
       "      <td>F</td>\n",
       "      <td>сотрудник</td>\n",
       "      <td>0</td>\n",
       "      <td>77069.234271</td>\n",
       "      <td>покупка коммерческой недвижимости</td>\n",
       "    </tr>\n",
       "    <tr>\n",
       "      <td>12</td>\n",
       "      <td>0</td>\n",
       "      <td>15217.221094</td>\n",
       "      <td>65</td>\n",
       "      <td>среднее</td>\n",
       "      <td>1</td>\n",
       "      <td>гражданский брак</td>\n",
       "      <td>1</td>\n",
       "      <td>M</td>\n",
       "      <td>пенсионер</td>\n",
       "      <td>0</td>\n",
       "      <td>118514.486412</td>\n",
       "      <td>сыграть свадьбу</td>\n",
       "    </tr>\n",
       "    <tr>\n",
       "      <td>13</td>\n",
       "      <td>0</td>\n",
       "      <td>1846.641941</td>\n",
       "      <td>54</td>\n",
       "      <td>неоконченное высшее</td>\n",
       "      <td>2</td>\n",
       "      <td>женат / замужем</td>\n",
       "      <td>0</td>\n",
       "      <td>F</td>\n",
       "      <td>сотрудник</td>\n",
       "      <td>0</td>\n",
       "      <td>130458.228857</td>\n",
       "      <td>приобретение автомобиля</td>\n",
       "    </tr>\n",
       "    <tr>\n",
       "      <td>14</td>\n",
       "      <td>0</td>\n",
       "      <td>1844.956182</td>\n",
       "      <td>56</td>\n",
       "      <td>высшее</td>\n",
       "      <td>0</td>\n",
       "      <td>гражданский брак</td>\n",
       "      <td>1</td>\n",
       "      <td>F</td>\n",
       "      <td>компаньон</td>\n",
       "      <td>1</td>\n",
       "      <td>165127.911772</td>\n",
       "      <td>покупка жилой недвижимости</td>\n",
       "    </tr>\n",
       "  </tbody>\n",
       "</table>\n",
       "</div>"
      ],
      "text/plain": [
       "    children  days_employed  dob_years            education  education_id  \\\n",
       "0          1    8437.673028         42               высшее             0   \n",
       "1          1    4024.803754         36              среднее             1   \n",
       "2          0    5623.422610         33              Среднее             1   \n",
       "3          3    4124.747207         32              среднее             1   \n",
       "4          0   14177.753002         53              среднее             1   \n",
       "5          0     926.185831         27               высшее             0   \n",
       "6          0    2879.202052         43               высшее             0   \n",
       "7          0     152.779569         50              СРЕДНЕЕ             1   \n",
       "8          2    6929.865299         35               ВЫСШЕЕ             0   \n",
       "9          0    2188.756445         41              среднее             1   \n",
       "10         2    4171.483647         36               высшее             0   \n",
       "11         0     792.701887         40              среднее             1   \n",
       "12         0   15217.221094         65              среднее             1   \n",
       "13         0    1846.641941         54  неоконченное высшее             2   \n",
       "14         0    1844.956182         56               высшее             0   \n",
       "\n",
       "       family_status  family_status_id gender income_type  debt  \\\n",
       "0    женат / замужем                 0      F   сотрудник     0   \n",
       "1    женат / замужем                 0      F   сотрудник     0   \n",
       "2    женат / замужем                 0      M   сотрудник     0   \n",
       "3    женат / замужем                 0      M   сотрудник     0   \n",
       "4   гражданский брак                 1      F   пенсионер     0   \n",
       "5   гражданский брак                 1      M   компаньон     0   \n",
       "6    женат / замужем                 0      F   компаньон     0   \n",
       "7    женат / замужем                 0      M   сотрудник     0   \n",
       "8   гражданский брак                 1      F   сотрудник     0   \n",
       "9    женат / замужем                 0      M   сотрудник     0   \n",
       "10   женат / замужем                 0      M   компаньон     0   \n",
       "11   женат / замужем                 0      F   сотрудник     0   \n",
       "12  гражданский брак                 1      M   пенсионер     0   \n",
       "13   женат / замужем                 0      F   сотрудник     0   \n",
       "14  гражданский брак                 1      F   компаньон     1   \n",
       "\n",
       "     total_income                            purpose  \n",
       "0   253875.639453                      покупка жилья  \n",
       "1   112080.014102            приобретение автомобиля  \n",
       "2   145885.952297                      покупка жилья  \n",
       "3   267628.550329         дополнительное образование  \n",
       "4   158616.077870                    сыграть свадьбу  \n",
       "5   255763.565419                      покупка жилья  \n",
       "6   240525.971920                  операции с жильем  \n",
       "7   135823.934197                        образование  \n",
       "8    95856.832424              на проведение свадьбы  \n",
       "9   144425.938277            покупка жилья для семьи  \n",
       "10  113943.491460               покупка недвижимости  \n",
       "11   77069.234271  покупка коммерческой недвижимости  \n",
       "12  118514.486412                    сыграть свадьбу  \n",
       "13  130458.228857            приобретение автомобиля  \n",
       "14  165127.911772         покупка жилой недвижимости  "
      ]
     },
     "execution_count": 92,
     "metadata": {},
     "output_type": "execute_result"
    }
   ],
   "source": [
    "# создадим Series которое содержит медианы столбца 'days_employed'\n",
    "days_employed_grouped_median = clients.groupby('income_type')['days_employed'].median()\n",
    "# заменяем пропущенные значения на медианы\n",
    "for income_type in missing_clients['income_type'].unique():\n",
    "    clients.loc[(clients['income_type'] == income_type) & (clients['days_employed'].isnull() == True), 'days_employed'] = days_employed_grouped_median[income_type]\n",
    "\n",
    "# проверяем изменения\n",
    "clients.head(15)"
   ]
  },
  {
   "cell_type": "markdown",
   "metadata": {},
   "source": [
    "Теперь еще раз проверим наличие в данных столбцов с пропущенными значениями"
   ]
  },
  {
   "cell_type": "code",
   "execution_count": 93,
   "metadata": {},
   "outputs": [
    {
     "name": "stdout",
     "output_type": "stream",
     "text": [
      "Столбцы, имеющие пропущенные значения: []\n"
     ]
    }
   ],
   "source": [
    "cols_with_missing = [col for col in clients.columns if clients[col].isnull().any() == True]\n",
    "print('Столбцы, имеющие пропущенные значения: {}'.format(cols_with_missing))"
   ]
  },
  {
   "cell_type": "markdown",
   "metadata": {},
   "source": [
    "Пропущенные значения <b>отсутствуют</b>"
   ]
  },
  {
   "cell_type": "markdown",
   "metadata": {},
   "source": [
    "Также, в таблицы были найдены строки, в которых столбец <b>'dob_years'</b> имеет нулевые значения (0). Причиной этому может быть потеря данных. Восстановим эти данные с помощью медианы возраста для каждой группы клиентов относительно их статуса."
   ]
  },
  {
   "cell_type": "code",
   "execution_count": 94,
   "metadata": {},
   "outputs": [
    {
     "data": {
      "text/html": [
       "<div>\n",
       "<style scoped>\n",
       "    .dataframe tbody tr th:only-of-type {\n",
       "        vertical-align: middle;\n",
       "    }\n",
       "\n",
       "    .dataframe tbody tr th {\n",
       "        vertical-align: top;\n",
       "    }\n",
       "\n",
       "    .dataframe thead th {\n",
       "        text-align: right;\n",
       "    }\n",
       "</style>\n",
       "<table border=\"1\" class=\"dataframe\">\n",
       "  <thead>\n",
       "    <tr style=\"text-align: right;\">\n",
       "      <th></th>\n",
       "      <th>children</th>\n",
       "      <th>days_employed</th>\n",
       "      <th>dob_years</th>\n",
       "      <th>education</th>\n",
       "      <th>education_id</th>\n",
       "      <th>family_status</th>\n",
       "      <th>family_status_id</th>\n",
       "      <th>gender</th>\n",
       "      <th>income_type</th>\n",
       "      <th>debt</th>\n",
       "      <th>total_income</th>\n",
       "      <th>purpose</th>\n",
       "    </tr>\n",
       "  </thead>\n",
       "  <tbody>\n",
       "    <tr>\n",
       "      <td>99</td>\n",
       "      <td>0</td>\n",
       "      <td>14439.234121</td>\n",
       "      <td>0</td>\n",
       "      <td>Среднее</td>\n",
       "      <td>1</td>\n",
       "      <td>женат / замужем</td>\n",
       "      <td>0</td>\n",
       "      <td>F</td>\n",
       "      <td>пенсионер</td>\n",
       "      <td>0</td>\n",
       "      <td>71291.522491</td>\n",
       "      <td>автомобиль</td>\n",
       "    </tr>\n",
       "    <tr>\n",
       "      <td>149</td>\n",
       "      <td>0</td>\n",
       "      <td>2664.273168</td>\n",
       "      <td>0</td>\n",
       "      <td>среднее</td>\n",
       "      <td>1</td>\n",
       "      <td>в разводе</td>\n",
       "      <td>3</td>\n",
       "      <td>F</td>\n",
       "      <td>сотрудник</td>\n",
       "      <td>0</td>\n",
       "      <td>70176.435951</td>\n",
       "      <td>операции с жильем</td>\n",
       "    </tr>\n",
       "    <tr>\n",
       "      <td>270</td>\n",
       "      <td>3</td>\n",
       "      <td>1872.663186</td>\n",
       "      <td>0</td>\n",
       "      <td>среднее</td>\n",
       "      <td>1</td>\n",
       "      <td>женат / замужем</td>\n",
       "      <td>0</td>\n",
       "      <td>F</td>\n",
       "      <td>сотрудник</td>\n",
       "      <td>0</td>\n",
       "      <td>102166.458894</td>\n",
       "      <td>ремонт жилью</td>\n",
       "    </tr>\n",
       "    <tr>\n",
       "      <td>578</td>\n",
       "      <td>0</td>\n",
       "      <td>16577.356876</td>\n",
       "      <td>0</td>\n",
       "      <td>среднее</td>\n",
       "      <td>1</td>\n",
       "      <td>женат / замужем</td>\n",
       "      <td>0</td>\n",
       "      <td>F</td>\n",
       "      <td>пенсионер</td>\n",
       "      <td>0</td>\n",
       "      <td>97620.687042</td>\n",
       "      <td>строительство собственной недвижимости</td>\n",
       "    </tr>\n",
       "    <tr>\n",
       "      <td>1040</td>\n",
       "      <td>0</td>\n",
       "      <td>1158.029561</td>\n",
       "      <td>0</td>\n",
       "      <td>высшее</td>\n",
       "      <td>0</td>\n",
       "      <td>в разводе</td>\n",
       "      <td>3</td>\n",
       "      <td>F</td>\n",
       "      <td>компаньон</td>\n",
       "      <td>0</td>\n",
       "      <td>303994.134987</td>\n",
       "      <td>свой автомобиль</td>\n",
       "    </tr>\n",
       "    <tr>\n",
       "      <td>...</td>\n",
       "      <td>...</td>\n",
       "      <td>...</td>\n",
       "      <td>...</td>\n",
       "      <td>...</td>\n",
       "      <td>...</td>\n",
       "      <td>...</td>\n",
       "      <td>...</td>\n",
       "      <td>...</td>\n",
       "      <td>...</td>\n",
       "      <td>...</td>\n",
       "      <td>...</td>\n",
       "      <td>...</td>\n",
       "    </tr>\n",
       "    <tr>\n",
       "      <td>19829</td>\n",
       "      <td>0</td>\n",
       "      <td>1574.202821</td>\n",
       "      <td>0</td>\n",
       "      <td>среднее</td>\n",
       "      <td>1</td>\n",
       "      <td>женат / замужем</td>\n",
       "      <td>0</td>\n",
       "      <td>F</td>\n",
       "      <td>сотрудник</td>\n",
       "      <td>0</td>\n",
       "      <td>142594.396847</td>\n",
       "      <td>жилье</td>\n",
       "    </tr>\n",
       "    <tr>\n",
       "      <td>20462</td>\n",
       "      <td>0</td>\n",
       "      <td>14113.952856</td>\n",
       "      <td>0</td>\n",
       "      <td>среднее</td>\n",
       "      <td>1</td>\n",
       "      <td>женат / замужем</td>\n",
       "      <td>0</td>\n",
       "      <td>F</td>\n",
       "      <td>пенсионер</td>\n",
       "      <td>0</td>\n",
       "      <td>259193.920299</td>\n",
       "      <td>покупка своего жилья</td>\n",
       "    </tr>\n",
       "    <tr>\n",
       "      <td>20577</td>\n",
       "      <td>0</td>\n",
       "      <td>13822.552977</td>\n",
       "      <td>0</td>\n",
       "      <td>среднее</td>\n",
       "      <td>1</td>\n",
       "      <td>Не женат / не замужем</td>\n",
       "      <td>4</td>\n",
       "      <td>F</td>\n",
       "      <td>пенсионер</td>\n",
       "      <td>0</td>\n",
       "      <td>129788.762899</td>\n",
       "      <td>недвижимость</td>\n",
       "    </tr>\n",
       "    <tr>\n",
       "      <td>21179</td>\n",
       "      <td>2</td>\n",
       "      <td>108.967042</td>\n",
       "      <td>0</td>\n",
       "      <td>высшее</td>\n",
       "      <td>0</td>\n",
       "      <td>женат / замужем</td>\n",
       "      <td>0</td>\n",
       "      <td>M</td>\n",
       "      <td>компаньон</td>\n",
       "      <td>0</td>\n",
       "      <td>240702.007382</td>\n",
       "      <td>строительство жилой недвижимости</td>\n",
       "    </tr>\n",
       "    <tr>\n",
       "      <td>21313</td>\n",
       "      <td>0</td>\n",
       "      <td>1268.487728</td>\n",
       "      <td>0</td>\n",
       "      <td>среднее</td>\n",
       "      <td>1</td>\n",
       "      <td>Не женат / не замужем</td>\n",
       "      <td>4</td>\n",
       "      <td>M</td>\n",
       "      <td>сотрудник</td>\n",
       "      <td>0</td>\n",
       "      <td>152419.184851</td>\n",
       "      <td>операции с жильем</td>\n",
       "    </tr>\n",
       "  </tbody>\n",
       "</table>\n",
       "<p>101 rows × 12 columns</p>\n",
       "</div>"
      ],
      "text/plain": [
       "       children  days_employed  dob_years education  education_id  \\\n",
       "99            0   14439.234121          0   Среднее             1   \n",
       "149           0    2664.273168          0   среднее             1   \n",
       "270           3    1872.663186          0   среднее             1   \n",
       "578           0   16577.356876          0   среднее             1   \n",
       "1040          0    1158.029561          0    высшее             0   \n",
       "...         ...            ...        ...       ...           ...   \n",
       "19829         0    1574.202821          0   среднее             1   \n",
       "20462         0   14113.952856          0   среднее             1   \n",
       "20577         0   13822.552977          0   среднее             1   \n",
       "21179         2     108.967042          0    высшее             0   \n",
       "21313         0    1268.487728          0   среднее             1   \n",
       "\n",
       "               family_status  family_status_id gender income_type  debt  \\\n",
       "99           женат / замужем                 0      F   пенсионер     0   \n",
       "149                в разводе                 3      F   сотрудник     0   \n",
       "270          женат / замужем                 0      F   сотрудник     0   \n",
       "578          женат / замужем                 0      F   пенсионер     0   \n",
       "1040               в разводе                 3      F   компаньон     0   \n",
       "...                      ...               ...    ...         ...   ...   \n",
       "19829        женат / замужем                 0      F   сотрудник     0   \n",
       "20462        женат / замужем                 0      F   пенсионер     0   \n",
       "20577  Не женат / не замужем                 4      F   пенсионер     0   \n",
       "21179        женат / замужем                 0      M   компаньон     0   \n",
       "21313  Не женат / не замужем                 4      M   сотрудник     0   \n",
       "\n",
       "        total_income                                 purpose  \n",
       "99      71291.522491                              автомобиль  \n",
       "149     70176.435951                       операции с жильем  \n",
       "270    102166.458894                            ремонт жилью  \n",
       "578     97620.687042  строительство собственной недвижимости  \n",
       "1040   303994.134987                         свой автомобиль  \n",
       "...              ...                                     ...  \n",
       "19829  142594.396847                                   жилье  \n",
       "20462  259193.920299                    покупка своего жилья  \n",
       "20577  129788.762899                            недвижимость  \n",
       "21179  240702.007382        строительство жилой недвижимости  \n",
       "21313  152419.184851                       операции с жильем  \n",
       "\n",
       "[101 rows x 12 columns]"
      ]
     },
     "execution_count": 94,
     "metadata": {},
     "output_type": "execute_result"
    }
   ],
   "source": [
    "clients[clients['dob_years'] == 0]"
   ]
  },
  {
   "cell_type": "code",
   "execution_count": 95,
   "metadata": {},
   "outputs": [
    {
     "data": {
      "text/plain": [
       "income_type\n",
       "безработный        38.0\n",
       "в декрете          39.0\n",
       "госслужащий        40.0\n",
       "компаньон          39.0\n",
       "пенсионер          60.0\n",
       "предприниматель    42.5\n",
       "сотрудник          39.0\n",
       "студент            22.0\n",
       "Name: dob_years, dtype: float64"
      ]
     },
     "execution_count": 95,
     "metadata": {},
     "output_type": "execute_result"
    }
   ],
   "source": [
    "dob_years_grouped_median = clients.groupby('income_type')['dob_years'].median()\n",
    "dob_years_grouped_median"
   ]
  },
  {
   "cell_type": "markdown",
   "metadata": {},
   "source": [
    "Все выглядит вполне логично, даже возраст пенсионера совпал идеально. Заменяем нулевые значения."
   ]
  },
  {
   "cell_type": "code",
   "execution_count": 96,
   "metadata": {},
   "outputs": [
    {
     "data": {
      "text/html": [
       "<div>\n",
       "<style scoped>\n",
       "    .dataframe tbody tr th:only-of-type {\n",
       "        vertical-align: middle;\n",
       "    }\n",
       "\n",
       "    .dataframe tbody tr th {\n",
       "        vertical-align: top;\n",
       "    }\n",
       "\n",
       "    .dataframe thead th {\n",
       "        text-align: right;\n",
       "    }\n",
       "</style>\n",
       "<table border=\"1\" class=\"dataframe\">\n",
       "  <thead>\n",
       "    <tr style=\"text-align: right;\">\n",
       "      <th></th>\n",
       "      <th>children</th>\n",
       "      <th>days_employed</th>\n",
       "      <th>dob_years</th>\n",
       "      <th>education</th>\n",
       "      <th>education_id</th>\n",
       "      <th>family_status</th>\n",
       "      <th>family_status_id</th>\n",
       "      <th>gender</th>\n",
       "      <th>income_type</th>\n",
       "      <th>debt</th>\n",
       "      <th>total_income</th>\n",
       "      <th>purpose</th>\n",
       "    </tr>\n",
       "  </thead>\n",
       "  <tbody>\n",
       "  </tbody>\n",
       "</table>\n",
       "</div>"
      ],
      "text/plain": [
       "Empty DataFrame\n",
       "Columns: [children, days_employed, dob_years, education, education_id, family_status, family_status_id, gender, income_type, debt, total_income, purpose]\n",
       "Index: []"
      ]
     },
     "execution_count": 96,
     "metadata": {},
     "output_type": "execute_result"
    }
   ],
   "source": [
    "# заменяем нулевые значения медианами\n",
    "for income_type in missing_clients['income_type'].unique():\n",
    "    clients.loc[(clients['income_type'] == income_type) & (clients['dob_years'] == 0), 'dob_years'] = dob_years_grouped_median[income_type]\n",
    "\n",
    "# проверяем, остались ли клиенты, у которых возраст - 0\n",
    "clients[clients['dob_years'] == 0]"
   ]
  },
  {
   "cell_type": "markdown",
   "metadata": {},
   "source": [
    "Клиентов с нулевым возрастом не осталось. Далее в таблице были обнаружены нелогичные данные в столбце 'children'. У некоторых клиентов этот показатель составляет -1. Такого быть не может, дети либо есть (1, 2, 3 и т.д.), либо их нет (0). Допустим, что значения -1 означает, что детей нет. Заменим эти значения на 0."
   ]
  },
  {
   "cell_type": "code",
   "execution_count": 97,
   "metadata": {
    "scrolled": true
   },
   "outputs": [
    {
     "data": {
      "text/html": [
       "<div>\n",
       "<style scoped>\n",
       "    .dataframe tbody tr th:only-of-type {\n",
       "        vertical-align: middle;\n",
       "    }\n",
       "\n",
       "    .dataframe tbody tr th {\n",
       "        vertical-align: top;\n",
       "    }\n",
       "\n",
       "    .dataframe thead th {\n",
       "        text-align: right;\n",
       "    }\n",
       "</style>\n",
       "<table border=\"1\" class=\"dataframe\">\n",
       "  <thead>\n",
       "    <tr style=\"text-align: right;\">\n",
       "      <th></th>\n",
       "      <th>children</th>\n",
       "      <th>days_employed</th>\n",
       "      <th>dob_years</th>\n",
       "      <th>education</th>\n",
       "      <th>education_id</th>\n",
       "      <th>family_status</th>\n",
       "      <th>family_status_id</th>\n",
       "      <th>gender</th>\n",
       "      <th>income_type</th>\n",
       "      <th>debt</th>\n",
       "      <th>total_income</th>\n",
       "      <th>purpose</th>\n",
       "    </tr>\n",
       "  </thead>\n",
       "  <tbody>\n",
       "    <tr>\n",
       "      <td>291</td>\n",
       "      <td>-1</td>\n",
       "      <td>4417.703588</td>\n",
       "      <td>46.0</td>\n",
       "      <td>среднее</td>\n",
       "      <td>1</td>\n",
       "      <td>гражданский брак</td>\n",
       "      <td>1</td>\n",
       "      <td>F</td>\n",
       "      <td>сотрудник</td>\n",
       "      <td>0</td>\n",
       "      <td>102816.346412</td>\n",
       "      <td>профильное образование</td>\n",
       "    </tr>\n",
       "    <tr>\n",
       "      <td>705</td>\n",
       "      <td>-1</td>\n",
       "      <td>902.084528</td>\n",
       "      <td>50.0</td>\n",
       "      <td>среднее</td>\n",
       "      <td>1</td>\n",
       "      <td>женат / замужем</td>\n",
       "      <td>0</td>\n",
       "      <td>F</td>\n",
       "      <td>госслужащий</td>\n",
       "      <td>0</td>\n",
       "      <td>137882.899271</td>\n",
       "      <td>приобретение автомобиля</td>\n",
       "    </tr>\n",
       "    <tr>\n",
       "      <td>742</td>\n",
       "      <td>-1</td>\n",
       "      <td>3174.456205</td>\n",
       "      <td>57.0</td>\n",
       "      <td>среднее</td>\n",
       "      <td>1</td>\n",
       "      <td>женат / замужем</td>\n",
       "      <td>0</td>\n",
       "      <td>F</td>\n",
       "      <td>сотрудник</td>\n",
       "      <td>0</td>\n",
       "      <td>64268.044444</td>\n",
       "      <td>дополнительное образование</td>\n",
       "    </tr>\n",
       "    <tr>\n",
       "      <td>800</td>\n",
       "      <td>-1</td>\n",
       "      <td>14582.827176</td>\n",
       "      <td>54.0</td>\n",
       "      <td>среднее</td>\n",
       "      <td>1</td>\n",
       "      <td>Не женат / не замужем</td>\n",
       "      <td>4</td>\n",
       "      <td>F</td>\n",
       "      <td>пенсионер</td>\n",
       "      <td>0</td>\n",
       "      <td>86293.724153</td>\n",
       "      <td>дополнительное образование</td>\n",
       "    </tr>\n",
       "    <tr>\n",
       "      <td>941</td>\n",
       "      <td>-1</td>\n",
       "      <td>15217.221094</td>\n",
       "      <td>57.0</td>\n",
       "      <td>Среднее</td>\n",
       "      <td>1</td>\n",
       "      <td>женат / замужем</td>\n",
       "      <td>0</td>\n",
       "      <td>F</td>\n",
       "      <td>пенсионер</td>\n",
       "      <td>0</td>\n",
       "      <td>118514.486412</td>\n",
       "      <td>на покупку своего автомобиля</td>\n",
       "    </tr>\n",
       "    <tr>\n",
       "      <td>1363</td>\n",
       "      <td>-1</td>\n",
       "      <td>1195.264956</td>\n",
       "      <td>55.0</td>\n",
       "      <td>СРЕДНЕЕ</td>\n",
       "      <td>1</td>\n",
       "      <td>женат / замужем</td>\n",
       "      <td>0</td>\n",
       "      <td>F</td>\n",
       "      <td>компаньон</td>\n",
       "      <td>0</td>\n",
       "      <td>69550.699692</td>\n",
       "      <td>профильное образование</td>\n",
       "    </tr>\n",
       "    <tr>\n",
       "      <td>1929</td>\n",
       "      <td>-1</td>\n",
       "      <td>1461.303336</td>\n",
       "      <td>38.0</td>\n",
       "      <td>среднее</td>\n",
       "      <td>1</td>\n",
       "      <td>Не женат / не замужем</td>\n",
       "      <td>4</td>\n",
       "      <td>M</td>\n",
       "      <td>сотрудник</td>\n",
       "      <td>0</td>\n",
       "      <td>109121.569013</td>\n",
       "      <td>покупка жилья</td>\n",
       "    </tr>\n",
       "    <tr>\n",
       "      <td>2073</td>\n",
       "      <td>-1</td>\n",
       "      <td>2539.761232</td>\n",
       "      <td>42.0</td>\n",
       "      <td>среднее</td>\n",
       "      <td>1</td>\n",
       "      <td>в разводе</td>\n",
       "      <td>3</td>\n",
       "      <td>F</td>\n",
       "      <td>компаньон</td>\n",
       "      <td>0</td>\n",
       "      <td>162638.609373</td>\n",
       "      <td>покупка жилья</td>\n",
       "    </tr>\n",
       "    <tr>\n",
       "      <td>3814</td>\n",
       "      <td>-1</td>\n",
       "      <td>3045.290443</td>\n",
       "      <td>26.0</td>\n",
       "      <td>Среднее</td>\n",
       "      <td>1</td>\n",
       "      <td>гражданский брак</td>\n",
       "      <td>1</td>\n",
       "      <td>F</td>\n",
       "      <td>госслужащий</td>\n",
       "      <td>0</td>\n",
       "      <td>131892.785435</td>\n",
       "      <td>на проведение свадьбы</td>\n",
       "    </tr>\n",
       "    <tr>\n",
       "      <td>4201</td>\n",
       "      <td>-1</td>\n",
       "      <td>901.101738</td>\n",
       "      <td>41.0</td>\n",
       "      <td>среднее</td>\n",
       "      <td>1</td>\n",
       "      <td>женат / замужем</td>\n",
       "      <td>0</td>\n",
       "      <td>F</td>\n",
       "      <td>госслужащий</td>\n",
       "      <td>0</td>\n",
       "      <td>226375.766751</td>\n",
       "      <td>операции со своей недвижимостью</td>\n",
       "    </tr>\n",
       "    <tr>\n",
       "      <td>4402</td>\n",
       "      <td>-1</td>\n",
       "      <td>16583.387620</td>\n",
       "      <td>64.0</td>\n",
       "      <td>СРЕДНЕЕ</td>\n",
       "      <td>1</td>\n",
       "      <td>женат / замужем</td>\n",
       "      <td>0</td>\n",
       "      <td>F</td>\n",
       "      <td>пенсионер</td>\n",
       "      <td>0</td>\n",
       "      <td>163264.062064</td>\n",
       "      <td>покупка недвижимости</td>\n",
       "    </tr>\n",
       "    <tr>\n",
       "      <td>4542</td>\n",
       "      <td>-1</td>\n",
       "      <td>1811.899756</td>\n",
       "      <td>32.0</td>\n",
       "      <td>среднее</td>\n",
       "      <td>1</td>\n",
       "      <td>женат / замужем</td>\n",
       "      <td>0</td>\n",
       "      <td>F</td>\n",
       "      <td>сотрудник</td>\n",
       "      <td>0</td>\n",
       "      <td>160544.718446</td>\n",
       "      <td>образование</td>\n",
       "    </tr>\n",
       "    <tr>\n",
       "      <td>5272</td>\n",
       "      <td>-1</td>\n",
       "      <td>1143.485347</td>\n",
       "      <td>46.0</td>\n",
       "      <td>среднее</td>\n",
       "      <td>1</td>\n",
       "      <td>вдовец / вдова</td>\n",
       "      <td>2</td>\n",
       "      <td>F</td>\n",
       "      <td>сотрудник</td>\n",
       "      <td>0</td>\n",
       "      <td>278708.018820</td>\n",
       "      <td>покупка недвижимости</td>\n",
       "    </tr>\n",
       "    <tr>\n",
       "      <td>6013</td>\n",
       "      <td>-1</td>\n",
       "      <td>1361.258696</td>\n",
       "      <td>46.0</td>\n",
       "      <td>высшее</td>\n",
       "      <td>0</td>\n",
       "      <td>женат / замужем</td>\n",
       "      <td>0</td>\n",
       "      <td>F</td>\n",
       "      <td>сотрудник</td>\n",
       "      <td>0</td>\n",
       "      <td>143008.454914</td>\n",
       "      <td>строительство собственной недвижимости</td>\n",
       "    </tr>\n",
       "    <tr>\n",
       "      <td>6385</td>\n",
       "      <td>-1</td>\n",
       "      <td>15425.644843</td>\n",
       "      <td>48.0</td>\n",
       "      <td>среднее</td>\n",
       "      <td>1</td>\n",
       "      <td>вдовец / вдова</td>\n",
       "      <td>2</td>\n",
       "      <td>F</td>\n",
       "      <td>пенсионер</td>\n",
       "      <td>0</td>\n",
       "      <td>36052.447435</td>\n",
       "      <td>образование</td>\n",
       "    </tr>\n",
       "    <tr>\n",
       "      <td>7190</td>\n",
       "      <td>-1</td>\n",
       "      <td>5928.202068</td>\n",
       "      <td>34.0</td>\n",
       "      <td>СРЕДНЕЕ</td>\n",
       "      <td>1</td>\n",
       "      <td>женат / замужем</td>\n",
       "      <td>0</td>\n",
       "      <td>M</td>\n",
       "      <td>сотрудник</td>\n",
       "      <td>0</td>\n",
       "      <td>184315.121979</td>\n",
       "      <td>приобретение автомобиля</td>\n",
       "    </tr>\n",
       "    <tr>\n",
       "      <td>7278</td>\n",
       "      <td>-1</td>\n",
       "      <td>526.318451</td>\n",
       "      <td>51.0</td>\n",
       "      <td>среднее</td>\n",
       "      <td>1</td>\n",
       "      <td>женат / замужем</td>\n",
       "      <td>0</td>\n",
       "      <td>F</td>\n",
       "      <td>сотрудник</td>\n",
       "      <td>0</td>\n",
       "      <td>146928.769439</td>\n",
       "      <td>операции с коммерческой недвижимостью</td>\n",
       "    </tr>\n",
       "    <tr>\n",
       "      <td>7615</td>\n",
       "      <td>-1</td>\n",
       "      <td>1574.202821</td>\n",
       "      <td>35.0</td>\n",
       "      <td>среднее</td>\n",
       "      <td>1</td>\n",
       "      <td>женат / замужем</td>\n",
       "      <td>0</td>\n",
       "      <td>M</td>\n",
       "      <td>сотрудник</td>\n",
       "      <td>0</td>\n",
       "      <td>142594.396847</td>\n",
       "      <td>образование</td>\n",
       "    </tr>\n",
       "    <tr>\n",
       "      <td>7685</td>\n",
       "      <td>-1</td>\n",
       "      <td>3237.360455</td>\n",
       "      <td>53.0</td>\n",
       "      <td>среднее</td>\n",
       "      <td>1</td>\n",
       "      <td>вдовец / вдова</td>\n",
       "      <td>2</td>\n",
       "      <td>F</td>\n",
       "      <td>сотрудник</td>\n",
       "      <td>0</td>\n",
       "      <td>159676.174958</td>\n",
       "      <td>строительство жилой недвижимости</td>\n",
       "    </tr>\n",
       "    <tr>\n",
       "      <td>8229</td>\n",
       "      <td>-1</td>\n",
       "      <td>1803.441074</td>\n",
       "      <td>54.0</td>\n",
       "      <td>высшее</td>\n",
       "      <td>0</td>\n",
       "      <td>женат / замужем</td>\n",
       "      <td>0</td>\n",
       "      <td>F</td>\n",
       "      <td>компаньон</td>\n",
       "      <td>0</td>\n",
       "      <td>138809.082930</td>\n",
       "      <td>покупка недвижимости</td>\n",
       "    </tr>\n",
       "    <tr>\n",
       "      <td>8251</td>\n",
       "      <td>-1</td>\n",
       "      <td>3113.998449</td>\n",
       "      <td>31.0</td>\n",
       "      <td>среднее</td>\n",
       "      <td>1</td>\n",
       "      <td>гражданский брак</td>\n",
       "      <td>1</td>\n",
       "      <td>F</td>\n",
       "      <td>сотрудник</td>\n",
       "      <td>0</td>\n",
       "      <td>54412.056005</td>\n",
       "      <td>свой автомобиль</td>\n",
       "    </tr>\n",
       "    <tr>\n",
       "      <td>8561</td>\n",
       "      <td>-1</td>\n",
       "      <td>195.479496</td>\n",
       "      <td>31.0</td>\n",
       "      <td>среднее</td>\n",
       "      <td>1</td>\n",
       "      <td>женат / замужем</td>\n",
       "      <td>0</td>\n",
       "      <td>F</td>\n",
       "      <td>сотрудник</td>\n",
       "      <td>0</td>\n",
       "      <td>145577.881522</td>\n",
       "      <td>ремонт жилью</td>\n",
       "    </tr>\n",
       "    <tr>\n",
       "      <td>9565</td>\n",
       "      <td>-1</td>\n",
       "      <td>2896.629686</td>\n",
       "      <td>34.0</td>\n",
       "      <td>высшее</td>\n",
       "      <td>0</td>\n",
       "      <td>женат / замужем</td>\n",
       "      <td>0</td>\n",
       "      <td>M</td>\n",
       "      <td>сотрудник</td>\n",
       "      <td>0</td>\n",
       "      <td>126754.656529</td>\n",
       "      <td>операции с недвижимостью</td>\n",
       "    </tr>\n",
       "    <tr>\n",
       "      <td>9574</td>\n",
       "      <td>-1</td>\n",
       "      <td>2710.419901</td>\n",
       "      <td>28.0</td>\n",
       "      <td>высшее</td>\n",
       "      <td>0</td>\n",
       "      <td>женат / замужем</td>\n",
       "      <td>0</td>\n",
       "      <td>M</td>\n",
       "      <td>госслужащий</td>\n",
       "      <td>0</td>\n",
       "      <td>303137.161001</td>\n",
       "      <td>получение дополнительного образования</td>\n",
       "    </tr>\n",
       "    <tr>\n",
       "      <td>10177</td>\n",
       "      <td>-1</td>\n",
       "      <td>1743.604011</td>\n",
       "      <td>37.0</td>\n",
       "      <td>среднее</td>\n",
       "      <td>1</td>\n",
       "      <td>женат / замужем</td>\n",
       "      <td>0</td>\n",
       "      <td>M</td>\n",
       "      <td>сотрудник</td>\n",
       "      <td>0</td>\n",
       "      <td>310367.509001</td>\n",
       "      <td>получение образования</td>\n",
       "    </tr>\n",
       "    <tr>\n",
       "      <td>10365</td>\n",
       "      <td>-1</td>\n",
       "      <td>14407.255248</td>\n",
       "      <td>63.0</td>\n",
       "      <td>ВЫСШЕЕ</td>\n",
       "      <td>0</td>\n",
       "      <td>вдовец / вдова</td>\n",
       "      <td>2</td>\n",
       "      <td>F</td>\n",
       "      <td>пенсионер</td>\n",
       "      <td>0</td>\n",
       "      <td>170762.751325</td>\n",
       "      <td>строительство жилой недвижимости</td>\n",
       "    </tr>\n",
       "    <tr>\n",
       "      <td>10918</td>\n",
       "      <td>-1</td>\n",
       "      <td>14187.459973</td>\n",
       "      <td>50.0</td>\n",
       "      <td>среднее</td>\n",
       "      <td>1</td>\n",
       "      <td>женат / замужем</td>\n",
       "      <td>0</td>\n",
       "      <td>M</td>\n",
       "      <td>пенсионер</td>\n",
       "      <td>0</td>\n",
       "      <td>170762.773162</td>\n",
       "      <td>покупка своего жилья</td>\n",
       "    </tr>\n",
       "    <tr>\n",
       "      <td>11109</td>\n",
       "      <td>-1</td>\n",
       "      <td>3438.463024</td>\n",
       "      <td>59.0</td>\n",
       "      <td>среднее</td>\n",
       "      <td>1</td>\n",
       "      <td>женат / замужем</td>\n",
       "      <td>0</td>\n",
       "      <td>F</td>\n",
       "      <td>сотрудник</td>\n",
       "      <td>0</td>\n",
       "      <td>219874.012345</td>\n",
       "      <td>операции с жильем</td>\n",
       "    </tr>\n",
       "    <tr>\n",
       "      <td>11268</td>\n",
       "      <td>-1</td>\n",
       "      <td>1048.782203</td>\n",
       "      <td>30.0</td>\n",
       "      <td>высшее</td>\n",
       "      <td>0</td>\n",
       "      <td>гражданский брак</td>\n",
       "      <td>1</td>\n",
       "      <td>F</td>\n",
       "      <td>компаньон</td>\n",
       "      <td>0</td>\n",
       "      <td>321603.700207</td>\n",
       "      <td>на покупку автомобиля</td>\n",
       "    </tr>\n",
       "    <tr>\n",
       "      <td>11617</td>\n",
       "      <td>-1</td>\n",
       "      <td>370.827130</td>\n",
       "      <td>27.0</td>\n",
       "      <td>среднее</td>\n",
       "      <td>1</td>\n",
       "      <td>женат / замужем</td>\n",
       "      <td>0</td>\n",
       "      <td>F</td>\n",
       "      <td>компаньон</td>\n",
       "      <td>0</td>\n",
       "      <td>164591.260338</td>\n",
       "      <td>покупка жилья для сдачи</td>\n",
       "    </tr>\n",
       "    <tr>\n",
       "      <td>12304</td>\n",
       "      <td>-1</td>\n",
       "      <td>8493.101252</td>\n",
       "      <td>61.0</td>\n",
       "      <td>неоконченное высшее</td>\n",
       "      <td>2</td>\n",
       "      <td>женат / замужем</td>\n",
       "      <td>0</td>\n",
       "      <td>M</td>\n",
       "      <td>сотрудник</td>\n",
       "      <td>0</td>\n",
       "      <td>315006.182056</td>\n",
       "      <td>недвижимость</td>\n",
       "    </tr>\n",
       "    <tr>\n",
       "      <td>13786</td>\n",
       "      <td>-1</td>\n",
       "      <td>1547.382223</td>\n",
       "      <td>42.0</td>\n",
       "      <td>среднее</td>\n",
       "      <td>1</td>\n",
       "      <td>Не женат / не замужем</td>\n",
       "      <td>4</td>\n",
       "      <td>M</td>\n",
       "      <td>компаньон</td>\n",
       "      <td>0</td>\n",
       "      <td>172357.950966</td>\n",
       "      <td>автомобиль</td>\n",
       "    </tr>\n",
       "    <tr>\n",
       "      <td>14357</td>\n",
       "      <td>-1</td>\n",
       "      <td>268.337037</td>\n",
       "      <td>23.0</td>\n",
       "      <td>среднее</td>\n",
       "      <td>1</td>\n",
       "      <td>в разводе</td>\n",
       "      <td>3</td>\n",
       "      <td>F</td>\n",
       "      <td>компаньон</td>\n",
       "      <td>0</td>\n",
       "      <td>92257.579312</td>\n",
       "      <td>покупка жилой недвижимости</td>\n",
       "    </tr>\n",
       "    <tr>\n",
       "      <td>15147</td>\n",
       "      <td>-1</td>\n",
       "      <td>9851.184337</td>\n",
       "      <td>44.0</td>\n",
       "      <td>среднее</td>\n",
       "      <td>1</td>\n",
       "      <td>в разводе</td>\n",
       "      <td>3</td>\n",
       "      <td>F</td>\n",
       "      <td>сотрудник</td>\n",
       "      <td>0</td>\n",
       "      <td>110990.810581</td>\n",
       "      <td>свой автомобиль</td>\n",
       "    </tr>\n",
       "    <tr>\n",
       "      <td>15435</td>\n",
       "      <td>-1</td>\n",
       "      <td>3614.220232</td>\n",
       "      <td>40.0</td>\n",
       "      <td>высшее</td>\n",
       "      <td>0</td>\n",
       "      <td>гражданский брак</td>\n",
       "      <td>1</td>\n",
       "      <td>F</td>\n",
       "      <td>сотрудник</td>\n",
       "      <td>0</td>\n",
       "      <td>98127.537462</td>\n",
       "      <td>сыграть свадьбу</td>\n",
       "    </tr>\n",
       "    <tr>\n",
       "      <td>16129</td>\n",
       "      <td>-1</td>\n",
       "      <td>457.861760</td>\n",
       "      <td>33.0</td>\n",
       "      <td>среднее</td>\n",
       "      <td>1</td>\n",
       "      <td>женат / замужем</td>\n",
       "      <td>0</td>\n",
       "      <td>F</td>\n",
       "      <td>сотрудник</td>\n",
       "      <td>1</td>\n",
       "      <td>149641.079451</td>\n",
       "      <td>автомобиль</td>\n",
       "    </tr>\n",
       "    <tr>\n",
       "      <td>16265</td>\n",
       "      <td>-1</td>\n",
       "      <td>2802.218127</td>\n",
       "      <td>40.0</td>\n",
       "      <td>высшее</td>\n",
       "      <td>0</td>\n",
       "      <td>женат / замужем</td>\n",
       "      <td>0</td>\n",
       "      <td>M</td>\n",
       "      <td>сотрудник</td>\n",
       "      <td>0</td>\n",
       "      <td>111984.472021</td>\n",
       "      <td>покупка жилья</td>\n",
       "    </tr>\n",
       "    <tr>\n",
       "      <td>17095</td>\n",
       "      <td>-1</td>\n",
       "      <td>2809.693200</td>\n",
       "      <td>34.0</td>\n",
       "      <td>среднее</td>\n",
       "      <td>1</td>\n",
       "      <td>женат / замужем</td>\n",
       "      <td>0</td>\n",
       "      <td>F</td>\n",
       "      <td>сотрудник</td>\n",
       "      <td>0</td>\n",
       "      <td>182543.890127</td>\n",
       "      <td>на покупку подержанного автомобиля</td>\n",
       "    </tr>\n",
       "    <tr>\n",
       "      <td>17429</td>\n",
       "      <td>-1</td>\n",
       "      <td>895.379738</td>\n",
       "      <td>37.0</td>\n",
       "      <td>среднее</td>\n",
       "      <td>1</td>\n",
       "      <td>женат / замужем</td>\n",
       "      <td>0</td>\n",
       "      <td>F</td>\n",
       "      <td>компаньон</td>\n",
       "      <td>0</td>\n",
       "      <td>214814.018780</td>\n",
       "      <td>жилье</td>\n",
       "    </tr>\n",
       "    <tr>\n",
       "      <td>17657</td>\n",
       "      <td>-1</td>\n",
       "      <td>4571.957475</td>\n",
       "      <td>41.0</td>\n",
       "      <td>среднее</td>\n",
       "      <td>1</td>\n",
       "      <td>женат / замужем</td>\n",
       "      <td>0</td>\n",
       "      <td>F</td>\n",
       "      <td>сотрудник</td>\n",
       "      <td>0</td>\n",
       "      <td>122105.415823</td>\n",
       "      <td>операции со своей недвижимостью</td>\n",
       "    </tr>\n",
       "    <tr>\n",
       "      <td>18219</td>\n",
       "      <td>-1</td>\n",
       "      <td>3575.215641</td>\n",
       "      <td>33.0</td>\n",
       "      <td>среднее</td>\n",
       "      <td>1</td>\n",
       "      <td>женат / замужем</td>\n",
       "      <td>0</td>\n",
       "      <td>F</td>\n",
       "      <td>сотрудник</td>\n",
       "      <td>0</td>\n",
       "      <td>128362.023879</td>\n",
       "      <td>высшее образование</td>\n",
       "    </tr>\n",
       "    <tr>\n",
       "      <td>19100</td>\n",
       "      <td>-1</td>\n",
       "      <td>617.246968</td>\n",
       "      <td>38.0</td>\n",
       "      <td>среднее</td>\n",
       "      <td>1</td>\n",
       "      <td>Не женат / не замужем</td>\n",
       "      <td>4</td>\n",
       "      <td>M</td>\n",
       "      <td>сотрудник</td>\n",
       "      <td>0</td>\n",
       "      <td>122205.497527</td>\n",
       "      <td>строительство жилой недвижимости</td>\n",
       "    </tr>\n",
       "    <tr>\n",
       "      <td>19366</td>\n",
       "      <td>-1</td>\n",
       "      <td>372.034749</td>\n",
       "      <td>43.0</td>\n",
       "      <td>СРЕДНЕЕ</td>\n",
       "      <td>1</td>\n",
       "      <td>женат / замужем</td>\n",
       "      <td>0</td>\n",
       "      <td>M</td>\n",
       "      <td>сотрудник</td>\n",
       "      <td>0</td>\n",
       "      <td>155588.766795</td>\n",
       "      <td>сделка с подержанным автомобилем</td>\n",
       "    </tr>\n",
       "    <tr>\n",
       "      <td>19417</td>\n",
       "      <td>-1</td>\n",
       "      <td>14597.531676</td>\n",
       "      <td>28.0</td>\n",
       "      <td>среднее</td>\n",
       "      <td>1</td>\n",
       "      <td>в разводе</td>\n",
       "      <td>3</td>\n",
       "      <td>F</td>\n",
       "      <td>пенсионер</td>\n",
       "      <td>0</td>\n",
       "      <td>52872.993654</td>\n",
       "      <td>автомобили</td>\n",
       "    </tr>\n",
       "    <tr>\n",
       "      <td>20393</td>\n",
       "      <td>-1</td>\n",
       "      <td>14798.212801</td>\n",
       "      <td>69.0</td>\n",
       "      <td>среднее</td>\n",
       "      <td>1</td>\n",
       "      <td>Не женат / не замужем</td>\n",
       "      <td>4</td>\n",
       "      <td>F</td>\n",
       "      <td>пенсионер</td>\n",
       "      <td>0</td>\n",
       "      <td>116521.045858</td>\n",
       "      <td>операции с недвижимостью</td>\n",
       "    </tr>\n",
       "    <tr>\n",
       "      <td>20717</td>\n",
       "      <td>-1</td>\n",
       "      <td>661.822321</td>\n",
       "      <td>32.0</td>\n",
       "      <td>высшее</td>\n",
       "      <td>0</td>\n",
       "      <td>женат / замужем</td>\n",
       "      <td>0</td>\n",
       "      <td>F</td>\n",
       "      <td>сотрудник</td>\n",
       "      <td>0</td>\n",
       "      <td>137405.384917</td>\n",
       "      <td>покупка жилой недвижимости</td>\n",
       "    </tr>\n",
       "    <tr>\n",
       "      <td>21140</td>\n",
       "      <td>-1</td>\n",
       "      <td>1422.668059</td>\n",
       "      <td>44.0</td>\n",
       "      <td>среднее</td>\n",
       "      <td>1</td>\n",
       "      <td>женат / замужем</td>\n",
       "      <td>0</td>\n",
       "      <td>F</td>\n",
       "      <td>компаньон</td>\n",
       "      <td>0</td>\n",
       "      <td>169562.091999</td>\n",
       "      <td>операции со своей недвижимостью</td>\n",
       "    </tr>\n",
       "  </tbody>\n",
       "</table>\n",
       "</div>"
      ],
      "text/plain": [
       "       children  days_employed  dob_years            education  education_id  \\\n",
       "291          -1    4417.703588       46.0              среднее             1   \n",
       "705          -1     902.084528       50.0              среднее             1   \n",
       "742          -1    3174.456205       57.0              среднее             1   \n",
       "800          -1   14582.827176       54.0              среднее             1   \n",
       "941          -1   15217.221094       57.0              Среднее             1   \n",
       "1363         -1    1195.264956       55.0              СРЕДНЕЕ             1   \n",
       "1929         -1    1461.303336       38.0              среднее             1   \n",
       "2073         -1    2539.761232       42.0              среднее             1   \n",
       "3814         -1    3045.290443       26.0              Среднее             1   \n",
       "4201         -1     901.101738       41.0              среднее             1   \n",
       "4402         -1   16583.387620       64.0              СРЕДНЕЕ             1   \n",
       "4542         -1    1811.899756       32.0              среднее             1   \n",
       "5272         -1    1143.485347       46.0              среднее             1   \n",
       "6013         -1    1361.258696       46.0               высшее             0   \n",
       "6385         -1   15425.644843       48.0              среднее             1   \n",
       "7190         -1    5928.202068       34.0              СРЕДНЕЕ             1   \n",
       "7278         -1     526.318451       51.0              среднее             1   \n",
       "7615         -1    1574.202821       35.0              среднее             1   \n",
       "7685         -1    3237.360455       53.0              среднее             1   \n",
       "8229         -1    1803.441074       54.0               высшее             0   \n",
       "8251         -1    3113.998449       31.0              среднее             1   \n",
       "8561         -1     195.479496       31.0              среднее             1   \n",
       "9565         -1    2896.629686       34.0               высшее             0   \n",
       "9574         -1    2710.419901       28.0               высшее             0   \n",
       "10177        -1    1743.604011       37.0              среднее             1   \n",
       "10365        -1   14407.255248       63.0               ВЫСШЕЕ             0   \n",
       "10918        -1   14187.459973       50.0              среднее             1   \n",
       "11109        -1    3438.463024       59.0              среднее             1   \n",
       "11268        -1    1048.782203       30.0               высшее             0   \n",
       "11617        -1     370.827130       27.0              среднее             1   \n",
       "12304        -1    8493.101252       61.0  неоконченное высшее             2   \n",
       "13786        -1    1547.382223       42.0              среднее             1   \n",
       "14357        -1     268.337037       23.0              среднее             1   \n",
       "15147        -1    9851.184337       44.0              среднее             1   \n",
       "15435        -1    3614.220232       40.0               высшее             0   \n",
       "16129        -1     457.861760       33.0              среднее             1   \n",
       "16265        -1    2802.218127       40.0               высшее             0   \n",
       "17095        -1    2809.693200       34.0              среднее             1   \n",
       "17429        -1     895.379738       37.0              среднее             1   \n",
       "17657        -1    4571.957475       41.0              среднее             1   \n",
       "18219        -1    3575.215641       33.0              среднее             1   \n",
       "19100        -1     617.246968       38.0              среднее             1   \n",
       "19366        -1     372.034749       43.0              СРЕДНЕЕ             1   \n",
       "19417        -1   14597.531676       28.0              среднее             1   \n",
       "20393        -1   14798.212801       69.0              среднее             1   \n",
       "20717        -1     661.822321       32.0               высшее             0   \n",
       "21140        -1    1422.668059       44.0              среднее             1   \n",
       "\n",
       "               family_status  family_status_id gender  income_type  debt  \\\n",
       "291         гражданский брак                 1      F    сотрудник     0   \n",
       "705          женат / замужем                 0      F  госслужащий     0   \n",
       "742          женат / замужем                 0      F    сотрудник     0   \n",
       "800    Не женат / не замужем                 4      F    пенсионер     0   \n",
       "941          женат / замужем                 0      F    пенсионер     0   \n",
       "1363         женат / замужем                 0      F    компаньон     0   \n",
       "1929   Не женат / не замужем                 4      M    сотрудник     0   \n",
       "2073               в разводе                 3      F    компаньон     0   \n",
       "3814        гражданский брак                 1      F  госслужащий     0   \n",
       "4201         женат / замужем                 0      F  госслужащий     0   \n",
       "4402         женат / замужем                 0      F    пенсионер     0   \n",
       "4542         женат / замужем                 0      F    сотрудник     0   \n",
       "5272          вдовец / вдова                 2      F    сотрудник     0   \n",
       "6013         женат / замужем                 0      F    сотрудник     0   \n",
       "6385          вдовец / вдова                 2      F    пенсионер     0   \n",
       "7190         женат / замужем                 0      M    сотрудник     0   \n",
       "7278         женат / замужем                 0      F    сотрудник     0   \n",
       "7615         женат / замужем                 0      M    сотрудник     0   \n",
       "7685          вдовец / вдова                 2      F    сотрудник     0   \n",
       "8229         женат / замужем                 0      F    компаньон     0   \n",
       "8251        гражданский брак                 1      F    сотрудник     0   \n",
       "8561         женат / замужем                 0      F    сотрудник     0   \n",
       "9565         женат / замужем                 0      M    сотрудник     0   \n",
       "9574         женат / замужем                 0      M  госслужащий     0   \n",
       "10177        женат / замужем                 0      M    сотрудник     0   \n",
       "10365         вдовец / вдова                 2      F    пенсионер     0   \n",
       "10918        женат / замужем                 0      M    пенсионер     0   \n",
       "11109        женат / замужем                 0      F    сотрудник     0   \n",
       "11268       гражданский брак                 1      F    компаньон     0   \n",
       "11617        женат / замужем                 0      F    компаньон     0   \n",
       "12304        женат / замужем                 0      M    сотрудник     0   \n",
       "13786  Не женат / не замужем                 4      M    компаньон     0   \n",
       "14357              в разводе                 3      F    компаньон     0   \n",
       "15147              в разводе                 3      F    сотрудник     0   \n",
       "15435       гражданский брак                 1      F    сотрудник     0   \n",
       "16129        женат / замужем                 0      F    сотрудник     1   \n",
       "16265        женат / замужем                 0      M    сотрудник     0   \n",
       "17095        женат / замужем                 0      F    сотрудник     0   \n",
       "17429        женат / замужем                 0      F    компаньон     0   \n",
       "17657        женат / замужем                 0      F    сотрудник     0   \n",
       "18219        женат / замужем                 0      F    сотрудник     0   \n",
       "19100  Не женат / не замужем                 4      M    сотрудник     0   \n",
       "19366        женат / замужем                 0      M    сотрудник     0   \n",
       "19417              в разводе                 3      F    пенсионер     0   \n",
       "20393  Не женат / не замужем                 4      F    пенсионер     0   \n",
       "20717        женат / замужем                 0      F    сотрудник     0   \n",
       "21140        женат / замужем                 0      F    компаньон     0   \n",
       "\n",
       "        total_income                                 purpose  \n",
       "291    102816.346412                  профильное образование  \n",
       "705    137882.899271                 приобретение автомобиля  \n",
       "742     64268.044444              дополнительное образование  \n",
       "800     86293.724153              дополнительное образование  \n",
       "941    118514.486412            на покупку своего автомобиля  \n",
       "1363    69550.699692                  профильное образование  \n",
       "1929   109121.569013                           покупка жилья  \n",
       "2073   162638.609373                           покупка жилья  \n",
       "3814   131892.785435                   на проведение свадьбы  \n",
       "4201   226375.766751         операции со своей недвижимостью  \n",
       "4402   163264.062064                    покупка недвижимости  \n",
       "4542   160544.718446                             образование  \n",
       "5272   278708.018820                    покупка недвижимости  \n",
       "6013   143008.454914  строительство собственной недвижимости  \n",
       "6385    36052.447435                             образование  \n",
       "7190   184315.121979                 приобретение автомобиля  \n",
       "7278   146928.769439   операции с коммерческой недвижимостью  \n",
       "7615   142594.396847                             образование  \n",
       "7685   159676.174958        строительство жилой недвижимости  \n",
       "8229   138809.082930                    покупка недвижимости  \n",
       "8251    54412.056005                         свой автомобиль  \n",
       "8561   145577.881522                            ремонт жилью  \n",
       "9565   126754.656529                операции с недвижимостью  \n",
       "9574   303137.161001   получение дополнительного образования  \n",
       "10177  310367.509001                   получение образования  \n",
       "10365  170762.751325        строительство жилой недвижимости  \n",
       "10918  170762.773162                    покупка своего жилья  \n",
       "11109  219874.012345                       операции с жильем  \n",
       "11268  321603.700207                   на покупку автомобиля  \n",
       "11617  164591.260338                 покупка жилья для сдачи  \n",
       "12304  315006.182056                            недвижимость  \n",
       "13786  172357.950966                              автомобиль  \n",
       "14357   92257.579312              покупка жилой недвижимости  \n",
       "15147  110990.810581                         свой автомобиль  \n",
       "15435   98127.537462                         сыграть свадьбу  \n",
       "16129  149641.079451                              автомобиль  \n",
       "16265  111984.472021                           покупка жилья  \n",
       "17095  182543.890127      на покупку подержанного автомобиля  \n",
       "17429  214814.018780                                   жилье  \n",
       "17657  122105.415823         операции со своей недвижимостью  \n",
       "18219  128362.023879                      высшее образование  \n",
       "19100  122205.497527        строительство жилой недвижимости  \n",
       "19366  155588.766795        сделка с подержанным автомобилем  \n",
       "19417   52872.993654                              автомобили  \n",
       "20393  116521.045858                операции с недвижимостью  \n",
       "20717  137405.384917              покупка жилой недвижимости  \n",
       "21140  169562.091999         операции со своей недвижимостью  "
      ]
     },
     "execution_count": 97,
     "metadata": {},
     "output_type": "execute_result"
    }
   ],
   "source": [
    "clients[clients['children'] == -1]"
   ]
  },
  {
   "cell_type": "code",
   "execution_count": 98,
   "metadata": {},
   "outputs": [
    {
     "data": {
      "text/html": [
       "<div>\n",
       "<style scoped>\n",
       "    .dataframe tbody tr th:only-of-type {\n",
       "        vertical-align: middle;\n",
       "    }\n",
       "\n",
       "    .dataframe tbody tr th {\n",
       "        vertical-align: top;\n",
       "    }\n",
       "\n",
       "    .dataframe thead th {\n",
       "        text-align: right;\n",
       "    }\n",
       "</style>\n",
       "<table border=\"1\" class=\"dataframe\">\n",
       "  <thead>\n",
       "    <tr style=\"text-align: right;\">\n",
       "      <th></th>\n",
       "      <th>children</th>\n",
       "      <th>days_employed</th>\n",
       "      <th>dob_years</th>\n",
       "      <th>education</th>\n",
       "      <th>education_id</th>\n",
       "      <th>family_status</th>\n",
       "      <th>family_status_id</th>\n",
       "      <th>gender</th>\n",
       "      <th>income_type</th>\n",
       "      <th>debt</th>\n",
       "      <th>total_income</th>\n",
       "      <th>purpose</th>\n",
       "    </tr>\n",
       "  </thead>\n",
       "  <tbody>\n",
       "  </tbody>\n",
       "</table>\n",
       "</div>"
      ],
      "text/plain": [
       "Empty DataFrame\n",
       "Columns: [children, days_employed, dob_years, education, education_id, family_status, family_status_id, gender, income_type, debt, total_income, purpose]\n",
       "Index: []"
      ]
     },
     "execution_count": 98,
     "metadata": {},
     "output_type": "execute_result"
    }
   ],
   "source": [
    "# заменяем значения -1 на 0\n",
    "clients['children'] = clients['children'].replace(-1, 0)\n",
    "# проверяем, остались ли отрицательные значения для столбца 'children'\n",
    "clients[clients['children'] == -1]"
   ]
  },
  {
   "cell_type": "markdown",
   "metadata": {},
   "source": [
    "Также, в таблице были найдены <b>совершенно нелогичные данные</b>, которые лучше не использовать для выводов. Например, 22-х летний клиент, который имеет статус \"пенсионер\". Или \"стаж труда\" составляет больше, чем возраст клиента, или означает, что клиент работал с 12, 14, 16 лет. Стаж труда принято официально считать с 18 лет. В связи с нахождением таких данных, введем критерии для отбора <b>\"нелогичных\"</b> данных, которые лучше не использовать для выводов:\n",
    "- \"пенсионеры\" должны быть старше 45 лет (в условиях реального мира существуют пенсионные программы, например, для военнослужащих или других госслужащих, которые выходят на пенсию гораздно раньше обычных сотрудников)\n",
    "- \"стаж труда\" должен соответствовать условию: \"возраст\" - \"стаж труда\" >= 18."
   ]
  },
  {
   "cell_type": "code",
   "execution_count": 99,
   "metadata": {
    "scrolled": true
   },
   "outputs": [
    {
     "data": {
      "text/html": [
       "<div>\n",
       "<style scoped>\n",
       "    .dataframe tbody tr th:only-of-type {\n",
       "        vertical-align: middle;\n",
       "    }\n",
       "\n",
       "    .dataframe tbody tr th {\n",
       "        vertical-align: top;\n",
       "    }\n",
       "\n",
       "    .dataframe thead th {\n",
       "        text-align: right;\n",
       "    }\n",
       "</style>\n",
       "<table border=\"1\" class=\"dataframe\">\n",
       "  <thead>\n",
       "    <tr style=\"text-align: right;\">\n",
       "      <th></th>\n",
       "      <th>children</th>\n",
       "      <th>days_employed</th>\n",
       "      <th>dob_years</th>\n",
       "      <th>education</th>\n",
       "      <th>education_id</th>\n",
       "      <th>family_status</th>\n",
       "      <th>family_status_id</th>\n",
       "      <th>gender</th>\n",
       "      <th>income_type</th>\n",
       "      <th>debt</th>\n",
       "      <th>total_income</th>\n",
       "      <th>purpose</th>\n",
       "    </tr>\n",
       "  </thead>\n",
       "  <tbody>\n",
       "    <tr>\n",
       "      <td>157</td>\n",
       "      <td>0</td>\n",
       "      <td>14517.251167</td>\n",
       "      <td>38.0</td>\n",
       "      <td>среднее</td>\n",
       "      <td>1</td>\n",
       "      <td>женат / замужем</td>\n",
       "      <td>0</td>\n",
       "      <td>F</td>\n",
       "      <td>пенсионер</td>\n",
       "      <td>1</td>\n",
       "      <td>113560.650035</td>\n",
       "      <td>сделка с автомобилем</td>\n",
       "    </tr>\n",
       "    <tr>\n",
       "      <td>311</td>\n",
       "      <td>0</td>\n",
       "      <td>14759.113178</td>\n",
       "      <td>44.0</td>\n",
       "      <td>Среднее</td>\n",
       "      <td>1</td>\n",
       "      <td>женат / замужем</td>\n",
       "      <td>0</td>\n",
       "      <td>F</td>\n",
       "      <td>пенсионер</td>\n",
       "      <td>0</td>\n",
       "      <td>47457.979961</td>\n",
       "      <td>заняться высшим образованием</td>\n",
       "    </tr>\n",
       "    <tr>\n",
       "      <td>711</td>\n",
       "      <td>2</td>\n",
       "      <td>14160.579474</td>\n",
       "      <td>44.0</td>\n",
       "      <td>среднее</td>\n",
       "      <td>1</td>\n",
       "      <td>женат / замужем</td>\n",
       "      <td>0</td>\n",
       "      <td>M</td>\n",
       "      <td>пенсионер</td>\n",
       "      <td>0</td>\n",
       "      <td>169404.469473</td>\n",
       "      <td>на покупку автомобиля</td>\n",
       "    </tr>\n",
       "    <tr>\n",
       "      <td>751</td>\n",
       "      <td>0</td>\n",
       "      <td>16281.477669</td>\n",
       "      <td>41.0</td>\n",
       "      <td>среднее</td>\n",
       "      <td>1</td>\n",
       "      <td>женат / замужем</td>\n",
       "      <td>0</td>\n",
       "      <td>M</td>\n",
       "      <td>пенсионер</td>\n",
       "      <td>0</td>\n",
       "      <td>151898.693438</td>\n",
       "      <td>операции со своей недвижимостью</td>\n",
       "    </tr>\n",
       "    <tr>\n",
       "      <td>776</td>\n",
       "      <td>0</td>\n",
       "      <td>15222.356680</td>\n",
       "      <td>38.0</td>\n",
       "      <td>среднее</td>\n",
       "      <td>1</td>\n",
       "      <td>женат / замужем</td>\n",
       "      <td>0</td>\n",
       "      <td>F</td>\n",
       "      <td>пенсионер</td>\n",
       "      <td>0</td>\n",
       "      <td>73859.425084</td>\n",
       "      <td>покупка недвижимости</td>\n",
       "    </tr>\n",
       "    <tr>\n",
       "      <td>...</td>\n",
       "      <td>...</td>\n",
       "      <td>...</td>\n",
       "      <td>...</td>\n",
       "      <td>...</td>\n",
       "      <td>...</td>\n",
       "      <td>...</td>\n",
       "      <td>...</td>\n",
       "      <td>...</td>\n",
       "      <td>...</td>\n",
       "      <td>...</td>\n",
       "      <td>...</td>\n",
       "      <td>...</td>\n",
       "    </tr>\n",
       "    <tr>\n",
       "      <td>20271</td>\n",
       "      <td>0</td>\n",
       "      <td>15993.010180</td>\n",
       "      <td>37.0</td>\n",
       "      <td>высшее</td>\n",
       "      <td>0</td>\n",
       "      <td>женат / замужем</td>\n",
       "      <td>0</td>\n",
       "      <td>F</td>\n",
       "      <td>пенсионер</td>\n",
       "      <td>0</td>\n",
       "      <td>188236.765814</td>\n",
       "      <td>на покупку автомобиля</td>\n",
       "    </tr>\n",
       "    <tr>\n",
       "      <td>20342</td>\n",
       "      <td>1</td>\n",
       "      <td>15358.290833</td>\n",
       "      <td>44.0</td>\n",
       "      <td>высшее</td>\n",
       "      <td>0</td>\n",
       "      <td>женат / замужем</td>\n",
       "      <td>0</td>\n",
       "      <td>M</td>\n",
       "      <td>пенсионер</td>\n",
       "      <td>0</td>\n",
       "      <td>81196.474337</td>\n",
       "      <td>недвижимость</td>\n",
       "    </tr>\n",
       "    <tr>\n",
       "      <td>20560</td>\n",
       "      <td>0</td>\n",
       "      <td>13891.416702</td>\n",
       "      <td>33.0</td>\n",
       "      <td>Среднее</td>\n",
       "      <td>1</td>\n",
       "      <td>женат / замужем</td>\n",
       "      <td>0</td>\n",
       "      <td>M</td>\n",
       "      <td>пенсионер</td>\n",
       "      <td>0</td>\n",
       "      <td>163411.879628</td>\n",
       "      <td>образование</td>\n",
       "    </tr>\n",
       "    <tr>\n",
       "      <td>20829</td>\n",
       "      <td>1</td>\n",
       "      <td>16591.942999</td>\n",
       "      <td>40.0</td>\n",
       "      <td>среднее</td>\n",
       "      <td>1</td>\n",
       "      <td>женат / замужем</td>\n",
       "      <td>0</td>\n",
       "      <td>F</td>\n",
       "      <td>пенсионер</td>\n",
       "      <td>0</td>\n",
       "      <td>39107.907534</td>\n",
       "      <td>получение образования</td>\n",
       "    </tr>\n",
       "    <tr>\n",
       "      <td>20904</td>\n",
       "      <td>3</td>\n",
       "      <td>14014.603429</td>\n",
       "      <td>42.0</td>\n",
       "      <td>среднее</td>\n",
       "      <td>1</td>\n",
       "      <td>женат / замужем</td>\n",
       "      <td>0</td>\n",
       "      <td>M</td>\n",
       "      <td>пенсионер</td>\n",
       "      <td>0</td>\n",
       "      <td>132710.740291</td>\n",
       "      <td>свой автомобиль</td>\n",
       "    </tr>\n",
       "  </tbody>\n",
       "</table>\n",
       "<p>89 rows × 12 columns</p>\n",
       "</div>"
      ],
      "text/plain": [
       "       children  days_employed  dob_years education  education_id  \\\n",
       "157           0   14517.251167       38.0   среднее             1   \n",
       "311           0   14759.113178       44.0   Среднее             1   \n",
       "711           2   14160.579474       44.0   среднее             1   \n",
       "751           0   16281.477669       41.0   среднее             1   \n",
       "776           0   15222.356680       38.0   среднее             1   \n",
       "...         ...            ...        ...       ...           ...   \n",
       "20271         0   15993.010180       37.0    высшее             0   \n",
       "20342         1   15358.290833       44.0    высшее             0   \n",
       "20560         0   13891.416702       33.0   Среднее             1   \n",
       "20829         1   16591.942999       40.0   среднее             1   \n",
       "20904         3   14014.603429       42.0   среднее             1   \n",
       "\n",
       "         family_status  family_status_id gender income_type  debt  \\\n",
       "157    женат / замужем                 0      F   пенсионер     1   \n",
       "311    женат / замужем                 0      F   пенсионер     0   \n",
       "711    женат / замужем                 0      M   пенсионер     0   \n",
       "751    женат / замужем                 0      M   пенсионер     0   \n",
       "776    женат / замужем                 0      F   пенсионер     0   \n",
       "...                ...               ...    ...         ...   ...   \n",
       "20271  женат / замужем                 0      F   пенсионер     0   \n",
       "20342  женат / замужем                 0      M   пенсионер     0   \n",
       "20560  женат / замужем                 0      M   пенсионер     0   \n",
       "20829  женат / замужем                 0      F   пенсионер     0   \n",
       "20904  женат / замужем                 0      M   пенсионер     0   \n",
       "\n",
       "        total_income                          purpose  \n",
       "157    113560.650035             сделка с автомобилем  \n",
       "311     47457.979961     заняться высшим образованием  \n",
       "711    169404.469473            на покупку автомобиля  \n",
       "751    151898.693438  операции со своей недвижимостью  \n",
       "776     73859.425084             покупка недвижимости  \n",
       "...              ...                              ...  \n",
       "20271  188236.765814            на покупку автомобиля  \n",
       "20342   81196.474337                     недвижимость  \n",
       "20560  163411.879628                      образование  \n",
       "20829   39107.907534            получение образования  \n",
       "20904  132710.740291                  свой автомобиль  \n",
       "\n",
       "[89 rows x 12 columns]"
      ]
     },
     "execution_count": 99,
     "metadata": {},
     "output_type": "execute_result"
    }
   ],
   "source": [
    "# пенсионеры младше 45 лет\n",
    "clients[(clients['income_type'] == 'пенсионер') & (clients['dob_years'] < 45)]"
   ]
  },
  {
   "cell_type": "code",
   "execution_count": 100,
   "metadata": {
    "scrolled": true
   },
   "outputs": [
    {
     "data": {
      "text/html": [
       "<div>\n",
       "<style scoped>\n",
       "    .dataframe tbody tr th:only-of-type {\n",
       "        vertical-align: middle;\n",
       "    }\n",
       "\n",
       "    .dataframe tbody tr th {\n",
       "        vertical-align: top;\n",
       "    }\n",
       "\n",
       "    .dataframe thead th {\n",
       "        text-align: right;\n",
       "    }\n",
       "</style>\n",
       "<table border=\"1\" class=\"dataframe\">\n",
       "  <thead>\n",
       "    <tr style=\"text-align: right;\">\n",
       "      <th></th>\n",
       "      <th>children</th>\n",
       "      <th>days_employed</th>\n",
       "      <th>dob_years</th>\n",
       "      <th>education</th>\n",
       "      <th>education_id</th>\n",
       "      <th>family_status</th>\n",
       "      <th>family_status_id</th>\n",
       "      <th>gender</th>\n",
       "      <th>income_type</th>\n",
       "      <th>debt</th>\n",
       "      <th>total_income</th>\n",
       "      <th>purpose</th>\n",
       "    </tr>\n",
       "  </thead>\n",
       "  <tbody>\n",
       "    <tr>\n",
       "      <td>2</td>\n",
       "      <td>0</td>\n",
       "      <td>5623.422610</td>\n",
       "      <td>33.0</td>\n",
       "      <td>Среднее</td>\n",
       "      <td>1</td>\n",
       "      <td>женат / замужем</td>\n",
       "      <td>0</td>\n",
       "      <td>M</td>\n",
       "      <td>сотрудник</td>\n",
       "      <td>0</td>\n",
       "      <td>145885.952297</td>\n",
       "      <td>покупка жилья</td>\n",
       "    </tr>\n",
       "    <tr>\n",
       "      <td>4</td>\n",
       "      <td>0</td>\n",
       "      <td>14177.753002</td>\n",
       "      <td>53.0</td>\n",
       "      <td>среднее</td>\n",
       "      <td>1</td>\n",
       "      <td>гражданский брак</td>\n",
       "      <td>1</td>\n",
       "      <td>F</td>\n",
       "      <td>пенсионер</td>\n",
       "      <td>0</td>\n",
       "      <td>158616.077870</td>\n",
       "      <td>сыграть свадьбу</td>\n",
       "    </tr>\n",
       "    <tr>\n",
       "      <td>8</td>\n",
       "      <td>2</td>\n",
       "      <td>6929.865299</td>\n",
       "      <td>35.0</td>\n",
       "      <td>ВЫСШЕЕ</td>\n",
       "      <td>0</td>\n",
       "      <td>гражданский брак</td>\n",
       "      <td>1</td>\n",
       "      <td>F</td>\n",
       "      <td>сотрудник</td>\n",
       "      <td>0</td>\n",
       "      <td>95856.832424</td>\n",
       "      <td>на проведение свадьбы</td>\n",
       "    </tr>\n",
       "    <tr>\n",
       "      <td>18</td>\n",
       "      <td>0</td>\n",
       "      <td>16678.380705</td>\n",
       "      <td>53.0</td>\n",
       "      <td>среднее</td>\n",
       "      <td>1</td>\n",
       "      <td>вдовец / вдова</td>\n",
       "      <td>2</td>\n",
       "      <td>F</td>\n",
       "      <td>пенсионер</td>\n",
       "      <td>0</td>\n",
       "      <td>56823.777243</td>\n",
       "      <td>на покупку подержанного автомобиля</td>\n",
       "    </tr>\n",
       "    <tr>\n",
       "      <td>42</td>\n",
       "      <td>0</td>\n",
       "      <td>1257.496190</td>\n",
       "      <td>20.0</td>\n",
       "      <td>неоконченное высшее</td>\n",
       "      <td>2</td>\n",
       "      <td>Не женат / не замужем</td>\n",
       "      <td>4</td>\n",
       "      <td>F</td>\n",
       "      <td>сотрудник</td>\n",
       "      <td>0</td>\n",
       "      <td>82065.089021</td>\n",
       "      <td>получение образования</td>\n",
       "    </tr>\n",
       "    <tr>\n",
       "      <td>...</td>\n",
       "      <td>...</td>\n",
       "      <td>...</td>\n",
       "      <td>...</td>\n",
       "      <td>...</td>\n",
       "      <td>...</td>\n",
       "      <td>...</td>\n",
       "      <td>...</td>\n",
       "      <td>...</td>\n",
       "      <td>...</td>\n",
       "      <td>...</td>\n",
       "      <td>...</td>\n",
       "      <td>...</td>\n",
       "    </tr>\n",
       "    <tr>\n",
       "      <td>21485</td>\n",
       "      <td>0</td>\n",
       "      <td>15166.518713</td>\n",
       "      <td>59.0</td>\n",
       "      <td>высшее</td>\n",
       "      <td>0</td>\n",
       "      <td>женат / замужем</td>\n",
       "      <td>0</td>\n",
       "      <td>F</td>\n",
       "      <td>пенсионер</td>\n",
       "      <td>0</td>\n",
       "      <td>267000.734155</td>\n",
       "      <td>на покупку подержанного автомобиля</td>\n",
       "    </tr>\n",
       "    <tr>\n",
       "      <td>21505</td>\n",
       "      <td>0</td>\n",
       "      <td>14121.036100</td>\n",
       "      <td>53.0</td>\n",
       "      <td>среднее</td>\n",
       "      <td>1</td>\n",
       "      <td>гражданский брак</td>\n",
       "      <td>1</td>\n",
       "      <td>M</td>\n",
       "      <td>пенсионер</td>\n",
       "      <td>0</td>\n",
       "      <td>75439.993167</td>\n",
       "      <td>сыграть свадьбу</td>\n",
       "    </tr>\n",
       "    <tr>\n",
       "      <td>21508</td>\n",
       "      <td>0</td>\n",
       "      <td>16104.071420</td>\n",
       "      <td>62.0</td>\n",
       "      <td>среднее</td>\n",
       "      <td>1</td>\n",
       "      <td>женат / замужем</td>\n",
       "      <td>0</td>\n",
       "      <td>M</td>\n",
       "      <td>пенсионер</td>\n",
       "      <td>0</td>\n",
       "      <td>72638.590915</td>\n",
       "      <td>недвижимость</td>\n",
       "    </tr>\n",
       "    <tr>\n",
       "      <td>21509</td>\n",
       "      <td>0</td>\n",
       "      <td>15090.043922</td>\n",
       "      <td>59.0</td>\n",
       "      <td>высшее</td>\n",
       "      <td>0</td>\n",
       "      <td>женат / замужем</td>\n",
       "      <td>0</td>\n",
       "      <td>M</td>\n",
       "      <td>пенсионер</td>\n",
       "      <td>0</td>\n",
       "      <td>73029.059379</td>\n",
       "      <td>операции с недвижимостью</td>\n",
       "    </tr>\n",
       "    <tr>\n",
       "      <td>21518</td>\n",
       "      <td>0</td>\n",
       "      <td>15583.154618</td>\n",
       "      <td>59.0</td>\n",
       "      <td>СРЕДНЕЕ</td>\n",
       "      <td>1</td>\n",
       "      <td>женат / замужем</td>\n",
       "      <td>0</td>\n",
       "      <td>F</td>\n",
       "      <td>пенсионер</td>\n",
       "      <td>0</td>\n",
       "      <td>153864.650328</td>\n",
       "      <td>сделка с автомобилем</td>\n",
       "    </tr>\n",
       "  </tbody>\n",
       "</table>\n",
       "<p>2386 rows × 12 columns</p>\n",
       "</div>"
      ],
      "text/plain": [
       "       children  days_employed  dob_years            education  education_id  \\\n",
       "2             0    5623.422610       33.0              Среднее             1   \n",
       "4             0   14177.753002       53.0              среднее             1   \n",
       "8             2    6929.865299       35.0               ВЫСШЕЕ             0   \n",
       "18            0   16678.380705       53.0              среднее             1   \n",
       "42            0    1257.496190       20.0  неоконченное высшее             2   \n",
       "...         ...            ...        ...                  ...           ...   \n",
       "21485         0   15166.518713       59.0               высшее             0   \n",
       "21505         0   14121.036100       53.0              среднее             1   \n",
       "21508         0   16104.071420       62.0              среднее             1   \n",
       "21509         0   15090.043922       59.0               высшее             0   \n",
       "21518         0   15583.154618       59.0              СРЕДНЕЕ             1   \n",
       "\n",
       "               family_status  family_status_id gender income_type  debt  \\\n",
       "2            женат / замужем                 0      M   сотрудник     0   \n",
       "4           гражданский брак                 1      F   пенсионер     0   \n",
       "8           гражданский брак                 1      F   сотрудник     0   \n",
       "18            вдовец / вдова                 2      F   пенсионер     0   \n",
       "42     Не женат / не замужем                 4      F   сотрудник     0   \n",
       "...                      ...               ...    ...         ...   ...   \n",
       "21485        женат / замужем                 0      F   пенсионер     0   \n",
       "21505       гражданский брак                 1      M   пенсионер     0   \n",
       "21508        женат / замужем                 0      M   пенсионер     0   \n",
       "21509        женат / замужем                 0      M   пенсионер     0   \n",
       "21518        женат / замужем                 0      F   пенсионер     0   \n",
       "\n",
       "        total_income                             purpose  \n",
       "2      145885.952297                       покупка жилья  \n",
       "4      158616.077870                     сыграть свадьбу  \n",
       "8       95856.832424               на проведение свадьбы  \n",
       "18      56823.777243  на покупку подержанного автомобиля  \n",
       "42      82065.089021               получение образования  \n",
       "...              ...                                 ...  \n",
       "21485  267000.734155  на покупку подержанного автомобиля  \n",
       "21505   75439.993167                     сыграть свадьбу  \n",
       "21508   72638.590915                        недвижимость  \n",
       "21509   73029.059379            операции с недвижимостью  \n",
       "21518  153864.650328                сделка с автомобилем  \n",
       "\n",
       "[2386 rows x 12 columns]"
      ]
     },
     "execution_count": 100,
     "metadata": {},
     "output_type": "execute_result"
    }
   ],
   "source": [
    "# клиенты, у которых \"возраст\" - \"стаж труда\" < 18 лет.\n",
    "clients[(clients['dob_years'] - (clients['days_employed'] / 365) < 18)]"
   ]
  },
  {
   "cell_type": "markdown",
   "metadata": {},
   "source": [
    "**Вывод**"
   ]
  },
  {
   "cell_type": "markdown",
   "metadata": {},
   "source": [
    "В столбцах 'days_employed' и 'total_income' обнаружились пропущенные значения.\n",
    "Причины появления пропусков в этих данных могут быть разными:\n",
    "- клиент безработный;\n",
    "- клиент не указал эти данные;\n",
    "- данные были утеряны;\n",
    "\n",
    "Пропуски в столбце 'total_income' были заполнены медианой \"общего дохода\" относительно каждой группы клиентов соответственно их статусу: Пенсионер, сотрудник и т.д.\n",
    "Пропуски в столбце 'days_employed' также были заполнены медианой \"стажа труда\" относительно каждой группы клиентов соответственно их статусу."
   ]
  },
  {
   "cell_type": "markdown",
   "metadata": {},
   "source": [
    "### Замена типа данных"
   ]
  },
  {
   "cell_type": "markdown",
   "metadata": {},
   "source": [
    "Проверим, какие столбцы имеют вещественный тип данных"
   ]
  },
  {
   "cell_type": "code",
   "execution_count": 101,
   "metadata": {},
   "outputs": [
    {
     "name": "stdout",
     "output_type": "stream",
     "text": [
      "<class 'pandas.core.frame.DataFrame'>\n",
      "RangeIndex: 21525 entries, 0 to 21524\n",
      "Data columns (total 12 columns):\n",
      "children            21525 non-null int64\n",
      "days_employed       21525 non-null float64\n",
      "dob_years           21525 non-null float64\n",
      "education           21525 non-null object\n",
      "education_id        21525 non-null int64\n",
      "family_status       21525 non-null object\n",
      "family_status_id    21525 non-null int64\n",
      "gender              21525 non-null object\n",
      "income_type         21525 non-null object\n",
      "debt                21525 non-null int64\n",
      "total_income        21525 non-null float64\n",
      "purpose             21525 non-null object\n",
      "dtypes: float64(3), int64(4), object(5)\n",
      "memory usage: 2.0+ MB\n"
     ]
    }
   ],
   "source": [
    "clients.info()"
   ]
  },
  {
   "cell_type": "markdown",
   "metadata": {},
   "source": [
    "Столбцы 'days_employed', 'total_income' и 'dob_years' имеют вещественный тип данных. Переведем эти данные в целочисленный тип с помощью метода <b>astype()</b>"
   ]
  },
  {
   "cell_type": "code",
   "execution_count": 102,
   "metadata": {},
   "outputs": [
    {
     "name": "stdout",
     "output_type": "stream",
     "text": [
      "<class 'pandas.core.frame.DataFrame'>\n",
      "RangeIndex: 21525 entries, 0 to 21524\n",
      "Data columns (total 12 columns):\n",
      "children            21525 non-null int64\n",
      "days_employed       21525 non-null int64\n",
      "dob_years           21525 non-null int64\n",
      "education           21525 non-null object\n",
      "education_id        21525 non-null int64\n",
      "family_status       21525 non-null object\n",
      "family_status_id    21525 non-null int64\n",
      "gender              21525 non-null object\n",
      "income_type         21525 non-null object\n",
      "debt                21525 non-null int64\n",
      "total_income        21525 non-null int64\n",
      "purpose             21525 non-null object\n",
      "dtypes: int64(7), object(5)\n",
      "memory usage: 2.0+ MB\n"
     ]
    }
   ],
   "source": [
    "clients[['days_employed','dob_years','total_income']] = clients[['days_employed',\n",
    "                                                                 'dob_years','total_income']].astype('int')\n",
    "clients.info()"
   ]
  },
  {
   "cell_type": "markdown",
   "metadata": {},
   "source": [
    "**Вывод**"
   ]
  },
  {
   "cell_type": "markdown",
   "metadata": {},
   "source": [
    "Для изменения типа данных был выбран метод <b>astype()</b>, а не <b>pd.to_numeric()</b>, так как данные уже имеют тип 'float64', а нам необходимо перевести их в тип 'int64', с чем успешно справляется данный метод."
   ]
  },
  {
   "cell_type": "markdown",
   "metadata": {},
   "source": [
    "### Обработка дубликатов"
   ]
  },
  {
   "cell_type": "markdown",
   "metadata": {},
   "source": [
    "Найдем все столбцы, которые имеют тип данных 'object'"
   ]
  },
  {
   "cell_type": "code",
   "execution_count": 103,
   "metadata": {},
   "outputs": [
    {
     "name": "stdout",
     "output_type": "stream",
     "text": [
      "<class 'pandas.core.frame.DataFrame'>\n",
      "RangeIndex: 21525 entries, 0 to 21524\n",
      "Data columns (total 12 columns):\n",
      "children            21525 non-null int64\n",
      "days_employed       21525 non-null int64\n",
      "dob_years           21525 non-null int64\n",
      "education           21525 non-null object\n",
      "education_id        21525 non-null int64\n",
      "family_status       21525 non-null object\n",
      "family_status_id    21525 non-null int64\n",
      "gender              21525 non-null object\n",
      "income_type         21525 non-null object\n",
      "debt                21525 non-null int64\n",
      "total_income        21525 non-null int64\n",
      "purpose             21525 non-null object\n",
      "dtypes: int64(7), object(5)\n",
      "memory usage: 2.0+ MB\n",
      "Столбцы с типом данных \"object\": ['education', 'family_status', 'gender', 'income_type']\n"
     ]
    }
   ],
   "source": [
    "clients.info()\n",
    "object_columns = ['education', 'family_status', 'gender', 'income_type']\n",
    "print('Столбцы с типом данных \"object\": {}'.format(object_columns))"
   ]
  },
  {
   "cell_type": "markdown",
   "metadata": {},
   "source": [
    "Проверим каждый столбец с помощью метода <b>value_couns()</b>. Столбец 'purpose' не был включен в список, так как цели кредита могут повторяться для любых клиентов."
   ]
  },
  {
   "cell_type": "code",
   "execution_count": 104,
   "metadata": {},
   "outputs": [
    {
     "name": "stdout",
     "output_type": "stream",
     "text": [
      "среднее                13750\n",
      "высшее                  4718\n",
      "СРЕДНЕЕ                  772\n",
      "Среднее                  711\n",
      "неоконченное высшее      668\n",
      "ВЫСШЕЕ                   274\n",
      "Высшее                   268\n",
      "начальное                250\n",
      "Неоконченное высшее       47\n",
      "НЕОКОНЧЕННОЕ ВЫСШЕЕ       29\n",
      "НАЧАЛЬНОЕ                 17\n",
      "Начальное                 15\n",
      "ученая степень             4\n",
      "УЧЕНАЯ СТЕПЕНЬ             1\n",
      "Ученая степень             1\n",
      "Name: education, dtype: int64\n",
      "----------------------------\n",
      "женат / замужем          12380\n",
      "гражданский брак          4177\n",
      "Не женат / не замужем     2813\n",
      "в разводе                 1195\n",
      "вдовец / вдова             960\n",
      "Name: family_status, dtype: int64\n",
      "----------------------------\n",
      "F      14236\n",
      "M       7288\n",
      "XNA        1\n",
      "Name: gender, dtype: int64\n",
      "----------------------------\n",
      "сотрудник          11119\n",
      "компаньон           5085\n",
      "пенсионер           3856\n",
      "госслужащий         1459\n",
      "безработный            2\n",
      "предприниматель        2\n",
      "в декрете              1\n",
      "студент                1\n",
      "Name: income_type, dtype: int64\n",
      "----------------------------\n"
     ]
    }
   ],
   "source": [
    "for column in object_columns:\n",
    "    print(clients[column].value_counts())\n",
    "    print('----------------------------')"
   ]
  },
  {
   "cell_type": "markdown",
   "metadata": {},
   "source": [
    "Столбец <b>'family_status'</b> не имеет дубликатов, но его строки мы все равно переведем в нижний регистр для удобства дальнейшей работы. Столбец <b>'gender'</b> не имеет дубликатов, но имеет одно значение \"XNA\", предположим, что этот клиент не определился с гендером. Столбец <b>'income_type'</b> также не имеет дубликатов, его мы изменять не будем. Все внимание переходит на столбец <b>'education'</b>, где имеется куча дубликатов, и это вызвано различным регистром букв, исправим это."
   ]
  },
  {
   "cell_type": "code",
   "execution_count": 105,
   "metadata": {},
   "outputs": [
    {
     "name": "stdout",
     "output_type": "stream",
     "text": [
      "среднее                15233\n",
      "высшее                  5260\n",
      "неоконченное высшее      744\n",
      "начальное                282\n",
      "ученая степень             6\n",
      "Name: education, dtype: int64\n",
      "----------------------------\n",
      "женат / замужем          12380\n",
      "гражданский брак          4177\n",
      "не женат / не замужем     2813\n",
      "в разводе                 1195\n",
      "вдовец / вдова             960\n",
      "Name: family_status, dtype: int64\n",
      "----------------------------\n",
      "F      14236\n",
      "M       7288\n",
      "XNA        1\n",
      "Name: gender, dtype: int64\n",
      "----------------------------\n",
      "сотрудник          11119\n",
      "компаньон           5085\n",
      "пенсионер           3856\n",
      "госслужащий         1459\n",
      "безработный            2\n",
      "предприниматель        2\n",
      "в декрете              1\n",
      "студент                1\n",
      "Name: income_type, dtype: int64\n",
      "----------------------------\n"
     ]
    }
   ],
   "source": [
    "clients['family_status'] = clients['family_status'].str.lower() # устанавливаем нижний регистр для 'family_status'\n",
    "clients['education'] = clients['education'].str.lower() # устанавливаем нижний регистр для 'education'\n",
    "# проверяем наличие дубликатов\n",
    "for column in object_columns:\n",
    "    print(clients[column].value_counts())\n",
    "    print('----------------------------')"
   ]
  },
  {
   "cell_type": "markdown",
   "metadata": {},
   "source": [
    "Теперь, когда все строки переведены в нижний регистр, можно воспользоваться методами <b>duplicated()</b> и <b>drop_duplicates()</b>, они могут показать нам полные дубликаты."
   ]
  },
  {
   "cell_type": "code",
   "execution_count": 106,
   "metadata": {},
   "outputs": [
    {
     "name": "stdout",
     "output_type": "stream",
     "text": [
      "Int64Index([ 2849,  3290,  4182,  4851,  5557,  6312,  7808,  7921,  7938,\n",
      "             8583,  9238,  9528,  9604,  9627,  9855, 10462, 10697, 10864,\n",
      "            10994, 11791, 12373, 12375, 12736, 13025, 13639, 13773, 13878,\n",
      "            13942, 14097, 14432, 14728, 14832, 15091, 15188, 15273, 15991,\n",
      "            16176, 16204, 16378, 16902, 16904, 17338, 17379, 17755, 17774,\n",
      "            18328, 18349, 18428, 18521, 18563, 18755, 19041, 19184, 19295,\n",
      "            19321, 19369, 19387, 19559, 19688, 19832, 19946, 20116, 20165,\n",
      "            20187, 20297, 20662, 20702, 21032, 21132, 21281, 21415],\n",
      "           dtype='int64')\n",
      "Количество дубликатов: 71\n",
      "Дубликатов не существует\n"
     ]
    }
   ],
   "source": [
    "duplicated_rows = clients.duplicated()\n",
    "# создадим список с индексами строк, которые выявил метод\n",
    "duplicated_rows_index = duplicated_rows[duplicated_rows == True].index\n",
    "print(duplicated_rows_index)\n",
    "print('Количество дубликатов: {}'.format(duplicated_rows[duplicated_rows == True].count()))\n",
    "# метод выявил дубликаты, удалим их\n",
    "clients = clients.drop_duplicates().reset_index(drop=True)\n",
    "# проверим наличие дубликатов\n",
    "if clients.duplicated().all() == False:\n",
    "    print('Дубликатов не существует')"
   ]
  },
  {
   "cell_type": "markdown",
   "metadata": {},
   "source": [
    "Дубликаты <b>отсутствуют</b>"
   ]
  },
  {
   "cell_type": "markdown",
   "metadata": {},
   "source": [
    "**Вывод**"
   ]
  },
  {
   "cell_type": "markdown",
   "metadata": {},
   "source": [
    "Для поиска дубликатов были использованы два способа:\n",
    "- метод value_counts(), который анализирует столбец, выбирает каждое уникальное значение и подсчитывает частоту его встречаемости в списке.\n",
    "- методы duplicated() и drop_duplicates()\n",
    "\n",
    "Были использованы оба способа, так как изначально в строковых столбцах данные имели разный регистр, соответственно метод <b>duplicated()</b> не смог бы выявить полные дубликаты, поэтому изначально был использован метод <b>value_couns()</b> и данные в строковых столбцах были приведены в нижний регистр.\n",
    "\n",
    "Дубликаты в столбце 'education' могли возникнуть по следующей причине: клиент или кредитный специалист заполнял форму с данными о клиенте, в поле \"образование\" каждый человек написал данные по разному \"Среднее\", \"среднее\", \"высшее\", \"ВЫСШЕЕ\" и так далее. Проблема в том, что, скорее всего, не было указано единой формы заполнения поля \"образование\"."
   ]
  },
  {
   "cell_type": "markdown",
   "metadata": {},
   "source": [
    "### Лемматизация"
   ]
  },
  {
   "cell_type": "code",
   "execution_count": 147,
   "metadata": {},
   "outputs": [
    {
     "name": "stdout",
     "output_type": "stream",
     "text": [
      "Количество каждого слова в \"целях кредита\" в DataFrame:\n",
      " : 33570\n",
      "\n",
      ": 21454\n",
      "недвижимость: 6351\n",
      "покупка: 5897\n",
      "жилье: 4460\n",
      "автомобиль: 4306\n",
      "образование: 4013\n",
      "с: 2918\n",
      "операция: 2604\n",
      "свадьба: 2324\n",
      "свой: 2230\n",
      "на: 2222\n",
      "строительство: 1878\n",
      "высокий: 1374\n",
      "получение: 1314\n",
      "коммерческий: 1311\n",
      "для: 1289\n",
      "жилой: 1230\n",
      "сделка: 941\n",
      "дополнительный: 906\n",
      "заниматься: 904\n",
      "проведение: 768\n",
      "сыграть: 765\n",
      "сдача: 651\n",
      "семья: 638\n",
      "собственный: 635\n",
      "со: 627\n",
      "ремонт: 607\n",
      "подержанный: 486\n",
      "подержать: 478\n",
      "приобретение: 461\n",
      "профильный: 436\n"
     ]
    }
   ],
   "source": [
    "from pymystem3 import Mystem\n",
    "from itertools import chain\n",
    "from collections import Counter\n",
    "\n",
    "words = []\n",
    "\n",
    "# Посчитаем количество каждого слова в \"целях кредита\" по всему DataFrame\n",
    "for row in range(clients.shape[0]):\n",
    "    words.append(m.lemmatize(clients['purpose'][row]))\n",
    "    \n",
    "words = list(chain.from_iterable(words))\n",
    "print('Количество каждого слова в \"целях кредита\" в DataFrame:')\n",
    "words_dict = dict(Counter(words))\n",
    "words_dict = sorted(words_dict.items(), key=lambda x: x[1], reverse=True)\n",
    "for i in words_dict:\n",
    "    print('{}:'.format(i[0]), i[1])"
   ]
  },
  {
   "cell_type": "markdown",
   "metadata": {},
   "source": [
    "Рассмотрим слова в данном списке. Выделяются следующие основные слова, которые могут находиться в \"целях кредита\":\n",
    "- Недвижимость\n",
    "- Жилье\n",
    "- Автомобиль\n",
    "- Образование\n",
    "- Свадьба\n",
    "\n",
    "Также, было обнаружено слово \"коммерческий\". Давайте посмотрим, в каких предложениях содержится данное слово."
   ]
  },
  {
   "cell_type": "markdown",
   "metadata": {},
   "source": [
    "Как видим, коммерческие цели идут совместно с недвижимостью, поэтому слова \"коммерческий\" будет достаточно, чтобы отнести эти цели к определенной группе. Добавим группу \"коммерция\". \"Недвижимость\" и \"жилье\" соединим в одну группу \"жилье\". Итоговый список целей кредитов:\n",
    "\n",
    "- Жилье\n",
    "- Автомобиль\n",
    "- Образование\n",
    "- Коммерция\n",
    "- Свадьба"
   ]
  },
  {
   "cell_type": "code",
   "execution_count": 149,
   "metadata": {},
   "outputs": [
    {
     "name": "stdout",
     "output_type": "stream",
     "text": [
      "0              жилье\n",
      "1         автомобиль\n",
      "2              жилье\n",
      "3        образование\n",
      "4            свадьба\n",
      "            ...     \n",
      "21449          жилье\n",
      "21450     автомобиль\n",
      "21451          жилье\n",
      "21452     автомобиль\n",
      "21453     автомобиль\n",
      "Name: purpose_stemmed, Length: 21454, dtype: object\n"
     ]
    }
   ],
   "source": [
    "def purpose_stemmed(purpose):\n",
    "    lemmas = m.lemmatize(purpose)\n",
    "    if 'коммерческий' in lemmas:\n",
    "        return 'коммерция'\n",
    "    elif 'жилье' in lemmas:\n",
    "        return 'жилье'\n",
    "    elif 'автомобиль' in lemmas:\n",
    "        return 'автомобиль'\n",
    "    elif 'свадьба' in lemmas:\n",
    "        return 'свадьба'\n",
    "    elif 'образование' in lemmas:\n",
    "        return 'образование'\n",
    "    elif 'недвижимость' in lemmas:\n",
    "        return 'жилье'\n",
    "        \n",
    "clients['purpose_stemmed'] = clients.loc[:, 'purpose'].apply(purpose_stemmed)\n",
    "\n",
    "# Проверяем новый столбец \"purpose_stemmed\"\n",
    "print(clients['purpose_stemmed'])"
   ]
  },
  {
   "cell_type": "markdown",
   "metadata": {},
   "source": [
    "Проверяем новый столбец 'purpose_stemmed', который точнее характеризует цель кредита"
   ]
  },
  {
   "cell_type": "code",
   "execution_count": 150,
   "metadata": {},
   "outputs": [
    {
     "data": {
      "text/plain": [
       "жилье          9500\n",
       "автомобиль     4306\n",
       "образование    4013\n",
       "свадьба        2324\n",
       "коммерция      1311\n",
       "Name: purpose_stemmed, dtype: int64"
      ]
     },
     "execution_count": 150,
     "metadata": {},
     "output_type": "execute_result"
    }
   ],
   "source": [
    "clients['purpose_stemmed'].value_counts()"
   ]
  },
  {
   "cell_type": "markdown",
   "metadata": {},
   "source": [
    "Как видим, большинство кредит берется на жилье. Меньшая часть приходится на коммерцию."
   ]
  },
  {
   "cell_type": "markdown",
   "metadata": {},
   "source": [
    "**Вывод**"
   ]
  },
  {
   "cell_type": "markdown",
   "metadata": {},
   "source": [
    "Лемматизация целей кредита была проведена следующим образом:\n",
    "1) Импортирование лемматизатора\n",
    "\n",
    "2) Создание 'Series' на основании целей кредита относительно каждого клиента с помощью лемматизатора (для уточнения целей кредита были взяты самые часто встречающиеся слова: \"автомобиль\", \"жилье\" и так далее. Проверка нахождения данных слов в лемматизированной версии \"цели кредита\".)\n",
    "\n",
    "3) Добавление 'Series' к нашему 'DataFrame' в виде нового столбца 'purpose_stemmed'\n",
    "\n",
    "Вывод: Большинство клиентов берут кредит на жилье, меньшинство берут кредит на коммерческие операции."
   ]
  },
  {
   "cell_type": "markdown",
   "metadata": {},
   "source": [
    "### Категоризация данных"
   ]
  },
  {
   "cell_type": "markdown",
   "metadata": {},
   "source": [
    "В первую очередь, можем категоризовать данные по \"целям кредита\", так как это один из важных показателей"
   ]
  },
  {
   "cell_type": "code",
   "execution_count": 151,
   "metadata": {},
   "outputs": [
    {
     "data": {
      "text/html": [
       "<div>\n",
       "<style scoped>\n",
       "    .dataframe tbody tr th:only-of-type {\n",
       "        vertical-align: middle;\n",
       "    }\n",
       "\n",
       "    .dataframe tbody tr th {\n",
       "        vertical-align: top;\n",
       "    }\n",
       "\n",
       "    .dataframe thead th {\n",
       "        text-align: right;\n",
       "    }\n",
       "</style>\n",
       "<table border=\"1\" class=\"dataframe\">\n",
       "  <thead>\n",
       "    <tr style=\"text-align: right;\">\n",
       "      <th></th>\n",
       "      <th>children</th>\n",
       "      <th>days_employed</th>\n",
       "      <th>dob_years</th>\n",
       "      <th>education_id</th>\n",
       "      <th>family_status_id</th>\n",
       "      <th>debt</th>\n",
       "      <th>total_income</th>\n",
       "    </tr>\n",
       "    <tr>\n",
       "      <th>purpose_stemmed</th>\n",
       "      <th></th>\n",
       "      <th></th>\n",
       "      <th></th>\n",
       "      <th></th>\n",
       "      <th></th>\n",
       "      <th></th>\n",
       "      <th></th>\n",
       "    </tr>\n",
       "  </thead>\n",
       "  <tbody>\n",
       "    <tr>\n",
       "      <td>автомобиль</td>\n",
       "      <td>0.536693</td>\n",
       "      <td>4659.627729</td>\n",
       "      <td>43.689039</td>\n",
       "      <td>0.820483</td>\n",
       "      <td>0.989549</td>\n",
       "      <td>0.093590</td>\n",
       "      <td>165222.227125</td>\n",
       "    </tr>\n",
       "    <tr>\n",
       "      <td>жилье</td>\n",
       "      <td>0.535053</td>\n",
       "      <td>4540.706105</td>\n",
       "      <td>43.336000</td>\n",
       "      <td>0.817053</td>\n",
       "      <td>0.967579</td>\n",
       "      <td>0.071895</td>\n",
       "      <td>166839.711263</td>\n",
       "    </tr>\n",
       "    <tr>\n",
       "      <td>коммерция</td>\n",
       "      <td>0.587338</td>\n",
       "      <td>4611.192982</td>\n",
       "      <td>43.543860</td>\n",
       "      <td>0.802441</td>\n",
       "      <td>0.986270</td>\n",
       "      <td>0.075515</td>\n",
       "      <td>165684.400458</td>\n",
       "    </tr>\n",
       "    <tr>\n",
       "      <td>образование</td>\n",
       "      <td>0.551209</td>\n",
       "      <td>4598.974084</td>\n",
       "      <td>43.609768</td>\n",
       "      <td>0.828059</td>\n",
       "      <td>0.952903</td>\n",
       "      <td>0.092200</td>\n",
       "      <td>162622.039870</td>\n",
       "    </tr>\n",
       "    <tr>\n",
       "      <td>свадьба</td>\n",
       "      <td>0.540017</td>\n",
       "      <td>4660.984940</td>\n",
       "      <td>43.372203</td>\n",
       "      <td>0.800344</td>\n",
       "      <td>1.000000</td>\n",
       "      <td>0.080034</td>\n",
       "      <td>163738.141997</td>\n",
       "    </tr>\n",
       "  </tbody>\n",
       "</table>\n",
       "</div>"
      ],
      "text/plain": [
       "                 children  days_employed  dob_years  education_id  \\\n",
       "purpose_stemmed                                                     \n",
       "автомобиль       0.536693    4659.627729  43.689039      0.820483   \n",
       "жилье            0.535053    4540.706105  43.336000      0.817053   \n",
       "коммерция        0.587338    4611.192982  43.543860      0.802441   \n",
       "образование      0.551209    4598.974084  43.609768      0.828059   \n",
       "свадьба          0.540017    4660.984940  43.372203      0.800344   \n",
       "\n",
       "                 family_status_id      debt   total_income  \n",
       "purpose_stemmed                                             \n",
       "автомобиль               0.989549  0.093590  165222.227125  \n",
       "жилье                    0.967579  0.071895  166839.711263  \n",
       "коммерция                0.986270  0.075515  165684.400458  \n",
       "образование              0.952903  0.092200  162622.039870  \n",
       "свадьба                  1.000000  0.080034  163738.141997  "
      ]
     },
     "execution_count": 151,
     "metadata": {},
     "output_type": "execute_result"
    }
   ],
   "source": [
    "clients.groupby('purpose_stemmed').mean()"
   ]
  },
  {
   "cell_type": "markdown",
   "metadata": {},
   "source": [
    "Благодаря такой категоризации мы можем сделать следующие выводы:\n",
    "- Клиенты, относящиеся к разным группам \"целей кредитов\" имеют практически схожие средние показатели по всем параметрам, кроме \"возврата кредита в срок\".\n",
    "- Кредиты с целями \"жилье\" и \"коммерция\" наиболее чаще возвращаются в срок, чем другие"
   ]
  },
  {
   "cell_type": "markdown",
   "metadata": {},
   "source": [
    "Также мы можем категоризовать клиентов по наличию детей, введем три группы:\n",
    "- Бездетный\n",
    "- Детный\n",
    "- Многодетный\n",
    "\n",
    "Напишем функцию, которая будет определять количество детей клиента и относить его к определенной группе."
   ]
  },
  {
   "cell_type": "code",
   "execution_count": 152,
   "metadata": {},
   "outputs": [
    {
     "data": {
      "text/html": [
       "<div>\n",
       "<style scoped>\n",
       "    .dataframe tbody tr th:only-of-type {\n",
       "        vertical-align: middle;\n",
       "    }\n",
       "\n",
       "    .dataframe tbody tr th {\n",
       "        vertical-align: top;\n",
       "    }\n",
       "\n",
       "    .dataframe thead th {\n",
       "        text-align: right;\n",
       "    }\n",
       "</style>\n",
       "<table border=\"1\" class=\"dataframe\">\n",
       "  <thead>\n",
       "    <tr style=\"text-align: right;\">\n",
       "      <th></th>\n",
       "      <th>children</th>\n",
       "      <th>days_employed</th>\n",
       "      <th>dob_years</th>\n",
       "      <th>education_id</th>\n",
       "      <th>family_status_id</th>\n",
       "      <th>debt</th>\n",
       "      <th>total_income</th>\n",
       "    </tr>\n",
       "    <tr>\n",
       "      <th>parent</th>\n",
       "      <th></th>\n",
       "      <th></th>\n",
       "      <th></th>\n",
       "      <th></th>\n",
       "      <th></th>\n",
       "      <th></th>\n",
       "      <th></th>\n",
       "    </tr>\n",
       "  </thead>\n",
       "  <tbody>\n",
       "    <tr>\n",
       "      <td>бездетный</td>\n",
       "      <td>0.000000</td>\n",
       "      <td>5594.259726</td>\n",
       "      <td>46.440232</td>\n",
       "      <td>0.830881</td>\n",
       "      <td>1.122436</td>\n",
       "      <td>0.075258</td>\n",
       "      <td>163019.561748</td>\n",
       "    </tr>\n",
       "    <tr>\n",
       "      <td>детный</td>\n",
       "      <td>1.299125</td>\n",
       "      <td>2664.544315</td>\n",
       "      <td>37.760496</td>\n",
       "      <td>0.787755</td>\n",
       "      <td>0.700729</td>\n",
       "      <td>0.093003</td>\n",
       "      <td>169360.094752</td>\n",
       "    </tr>\n",
       "    <tr>\n",
       "      <td>многодетный</td>\n",
       "      <td>5.962719</td>\n",
       "      <td>2552.046053</td>\n",
       "      <td>37.493421</td>\n",
       "      <td>0.831140</td>\n",
       "      <td>0.478070</td>\n",
       "      <td>0.085526</td>\n",
       "      <td>175844.934211</td>\n",
       "    </tr>\n",
       "  </tbody>\n",
       "</table>\n",
       "</div>"
      ],
      "text/plain": [
       "             children  days_employed  dob_years  education_id  \\\n",
       "parent                                                          \n",
       "бездетный    0.000000    5594.259726  46.440232      0.830881   \n",
       "детный       1.299125    2664.544315  37.760496      0.787755   \n",
       "многодетный  5.962719    2552.046053  37.493421      0.831140   \n",
       "\n",
       "             family_status_id      debt   total_income  \n",
       "parent                                                  \n",
       "бездетный            1.122436  0.075258  163019.561748  \n",
       "детный               0.700729  0.093003  169360.094752  \n",
       "многодетный          0.478070  0.085526  175844.934211  "
      ]
     },
     "execution_count": 152,
     "metadata": {},
     "output_type": "execute_result"
    }
   ],
   "source": [
    "def parent(children):\n",
    "    if children == 0:\n",
    "        return 'бездетный'\n",
    "    elif 1 <= children <= 2:\n",
    "        return 'детный'\n",
    "    elif children >= 3:\n",
    "        return 'многодетный'\n",
    "    \n",
    "# применим функцию к нашим данным и создадим новый столбец \"parent\"\n",
    "clients['parent'] = clients['children'].apply(parent)\n",
    "\n",
    "\n",
    "clients.groupby('parent').mean()"
   ]
  },
  {
   "cell_type": "markdown",
   "metadata": {},
   "source": [
    "Благодаря такой категоризации мы можем сделать следующие выводы:\n",
    "- Бездетные клиенты в среднем имеют больше трудового стажа\n",
    "- Бездетные клиенты, которые берут кредит, в среднем старше, чем клиенты с детьми\n",
    "- Бездетные клиенты в среднем чаще возвращают кредит в срок\n",
    "- Клиенты с 1 ребенком или 2 детьми в среднем возвращают кредит в срок реже, чем бездетные и многодетные клиенты\n",
    "- Многодетные клиенты в среднем имеют больший доход, чем бездетные и клиенты с 1 или 2 детьми."
   ]
  },
  {
   "cell_type": "markdown",
   "metadata": {},
   "source": [
    "Следующую категоризацию мы можем провести по параметру \"семейное положение\"."
   ]
  },
  {
   "cell_type": "code",
   "execution_count": 153,
   "metadata": {},
   "outputs": [
    {
     "data": {
      "text/html": [
       "<div>\n",
       "<style scoped>\n",
       "    .dataframe tbody tr th:only-of-type {\n",
       "        vertical-align: middle;\n",
       "    }\n",
       "\n",
       "    .dataframe tbody tr th {\n",
       "        vertical-align: top;\n",
       "    }\n",
       "\n",
       "    .dataframe thead th {\n",
       "        text-align: right;\n",
       "    }\n",
       "</style>\n",
       "<table border=\"1\" class=\"dataframe\">\n",
       "  <thead>\n",
       "    <tr style=\"text-align: right;\">\n",
       "      <th></th>\n",
       "      <th>children</th>\n",
       "      <th>days_employed</th>\n",
       "      <th>dob_years</th>\n",
       "      <th>education_id</th>\n",
       "      <th>family_status_id</th>\n",
       "      <th>debt</th>\n",
       "      <th>total_income</th>\n",
       "    </tr>\n",
       "    <tr>\n",
       "      <th>family_status</th>\n",
       "      <th></th>\n",
       "      <th></th>\n",
       "      <th></th>\n",
       "      <th></th>\n",
       "      <th></th>\n",
       "      <th></th>\n",
       "      <th></th>\n",
       "    </tr>\n",
       "  </thead>\n",
       "  <tbody>\n",
       "    <tr>\n",
       "      <td>в разводе</td>\n",
       "      <td>0.461088</td>\n",
       "      <td>4725.255230</td>\n",
       "      <td>45.881172</td>\n",
       "      <td>0.797490</td>\n",
       "      <td>3.0</td>\n",
       "      <td>0.071130</td>\n",
       "      <td>167702.644351</td>\n",
       "    </tr>\n",
       "    <tr>\n",
       "      <td>вдовец / вдова</td>\n",
       "      <td>0.228363</td>\n",
       "      <td>9798.485923</td>\n",
       "      <td>56.816475</td>\n",
       "      <td>0.936392</td>\n",
       "      <td>2.0</td>\n",
       "      <td>0.065693</td>\n",
       "      <td>142590.553702</td>\n",
       "    </tr>\n",
       "    <tr>\n",
       "      <td>гражданский брак</td>\n",
       "      <td>0.513370</td>\n",
       "      <td>4233.559865</td>\n",
       "      <td>42.272224</td>\n",
       "      <td>0.837389</td>\n",
       "      <td>1.0</td>\n",
       "      <td>0.093471</td>\n",
       "      <td>164798.583715</td>\n",
       "    </tr>\n",
       "    <tr>\n",
       "      <td>женат / замужем</td>\n",
       "      <td>0.641786</td>\n",
       "      <td>4543.026663</td>\n",
       "      <td>43.715779</td>\n",
       "      <td>0.805090</td>\n",
       "      <td>0.0</td>\n",
       "      <td>0.075452</td>\n",
       "      <td>166801.413162</td>\n",
       "    </tr>\n",
       "    <tr>\n",
       "      <td>не женат / не замужем</td>\n",
       "      <td>0.288612</td>\n",
       "      <td>3509.185053</td>\n",
       "      <td>38.615658</td>\n",
       "      <td>0.807473</td>\n",
       "      <td>4.0</td>\n",
       "      <td>0.097509</td>\n",
       "      <td>166325.816726</td>\n",
       "    </tr>\n",
       "  </tbody>\n",
       "</table>\n",
       "</div>"
      ],
      "text/plain": [
       "                       children  days_employed  dob_years  education_id  \\\n",
       "family_status                                                             \n",
       "в разводе              0.461088    4725.255230  45.881172      0.797490   \n",
       "вдовец / вдова         0.228363    9798.485923  56.816475      0.936392   \n",
       "гражданский брак       0.513370    4233.559865  42.272224      0.837389   \n",
       "женат / замужем        0.641786    4543.026663  43.715779      0.805090   \n",
       "не женат / не замужем  0.288612    3509.185053  38.615658      0.807473   \n",
       "\n",
       "                       family_status_id      debt   total_income  \n",
       "family_status                                                     \n",
       "в разводе                           3.0  0.071130  167702.644351  \n",
       "вдовец / вдова                      2.0  0.065693  142590.553702  \n",
       "гражданский брак                    1.0  0.093471  164798.583715  \n",
       "женат / замужем                     0.0  0.075452  166801.413162  \n",
       "не женат / не замужем               4.0  0.097509  166325.816726  "
      ]
     },
     "execution_count": 153,
     "metadata": {},
     "output_type": "execute_result"
    }
   ],
   "source": [
    "clients.groupby('family_status').mean()"
   ]
  },
  {
   "cell_type": "markdown",
   "metadata": {},
   "source": [
    "Благодаря такой категоризации мы можем сделать следующие выводы:\n",
    "- Вдовы и вдовцы в среднем имеют больший \"стаж труда\" чем клиенты с другим семейным положением\n",
    "- Вдовы и вдовцы в среднем имеют выше \"образование\" чем клиенты с другим семейным положением\n",
    "- Вдовы и вдовцы в среднем имеют меньше \"детей\" чем клиенты с другим семейным положением\n",
    "- Вдовы и вдовцы в среднем старше чем клиенты с другим семейным положением\n",
    "- Вдовы и вдовцы в среднем имеют меньше \"общий доход\" чем клиенты с другим семейным положением\n",
    "- Вдовы и вдовцы в среднем чаще отдают кредит в срок чем клиенты с другим семейным положением\n",
    "- Не женатые и не замужние клиенты в среднем младше чем клиенты с другим семейным положением\n",
    "- Клиенты, находящиеся не замужем и не женаты, а также в гражданском браке, в среднем реже отдают кредит в срок, чем клиенты с другим семейным положением"
   ]
  },
  {
   "cell_type": "markdown",
   "metadata": {},
   "source": [
    "Также мы можем категоризировать клиентов по уровню \"общего дохода\". Это является важнейшим показателем при работе скоринговой модели банка. Создадим функцию, которая будет относить клиентов в четыре разные группы:\n",
    "- Богатый\n",
    "- Обеспеченный\n",
    "- Бедный"
   ]
  },
  {
   "cell_type": "code",
   "execution_count": 154,
   "metadata": {},
   "outputs": [
    {
     "data": {
      "text/html": [
       "<div>\n",
       "<style scoped>\n",
       "    .dataframe tbody tr th:only-of-type {\n",
       "        vertical-align: middle;\n",
       "    }\n",
       "\n",
       "    .dataframe tbody tr th {\n",
       "        vertical-align: top;\n",
       "    }\n",
       "\n",
       "    .dataframe thead th {\n",
       "        text-align: right;\n",
       "    }\n",
       "</style>\n",
       "<table border=\"1\" class=\"dataframe\">\n",
       "  <thead>\n",
       "    <tr style=\"text-align: right;\">\n",
       "      <th></th>\n",
       "      <th>children</th>\n",
       "      <th>days_employed</th>\n",
       "      <th>dob_years</th>\n",
       "      <th>education_id</th>\n",
       "      <th>family_status_id</th>\n",
       "      <th>debt</th>\n",
       "      <th>total_income</th>\n",
       "    </tr>\n",
       "    <tr>\n",
       "      <th>income_group</th>\n",
       "      <th></th>\n",
       "      <th></th>\n",
       "      <th></th>\n",
       "      <th></th>\n",
       "      <th></th>\n",
       "      <th></th>\n",
       "      <th></th>\n",
       "    </tr>\n",
       "  </thead>\n",
       "  <tbody>\n",
       "    <tr>\n",
       "      <td>бедный</td>\n",
       "      <td>0.449912</td>\n",
       "      <td>6835.356766</td>\n",
       "      <td>46.748243</td>\n",
       "      <td>0.956942</td>\n",
       "      <td>0.920035</td>\n",
       "      <td>0.076450</td>\n",
       "      <td>63055.610281</td>\n",
       "    </tr>\n",
       "    <tr>\n",
       "      <td>богатый</td>\n",
       "      <td>0.606204</td>\n",
       "      <td>3623.304113</td>\n",
       "      <td>42.763992</td>\n",
       "      <td>0.566419</td>\n",
       "      <td>0.898854</td>\n",
       "      <td>0.071477</td>\n",
       "      <td>415548.084963</td>\n",
       "    </tr>\n",
       "    <tr>\n",
       "      <td>обеспеченный</td>\n",
       "      <td>0.548630</td>\n",
       "      <td>4385.618480</td>\n",
       "      <td>43.113196</td>\n",
       "      <td>0.820119</td>\n",
       "      <td>0.987115</td>\n",
       "      <td>0.082566</td>\n",
       "      <td>157501.764623</td>\n",
       "    </tr>\n",
       "  </tbody>\n",
       "</table>\n",
       "</div>"
      ],
      "text/plain": [
       "              children  days_employed  dob_years  education_id  \\\n",
       "income_group                                                     \n",
       "бедный        0.449912    6835.356766  46.748243      0.956942   \n",
       "богатый       0.606204    3623.304113  42.763992      0.566419   \n",
       "обеспеченный  0.548630    4385.618480  43.113196      0.820119   \n",
       "\n",
       "              family_status_id      debt   total_income  \n",
       "income_group                                             \n",
       "бедный                0.920035  0.076450   63055.610281  \n",
       "богатый               0.898854  0.071477  415548.084963  \n",
       "обеспеченный          0.987115  0.082566  157501.764623  "
      ]
     },
     "execution_count": 154,
     "metadata": {},
     "output_type": "execute_result"
    }
   ],
   "source": [
    "def total_income_group(total_income):\n",
    "    if total_income < 80000:\n",
    "        return 'бедный'\n",
    "    elif 80000 <= total_income <= 300000:\n",
    "        return 'обеспеченный'\n",
    "    elif total_income > 300000:\n",
    "        return 'богатый'\n",
    "    \n",
    "    \n",
    "# Создадим новый столбец, который характеризует доход клиента\n",
    "clients['income_group'] = clients['total_income'].apply(total_income_group)\n",
    "\n",
    "clients.groupby('income_group').mean()"
   ]
  },
  {
   "cell_type": "markdown",
   "metadata": {},
   "source": [
    "Благодаря такой категоризации мы можем сделать следующие выводы:\n",
    "- Бедные клиенты в среднем имеют меньше детей\n",
    "- Бедные клиенты в среднем имеют наибольший \"стаж труда\"\n",
    "- Богатые клиенты в среднем имеют выше \"образование\"\n",
    "- Богатые клиенты в среднем чаще отдают кредит срок, чем другие клиенты\n",
    "- Обеспеченные клиенты в среднем реже других отдают кредит в срок"
   ]
  },
  {
   "cell_type": "markdown",
   "metadata": {},
   "source": [
    "**Вывод**"
   ]
  },
  {
   "cell_type": "markdown",
   "metadata": {},
   "source": [
    "Выводы представлены для каждой категоризации выше"
   ]
  },
  {
   "cell_type": "markdown",
   "metadata": {},
   "source": [
    "## Шаг 3. Ответьте на вопросы"
   ]
  },
  {
   "cell_type": "markdown",
   "metadata": {},
   "source": [
    "- Есть ли зависимость между наличием детей и возвратом кредита в срок?"
   ]
  },
  {
   "cell_type": "code",
   "execution_count": 155,
   "metadata": {},
   "outputs": [
    {
     "data": {
      "text/html": [
       "<style  type=\"text/css\" >\n",
       "</style><table id=\"T_fb13ea74_d5d3_11eb_891b_02420a39239f\" ><thead>    <tr>        <th class=\"blank level0\" ></th>        <th class=\"col_heading level0 col0\" >debt</th>    </tr>    <tr>        <th class=\"index_name level0\" >parent</th>        <th class=\"blank\" ></th>    </tr></thead><tbody>\n",
       "                <tr>\n",
       "                        <th id=\"T_fb13ea74_d5d3_11eb_891b_02420a39239flevel0_row0\" class=\"row_heading level0 row0\" >детный</th>\n",
       "                        <td id=\"T_fb13ea74_d5d3_11eb_891b_02420a39239frow0_col0\" class=\"data row0 col0\" >9.30%</td>\n",
       "            </tr>\n",
       "            <tr>\n",
       "                        <th id=\"T_fb13ea74_d5d3_11eb_891b_02420a39239flevel0_row1\" class=\"row_heading level0 row1\" >многодетный</th>\n",
       "                        <td id=\"T_fb13ea74_d5d3_11eb_891b_02420a39239frow1_col0\" class=\"data row1 col0\" >8.55%</td>\n",
       "            </tr>\n",
       "            <tr>\n",
       "                        <th id=\"T_fb13ea74_d5d3_11eb_891b_02420a39239flevel0_row2\" class=\"row_heading level0 row2\" >бездетный</th>\n",
       "                        <td id=\"T_fb13ea74_d5d3_11eb_891b_02420a39239frow2_col0\" class=\"data row2 col0\" >7.53%</td>\n",
       "            </tr>\n",
       "    </tbody></table>"
      ],
      "text/plain": [
       "<pandas.io.formats.style.Styler at 0x7f7d7b634110>"
      ]
     },
     "execution_count": 155,
     "metadata": {},
     "output_type": "execute_result"
    }
   ],
   "source": [
    "clients.groupby('parent')[['debt']].mean().sort_values(by = 'debt', ascending=False).style.format({'debt': '{:.2%}'})"
   ]
  },
  {
   "cell_type": "markdown",
   "metadata": {},
   "source": [
    "**Вывод**"
   ]
  },
  {
   "cell_type": "markdown",
   "metadata": {},
   "source": [
    "Зависимость есть. Результат говорит о том, что бездетные клиенты в среднем чаще отдают кредит в срок, чем многодетные клиенты. Многодетные клиенты в среднем чаще отдают кредит в срок, чем клиенты с 1 или 2 детьми.\n",
    "\n",
    "Можно сделать следующие выводы:\n",
    "- Бездетные клиенты не имеют дополнительных затрат на детей, поэтому им легче управлять своими финансами и возвращать кредит в срок.\n",
    "- Многодетные клиенты имеют большую степень ответственности по жизни в целом, ведь у них больше 2 детей, а их надо обеспечивать и не залезать в долги перед банками."
   ]
  },
  {
   "cell_type": "markdown",
   "metadata": {},
   "source": [
    "- Есть ли зависимость между семейным положением и возвратом кредита в срок?"
   ]
  },
  {
   "cell_type": "code",
   "execution_count": 156,
   "metadata": {},
   "outputs": [
    {
     "data": {
      "text/html": [
       "<style  type=\"text/css\" >\n",
       "</style><table id=\"T_fc181076_d5d3_11eb_891b_02420a39239f\" ><thead>    <tr>        <th class=\"blank level0\" ></th>        <th class=\"col_heading level0 col0\" >debt</th>    </tr>    <tr>        <th class=\"index_name level0\" >family_status</th>        <th class=\"blank\" ></th>    </tr></thead><tbody>\n",
       "                <tr>\n",
       "                        <th id=\"T_fc181076_d5d3_11eb_891b_02420a39239flevel0_row0\" class=\"row_heading level0 row0\" >не женат / не замужем</th>\n",
       "                        <td id=\"T_fc181076_d5d3_11eb_891b_02420a39239frow0_col0\" class=\"data row0 col0\" >9.75%</td>\n",
       "            </tr>\n",
       "            <tr>\n",
       "                        <th id=\"T_fc181076_d5d3_11eb_891b_02420a39239flevel0_row1\" class=\"row_heading level0 row1\" >гражданский брак</th>\n",
       "                        <td id=\"T_fc181076_d5d3_11eb_891b_02420a39239frow1_col0\" class=\"data row1 col0\" >9.35%</td>\n",
       "            </tr>\n",
       "            <tr>\n",
       "                        <th id=\"T_fc181076_d5d3_11eb_891b_02420a39239flevel0_row2\" class=\"row_heading level0 row2\" >женат / замужем</th>\n",
       "                        <td id=\"T_fc181076_d5d3_11eb_891b_02420a39239frow2_col0\" class=\"data row2 col0\" >7.55%</td>\n",
       "            </tr>\n",
       "            <tr>\n",
       "                        <th id=\"T_fc181076_d5d3_11eb_891b_02420a39239flevel0_row3\" class=\"row_heading level0 row3\" >в разводе</th>\n",
       "                        <td id=\"T_fc181076_d5d3_11eb_891b_02420a39239frow3_col0\" class=\"data row3 col0\" >7.11%</td>\n",
       "            </tr>\n",
       "            <tr>\n",
       "                        <th id=\"T_fc181076_d5d3_11eb_891b_02420a39239flevel0_row4\" class=\"row_heading level0 row4\" >вдовец / вдова</th>\n",
       "                        <td id=\"T_fc181076_d5d3_11eb_891b_02420a39239frow4_col0\" class=\"data row4 col0\" >6.57%</td>\n",
       "            </tr>\n",
       "    </tbody></table>"
      ],
      "text/plain": [
       "<pandas.io.formats.style.Styler at 0x7f7d7b6fcc10>"
      ]
     },
     "execution_count": 156,
     "metadata": {},
     "output_type": "execute_result"
    }
   ],
   "source": [
    "clients.groupby('family_status')[['debt']].mean().sort_values(by = 'debt', ascending=False).style.format({'debt': '{:.2%}'})"
   ]
  },
  {
   "cell_type": "code",
   "execution_count": 157,
   "metadata": {},
   "outputs": [
    {
     "data": {
      "text/html": [
       "<style  type=\"text/css\" >\n",
       "</style><table id=\"T_fd5f2cf8_d5d3_11eb_891b_02420a39239f\" ><thead>    <tr>        <th class=\"blank level0\" ></th>        <th class=\"col_heading level0 col0\" >debt</th>    </tr>    <tr>        <th class=\"index_name level0\" >family_status</th>        <th class=\"blank\" ></th>    </tr></thead><tbody>\n",
       "                <tr>\n",
       "                        <th id=\"T_fd5f2cf8_d5d3_11eb_891b_02420a39239flevel0_row0\" class=\"row_heading level0 row0\" >в разводе</th>\n",
       "                        <td id=\"T_fd5f2cf8_d5d3_11eb_891b_02420a39239frow0_col0\" class=\"data row0 col0\" >7.11%</td>\n",
       "            </tr>\n",
       "            <tr>\n",
       "                        <th id=\"T_fd5f2cf8_d5d3_11eb_891b_02420a39239flevel0_row1\" class=\"row_heading level0 row1\" >вдовец / вдова</th>\n",
       "                        <td id=\"T_fd5f2cf8_d5d3_11eb_891b_02420a39239frow1_col0\" class=\"data row1 col0\" >6.57%</td>\n",
       "            </tr>\n",
       "            <tr>\n",
       "                        <th id=\"T_fd5f2cf8_d5d3_11eb_891b_02420a39239flevel0_row2\" class=\"row_heading level0 row2\" >гражданский брак</th>\n",
       "                        <td id=\"T_fd5f2cf8_d5d3_11eb_891b_02420a39239frow2_col0\" class=\"data row2 col0\" >9.35%</td>\n",
       "            </tr>\n",
       "            <tr>\n",
       "                        <th id=\"T_fd5f2cf8_d5d3_11eb_891b_02420a39239flevel0_row3\" class=\"row_heading level0 row3\" >женат / замужем</th>\n",
       "                        <td id=\"T_fd5f2cf8_d5d3_11eb_891b_02420a39239frow3_col0\" class=\"data row3 col0\" >7.55%</td>\n",
       "            </tr>\n",
       "            <tr>\n",
       "                        <th id=\"T_fd5f2cf8_d5d3_11eb_891b_02420a39239flevel0_row4\" class=\"row_heading level0 row4\" >не женат / не замужем</th>\n",
       "                        <td id=\"T_fd5f2cf8_d5d3_11eb_891b_02420a39239frow4_col0\" class=\"data row4 col0\" >9.75%</td>\n",
       "            </tr>\n",
       "    </tbody></table>"
      ],
      "text/plain": [
       "<pandas.io.formats.style.Styler at 0x7f7dc4f6d9d0>"
      ]
     },
     "execution_count": 157,
     "metadata": {},
     "output_type": "execute_result"
    }
   ],
   "source": [
    "clients.groupby('family_status')[['debt']].mean().style.format({'debt': '{:.2%}'})"
   ]
  },
  {
   "cell_type": "markdown",
   "metadata": {},
   "source": [
    "**Вывод**"
   ]
  },
  {
   "cell_type": "markdown",
   "metadata": {},
   "source": [
    "Зависимость есть. Вдовцы и вдовы в среднем отдают кредит в срок чаще, чем другие клиенты. Можем наблюдать следующую тенденцию: клиенты, которые в общем имели опыт настоящего официального брака, в среднем отдают кредит в срок чаще, чем клиенты, которые не имели такого опыта.\n",
    "\n",
    "Можно сделать следующий вывод: брак придает людям больше ответственности и учит управлять финансами семьи в целом, благодаря чему такие клиенты чаще отдают кредит в срок, чем другие."
   ]
  },
  {
   "cell_type": "markdown",
   "metadata": {},
   "source": [
    "- Есть ли зависимость между уровнем дохода и возвратом кредита в срок?"
   ]
  },
  {
   "cell_type": "code",
   "execution_count": 158,
   "metadata": {},
   "outputs": [
    {
     "data": {
      "text/html": [
       "<style  type=\"text/css\" >\n",
       "</style><table id=\"T_fe2879dc_d5d3_11eb_891b_02420a39239f\" ><thead>    <tr>        <th class=\"blank level0\" ></th>        <th class=\"col_heading level0 col0\" >debt</th>    </tr>    <tr>        <th class=\"index_name level0\" >income_group</th>        <th class=\"blank\" ></th>    </tr></thead><tbody>\n",
       "                <tr>\n",
       "                        <th id=\"T_fe2879dc_d5d3_11eb_891b_02420a39239flevel0_row0\" class=\"row_heading level0 row0\" >обеспеченный</th>\n",
       "                        <td id=\"T_fe2879dc_d5d3_11eb_891b_02420a39239frow0_col0\" class=\"data row0 col0\" >8.26%</td>\n",
       "            </tr>\n",
       "            <tr>\n",
       "                        <th id=\"T_fe2879dc_d5d3_11eb_891b_02420a39239flevel0_row1\" class=\"row_heading level0 row1\" >бедный</th>\n",
       "                        <td id=\"T_fe2879dc_d5d3_11eb_891b_02420a39239frow1_col0\" class=\"data row1 col0\" >7.64%</td>\n",
       "            </tr>\n",
       "            <tr>\n",
       "                        <th id=\"T_fe2879dc_d5d3_11eb_891b_02420a39239flevel0_row2\" class=\"row_heading level0 row2\" >богатый</th>\n",
       "                        <td id=\"T_fe2879dc_d5d3_11eb_891b_02420a39239frow2_col0\" class=\"data row2 col0\" >7.15%</td>\n",
       "            </tr>\n",
       "    </tbody></table>"
      ],
      "text/plain": [
       "<pandas.io.formats.style.Styler at 0x7f7d7b634710>"
      ]
     },
     "execution_count": 158,
     "metadata": {},
     "output_type": "execute_result"
    }
   ],
   "source": [
    "clients.groupby('income_group')[['debt']].mean().sort_values(by = 'debt', ascending=False).style.format({'debt': '{:.2%}'})"
   ]
  },
  {
   "cell_type": "markdown",
   "metadata": {},
   "source": [
    "**Вывод**"
   ]
  },
  {
   "cell_type": "markdown",
   "metadata": {},
   "source": [
    "Размуеется, зависимость есть, ведь такой показатель, как \"общий доход\" является важнейшим показателем, когда речь идет о кредитах.\n",
    "\n",
    "Можно сделать следующие выводы:\n",
    "- Богатые клиенты в среднем отдают кредит в срок чаще, чем другие, так как такие клиенты лучше приспособлены к управлению финансами, они образованнее и имеют лучшее понятие о своих возможностях, когда думают брать кредит.\n",
    "- Бедные люди в среднем отдают кредит в срок чаще, чем обеспеченные, так как бедные клиенты понимают, что они имеют ограниченные финансы, соответственно, такие клиенты чаще задумываются об управлении своим бюджетом, что способствует своевременным выплатам по кредиту."
   ]
  },
  {
   "cell_type": "markdown",
   "metadata": {},
   "source": [
    "- Как разные цели кредита влияют на его возврат в срок?"
   ]
  },
  {
   "cell_type": "code",
   "execution_count": 159,
   "metadata": {},
   "outputs": [
    {
     "data": {
      "text/html": [
       "<style  type=\"text/css\" >\n",
       "</style><table id=\"T_001f9f40_d5d4_11eb_891b_02420a39239f\" ><thead>    <tr>        <th class=\"blank level0\" ></th>        <th class=\"col_heading level0 col0\" >debt</th>    </tr>    <tr>        <th class=\"index_name level0\" >purpose_stemmed</th>        <th class=\"blank\" ></th>    </tr></thead><tbody>\n",
       "                <tr>\n",
       "                        <th id=\"T_001f9f40_d5d4_11eb_891b_02420a39239flevel0_row0\" class=\"row_heading level0 row0\" >автомобиль</th>\n",
       "                        <td id=\"T_001f9f40_d5d4_11eb_891b_02420a39239frow0_col0\" class=\"data row0 col0\" >9.36%</td>\n",
       "            </tr>\n",
       "            <tr>\n",
       "                        <th id=\"T_001f9f40_d5d4_11eb_891b_02420a39239flevel0_row1\" class=\"row_heading level0 row1\" >образование</th>\n",
       "                        <td id=\"T_001f9f40_d5d4_11eb_891b_02420a39239frow1_col0\" class=\"data row1 col0\" >9.22%</td>\n",
       "            </tr>\n",
       "            <tr>\n",
       "                        <th id=\"T_001f9f40_d5d4_11eb_891b_02420a39239flevel0_row2\" class=\"row_heading level0 row2\" >свадьба</th>\n",
       "                        <td id=\"T_001f9f40_d5d4_11eb_891b_02420a39239frow2_col0\" class=\"data row2 col0\" >8.00%</td>\n",
       "            </tr>\n",
       "            <tr>\n",
       "                        <th id=\"T_001f9f40_d5d4_11eb_891b_02420a39239flevel0_row3\" class=\"row_heading level0 row3\" >коммерция</th>\n",
       "                        <td id=\"T_001f9f40_d5d4_11eb_891b_02420a39239frow3_col0\" class=\"data row3 col0\" >7.55%</td>\n",
       "            </tr>\n",
       "            <tr>\n",
       "                        <th id=\"T_001f9f40_d5d4_11eb_891b_02420a39239flevel0_row4\" class=\"row_heading level0 row4\" >жилье</th>\n",
       "                        <td id=\"T_001f9f40_d5d4_11eb_891b_02420a39239frow4_col0\" class=\"data row4 col0\" >7.19%</td>\n",
       "            </tr>\n",
       "    </tbody></table>"
      ],
      "text/plain": [
       "<pandas.io.formats.style.Styler at 0x7f7d7b6e80d0>"
      ]
     },
     "execution_count": 159,
     "metadata": {},
     "output_type": "execute_result"
    }
   ],
   "source": [
    "clients.groupby('purpose_stemmed')[['debt']].mean().sort_values(by = 'debt', ascending=False).style.format({'debt': '{:.2%}'})"
   ]
  },
  {
   "cell_type": "markdown",
   "metadata": {},
   "source": [
    "**Вывод**"
   ]
  },
  {
   "cell_type": "markdown",
   "metadata": {},
   "source": [
    "Зависимость присутствует. Причем вполне объяснимая.\n",
    "\n",
    "Можно сделать следующие выводы:\n",
    "- Кредит с целью \"автомобиль\" в среднем отдается реже, чем другие, так как, когда идет речь об \"автомобиле\", необходимо учитывать дополнительные аспекты. Автомобиль может неожиданно сломаться, его ремонт может очень дорого обойтись, что поспособствует уменьшению финансов клиента. Автомобиль может попасть в ДТП, его ремонт также может дорого обойтись, что также поспособствует уменьшению финансов клиента.\n",
    "- Кредит с целью \"образование\" в среднем отдается реже, чем другие, за исключением кредитов на \"автомобиль\", так как не всегда образование, полученное клиентом, окупает себя. Возможно, клиент получил повышение образования, но он никак не воспользовался своими знаниями и не увеличил свой доход. В итоге - кредит взят, доход не увеличен.\n",
    "- Кредит с целью \"жилье\" в среднем отдается чаще, чем другие, так как это очень ответственный кредит, клиенты очень много раз думают перед тем, как действительно взять такой кредит, тем более данные кредиты обычно выдаются на долгий срок, что заставляет клиента еще раз подумать о своих возможностях.\n",
    "- Кредит с целью \"коммерция\" в среднем отдается чаще, чем другие, за исключением кредитов на \"жилье\", так как клиенты, которые берут кредит с этой целью, заранее составляют бизнес-план и план возвращения кредита в кратчайшие сроки, ведь это в их же интересах. Это способствует своевременным выплатам по кредиту.\n",
    "- Кредит с целью \"свадьба\" в среднем затисался в середине нашего рейтинга, возможно потому, что свадьба это иногда серьезное, обдуманное событие, а иногда очень даже спонтанное. Это и влияет на своевременность дальнейших выплат по кредиту."
   ]
  },
  {
   "cell_type": "markdown",
   "metadata": {},
   "source": [
    "## Шаг 4. Общий вывод"
   ]
  },
  {
   "cell_type": "markdown",
   "metadata": {},
   "source": [
    "Во входных данных были найдены пропуски, а именно были пропущены значения \"общего дохода\" и \"стажа труда\" для некоторых клиентов. Эти пропуски могли возникнуть по причине утери данных, например, при их транспортировке. Пропущенные значения были заменены на медианы в соответствии со \"статусами\" клиентов.\n",
    "\n",
    "В столбце \"образование\" нашлись дубликаты. Степень образования была написана в разных регистрах для разных клиентов. Проблема могла заключаться в том, что при оформлении заявки на кредит, данные об образовании были внесены клиентами по разному: \"ВЫСШЕЕ\", \"высшее\", \"Среднее\", \"среднее\". В форме заявки не был указан стандарт заполнения для поля \"образования\".\n",
    "\n",
    "\n",
    "Можно сделать следующие основные выводы:\n",
    "1) Кредиты с целью \"жилье\" в среднем возвращаются в срок чаще;\n",
    "\n",
    "2) Богатые клиенты в среднем выпалчивают кредит в срок чаще;\n",
    "\n",
    "3) Не женатые и не замужние клиенты в среднем выплачивают кредит в срок чаще;\n",
    "\n",
    "4) Бездетные клиенты в среднем выплачивают кредит в срок чаще.\n",
    "\n",
    "Картина <b>наилучшего</b> заемщика следующая:\n",
    "- Кредит с целью \"жилье\";\n",
    "- Доход заемщика выше 300000;\n",
    "- Заемщик не замужем или не женат;\n",
    "- Заемщик не имеет детей."
   ]
  }
 ],
 "metadata": {
  "ExecuteTimeLog": [
   {
    "duration": 880,
    "start_time": "2021-06-23T17:38:58.672Z"
   },
   {
    "duration": 97,
    "start_time": "2021-06-23T17:43:42.671Z"
   },
   {
    "duration": 95,
    "start_time": "2021-06-23T17:44:15.684Z"
   },
   {
    "duration": 87,
    "start_time": "2021-06-23T17:49:02.627Z"
   },
   {
    "duration": 28,
    "start_time": "2021-06-23T17:56:29.185Z"
   },
   {
    "duration": 117,
    "start_time": "2021-06-23T17:56:54.164Z"
   },
   {
    "duration": 113,
    "start_time": "2021-06-23T17:57:09.411Z"
   },
   {
    "duration": 33,
    "start_time": "2021-06-23T17:57:48.811Z"
   },
   {
    "duration": 31,
    "start_time": "2021-06-23T17:57:58.579Z"
   },
   {
    "duration": 16,
    "start_time": "2021-06-23T17:58:15.508Z"
   },
   {
    "duration": 13,
    "start_time": "2021-06-23T17:59:40.221Z"
   },
   {
    "duration": 427,
    "start_time": "2021-06-23T18:02:22.512Z"
   },
   {
    "duration": 307,
    "start_time": "2021-06-23T18:02:33.993Z"
   },
   {
    "duration": 15,
    "start_time": "2021-06-23T18:02:48.040Z"
   },
   {
    "duration": 23,
    "start_time": "2021-06-23T18:04:07.739Z"
   },
   {
    "duration": 14,
    "start_time": "2021-06-23T18:04:11.970Z"
   },
   {
    "duration": 14,
    "start_time": "2021-06-23T18:04:17.066Z"
   },
   {
    "duration": 6,
    "start_time": "2021-06-23T18:04:23.010Z"
   },
   {
    "duration": 14,
    "start_time": "2021-06-23T18:04:40.042Z"
   },
   {
    "duration": 24,
    "start_time": "2021-06-23T18:13:39.740Z"
   },
   {
    "duration": 14,
    "start_time": "2021-06-23T18:34:39.103Z"
   },
   {
    "duration": 14,
    "start_time": "2021-06-23T18:34:54.975Z"
   },
   {
    "duration": 13,
    "start_time": "2021-06-23T18:41:37.782Z"
   },
   {
    "duration": 397,
    "start_time": "2021-06-23T18:44:48.649Z"
   },
   {
    "duration": 89,
    "start_time": "2021-06-23T18:44:55.667Z"
   },
   {
    "duration": 17,
    "start_time": "2021-06-23T18:44:58.353Z"
   },
   {
    "duration": 88,
    "start_time": "2021-06-23T18:45:55.371Z"
   },
   {
    "duration": 19,
    "start_time": "2021-06-23T18:46:17.715Z"
   },
   {
    "duration": 17,
    "start_time": "2021-06-23T18:46:27.867Z"
   },
   {
    "duration": 19,
    "start_time": "2021-06-23T18:46:32.122Z"
   },
   {
    "duration": 17,
    "start_time": "2021-06-23T18:46:36.123Z"
   },
   {
    "duration": 31,
    "start_time": "2021-06-23T18:46:48.323Z"
   },
   {
    "duration": 31,
    "start_time": "2021-06-23T18:46:52.387Z"
   },
   {
    "duration": 18,
    "start_time": "2021-06-23T18:47:12.597Z"
   },
   {
    "duration": 17,
    "start_time": "2021-06-23T18:47:18.356Z"
   },
   {
    "duration": 29,
    "start_time": "2021-06-23T18:47:29.315Z"
   },
   {
    "duration": 30,
    "start_time": "2021-06-23T18:48:14.237Z"
   },
   {
    "duration": 13,
    "start_time": "2021-06-23T18:50:59.880Z"
   },
   {
    "duration": 14,
    "start_time": "2021-06-23T18:51:03.456Z"
   },
   {
    "duration": 22,
    "start_time": "2021-06-23T18:56:14.895Z"
   },
   {
    "duration": 24,
    "start_time": "2021-06-23T18:58:55.370Z"
   },
   {
    "duration": 16,
    "start_time": "2021-06-23T19:00:21.694Z"
   },
   {
    "duration": 9,
    "start_time": "2021-06-23T19:00:27.987Z"
   },
   {
    "duration": 18,
    "start_time": "2021-06-23T19:00:36.562Z"
   },
   {
    "duration": 23,
    "start_time": "2021-06-23T19:00:46.059Z"
   },
   {
    "duration": 36,
    "start_time": "2021-06-23T19:00:49.251Z"
   },
   {
    "duration": 23,
    "start_time": "2021-06-23T19:00:53.075Z"
   },
   {
    "duration": 5,
    "start_time": "2021-06-23T19:04:42.433Z"
   },
   {
    "duration": 5,
    "start_time": "2021-06-23T19:05:07.961Z"
   },
   {
    "duration": 5,
    "start_time": "2021-06-23T19:05:23.383Z"
   },
   {
    "duration": 118,
    "start_time": "2021-06-23T19:06:16.746Z"
   },
   {
    "duration": 392,
    "start_time": "2021-06-23T19:11:01.610Z"
   },
   {
    "duration": 12,
    "start_time": "2021-06-23T19:11:08.296Z"
   },
   {
    "duration": 13,
    "start_time": "2021-06-23T19:11:15.974Z"
   },
   {
    "duration": 7,
    "start_time": "2021-06-23T19:11:39.832Z"
   },
   {
    "duration": 92,
    "start_time": "2021-06-23T19:11:43.704Z"
   },
   {
    "duration": 12,
    "start_time": "2021-06-23T19:11:46.488Z"
   },
   {
    "duration": 24,
    "start_time": "2021-06-23T19:11:48.879Z"
   },
   {
    "duration": 4,
    "start_time": "2021-06-23T19:11:51.688Z"
   },
   {
    "duration": 20,
    "start_time": "2021-06-23T19:12:10.153Z"
   },
   {
    "duration": 91,
    "start_time": "2021-06-23T19:12:19.922Z"
   },
   {
    "duration": 16,
    "start_time": "2021-06-23T19:12:21.904Z"
   },
   {
    "duration": 28,
    "start_time": "2021-06-23T19:12:24.113Z"
   },
   {
    "duration": 5,
    "start_time": "2021-06-23T19:12:26.217Z"
   },
   {
    "duration": 15,
    "start_time": "2021-06-23T19:12:32.944Z"
   },
   {
    "duration": 10,
    "start_time": "2021-06-23T19:13:16.186Z"
   },
   {
    "duration": 8,
    "start_time": "2021-06-23T19:13:18.778Z"
   },
   {
    "duration": 111,
    "start_time": "2021-06-23T19:13:34.626Z"
   },
   {
    "duration": 86,
    "start_time": "2021-06-23T19:20:55.092Z"
   },
   {
    "duration": 14,
    "start_time": "2021-06-23T19:20:58.369Z"
   },
   {
    "duration": 32,
    "start_time": "2021-06-23T19:20:59.939Z"
   },
   {
    "duration": 9,
    "start_time": "2021-06-23T19:23:59.390Z"
   },
   {
    "duration": 88,
    "start_time": "2021-06-23T19:27:54.229Z"
   },
   {
    "duration": 14,
    "start_time": "2021-06-23T19:27:58.858Z"
   },
   {
    "duration": 15,
    "start_time": "2021-06-23T19:28:47.771Z"
   },
   {
    "duration": 4,
    "start_time": "2021-06-23T19:29:16.076Z"
   },
   {
    "duration": 13,
    "start_time": "2021-06-23T19:29:17.067Z"
   },
   {
    "duration": 10,
    "start_time": "2021-06-23T19:29:17.932Z"
   },
   {
    "duration": 10,
    "start_time": "2021-06-23T19:29:20.084Z"
   },
   {
    "duration": 23,
    "start_time": "2021-06-23T19:29:35.331Z"
   },
   {
    "duration": 88,
    "start_time": "2021-06-23T19:31:22.423Z"
   },
   {
    "duration": 14,
    "start_time": "2021-06-23T19:31:23.518Z"
   },
   {
    "duration": 32,
    "start_time": "2021-06-23T19:31:24.238Z"
   },
   {
    "duration": 4,
    "start_time": "2021-06-23T19:31:27.357Z"
   },
   {
    "duration": 19,
    "start_time": "2021-06-23T19:31:28.253Z"
   },
   {
    "duration": 29,
    "start_time": "2021-06-23T19:31:30.301Z"
   },
   {
    "duration": 19,
    "start_time": "2021-06-23T19:31:35.966Z"
   },
   {
    "duration": 97,
    "start_time": "2021-06-23T19:31:45.519Z"
   },
   {
    "duration": 13,
    "start_time": "2021-06-23T19:31:48.950Z"
   },
   {
    "duration": 13,
    "start_time": "2021-06-23T19:32:02.486Z"
   },
   {
    "duration": 13,
    "start_time": "2021-06-23T19:32:07.926Z"
   },
   {
    "duration": 14,
    "start_time": "2021-06-23T19:34:19.218Z"
   },
   {
    "duration": 88,
    "start_time": "2021-06-23T19:34:24.617Z"
   },
   {
    "duration": 12,
    "start_time": "2021-06-23T19:34:26.026Z"
   },
   {
    "duration": 26,
    "start_time": "2021-06-23T19:34:28.265Z"
   },
   {
    "duration": 4,
    "start_time": "2021-06-23T19:38:35.745Z"
   },
   {
    "duration": 316,
    "start_time": "2021-06-23T19:38:58.254Z"
   },
   {
    "duration": 362,
    "start_time": "2021-06-23T19:39:10.127Z"
   },
   {
    "duration": 5,
    "start_time": "2021-06-23T19:39:28.208Z"
   },
   {
    "duration": 17,
    "start_time": "2021-06-23T19:39:46.624Z"
   },
   {
    "duration": 15,
    "start_time": "2021-06-23T19:39:58.911Z"
   },
   {
    "duration": 8,
    "start_time": "2021-06-23T19:40:17.631Z"
   },
   {
    "duration": 5,
    "start_time": "2021-06-23T19:40:55.088Z"
   },
   {
    "duration": 8,
    "start_time": "2021-06-23T19:41:12.464Z"
   },
   {
    "duration": 13,
    "start_time": "2021-06-23T19:45:35.054Z"
   },
   {
    "duration": 24,
    "start_time": "2021-06-23T19:47:10.762Z"
   },
   {
    "duration": 6,
    "start_time": "2021-06-23T19:50:42.974Z"
   },
   {
    "duration": 328,
    "start_time": "2021-06-23T19:50:51.395Z"
   },
   {
    "duration": 6,
    "start_time": "2021-06-23T19:50:57.581Z"
   },
   {
    "duration": 6,
    "start_time": "2021-06-23T19:51:01.884Z"
   },
   {
    "duration": 6,
    "start_time": "2021-06-23T19:51:43.716Z"
   },
   {
    "duration": 6,
    "start_time": "2021-06-23T19:51:50.301Z"
   },
   {
    "duration": 13,
    "start_time": "2021-06-23T19:58:13.752Z"
   },
   {
    "duration": 18,
    "start_time": "2021-06-23T19:58:30.125Z"
   },
   {
    "duration": 28,
    "start_time": "2021-06-23T19:58:42.212Z"
   },
   {
    "duration": 14,
    "start_time": "2021-06-23T19:58:51.236Z"
   },
   {
    "duration": 13,
    "start_time": "2021-06-23T19:59:12.381Z"
   },
   {
    "duration": 14,
    "start_time": "2021-06-23T19:59:31.990Z"
   },
   {
    "duration": 14,
    "start_time": "2021-06-23T20:03:27.686Z"
   },
   {
    "duration": 14,
    "start_time": "2021-06-23T20:03:34.098Z"
   },
   {
    "duration": 8,
    "start_time": "2021-06-23T20:05:57.885Z"
   },
   {
    "duration": 7,
    "start_time": "2021-06-23T20:06:08.357Z"
   },
   {
    "duration": 16,
    "start_time": "2021-06-23T20:10:01.363Z"
   },
   {
    "duration": 13,
    "start_time": "2021-06-23T20:10:08.930Z"
   },
   {
    "duration": 13,
    "start_time": "2021-06-23T20:11:17.095Z"
   },
   {
    "duration": 782,
    "start_time": "2021-06-24T06:45:47.697Z"
   },
   {
    "duration": 14,
    "start_time": "2021-06-24T06:46:27.346Z"
   },
   {
    "duration": 23,
    "start_time": "2021-06-24T06:46:32.626Z"
   },
   {
    "duration": 5,
    "start_time": "2021-06-24T06:46:49.050Z"
   },
   {
    "duration": 8,
    "start_time": "2021-06-24T06:46:55.109Z"
   },
   {
    "duration": 6,
    "start_time": "2021-06-24T06:47:14.202Z"
   },
   {
    "duration": 15,
    "start_time": "2021-06-24T06:47:26.454Z"
   },
   {
    "duration": 7,
    "start_time": "2021-06-24T07:25:26.047Z"
   },
   {
    "duration": 11,
    "start_time": "2021-06-24T07:25:33.736Z"
   },
   {
    "duration": 374,
    "start_time": "2021-06-24T07:30:12.337Z"
   },
   {
    "duration": 6584,
    "start_time": "2021-06-24T07:30:16.924Z"
   },
   {
    "duration": 10,
    "start_time": "2021-06-24T07:30:55.006Z"
   },
   {
    "duration": 84,
    "start_time": "2021-06-24T07:31:26.457Z"
   },
   {
    "duration": 12,
    "start_time": "2021-06-24T07:31:53.527Z"
   },
   {
    "duration": 13,
    "start_time": "2021-06-24T09:06:03.658Z"
   },
   {
    "duration": 12,
    "start_time": "2021-06-24T09:06:09.986Z"
   },
   {
    "duration": 36,
    "start_time": "2021-06-24T09:06:36.988Z"
   },
   {
    "duration": 10,
    "start_time": "2021-06-24T09:20:24.918Z"
   },
   {
    "duration": 272,
    "start_time": "2021-06-24T09:20:36.768Z"
   },
   {
    "duration": 11,
    "start_time": "2021-06-24T09:21:17.139Z"
   },
   {
    "duration": 38,
    "start_time": "2021-06-24T09:21:42.654Z"
   },
   {
    "duration": 40,
    "start_time": "2021-06-24T09:22:43.286Z"
   },
   {
    "duration": 17,
    "start_time": "2021-06-24T09:23:21.422Z"
   },
   {
    "duration": 17,
    "start_time": "2021-06-24T09:24:04.577Z"
   },
   {
    "duration": 17,
    "start_time": "2021-06-24T09:24:17.709Z"
   },
   {
    "duration": 27,
    "start_time": "2021-06-24T09:24:28.276Z"
   },
   {
    "duration": 18,
    "start_time": "2021-06-24T13:13:48.854Z"
   },
   {
    "duration": 13,
    "start_time": "2021-06-24T13:13:51.923Z"
   },
   {
    "duration": 100,
    "start_time": "2021-06-24T13:14:02.948Z"
   },
   {
    "duration": 13,
    "start_time": "2021-06-24T13:14:04.921Z"
   },
   {
    "duration": 28,
    "start_time": "2021-06-24T13:14:05.962Z"
   },
   {
    "duration": 5,
    "start_time": "2021-06-24T13:14:07.305Z"
   },
   {
    "duration": 8,
    "start_time": "2021-06-24T13:14:07.819Z"
   },
   {
    "duration": 7,
    "start_time": "2021-06-24T13:14:09.082Z"
   },
   {
    "duration": 18,
    "start_time": "2021-06-24T13:14:11.361Z"
   },
   {
    "duration": 21,
    "start_time": "2021-06-24T13:14:15.857Z"
   },
   {
    "duration": 248,
    "start_time": "2021-06-24T13:15:35.580Z"
   },
   {
    "duration": 5,
    "start_time": "2021-06-24T13:15:38.692Z"
   },
   {
    "duration": 265,
    "start_time": "2021-06-24T13:15:53.101Z"
   },
   {
    "duration": 269,
    "start_time": "2021-06-24T13:15:55.948Z"
   },
   {
    "duration": 6,
    "start_time": "2021-06-24T13:16:00.948Z"
   },
   {
    "duration": 246,
    "start_time": "2021-06-24T13:16:05.140Z"
   },
   {
    "duration": 246,
    "start_time": "2021-06-24T13:16:10.556Z"
   },
   {
    "duration": 978,
    "start_time": "2021-06-24T13:16:34.048Z"
   },
   {
    "duration": 7,
    "start_time": "2021-06-24T13:16:41.069Z"
   },
   {
    "duration": 7,
    "start_time": "2021-06-24T13:17:11.766Z"
   },
   {
    "duration": 14,
    "start_time": "2021-06-24T13:17:15.046Z"
   },
   {
    "duration": 64,
    "start_time": "2021-06-24T13:17:20.310Z"
   },
   {
    "duration": 265,
    "start_time": "2021-06-24T13:17:32.510Z"
   },
   {
    "duration": 259,
    "start_time": "2021-06-24T13:17:35.551Z"
   },
   {
    "duration": 254,
    "start_time": "2021-06-24T13:17:42.998Z"
   },
   {
    "duration": 271,
    "start_time": "2021-06-24T13:17:46.638Z"
   },
   {
    "duration": 287,
    "start_time": "2021-06-24T13:17:48.614Z"
   },
   {
    "duration": 20,
    "start_time": "2021-06-24T13:18:16.239Z"
   },
   {
    "duration": 19,
    "start_time": "2021-06-24T13:18:19.262Z"
   },
   {
    "duration": 8,
    "start_time": "2021-06-24T13:18:27.696Z"
   },
   {
    "duration": 6,
    "start_time": "2021-06-24T13:18:54.623Z"
   },
   {
    "duration": 26,
    "start_time": "2021-06-24T13:19:45.313Z"
   },
   {
    "duration": 27,
    "start_time": "2021-06-24T13:19:59.073Z"
   },
   {
    "duration": 31,
    "start_time": "2021-06-24T13:20:02.121Z"
   },
   {
    "duration": 28,
    "start_time": "2021-06-24T13:20:03.657Z"
   },
   {
    "duration": 981,
    "start_time": "2021-06-24T13:21:13.039Z"
   },
   {
    "duration": 40,
    "start_time": "2021-06-24T13:21:31.296Z"
   },
   {
    "duration": 28,
    "start_time": "2021-06-24T13:21:36.379Z"
   },
   {
    "duration": 7225,
    "start_time": "2021-06-24T13:21:41.971Z"
   },
   {
    "duration": 36,
    "start_time": "2021-06-24T13:21:59.835Z"
   },
   {
    "duration": 40,
    "start_time": "2021-06-24T13:23:19.717Z"
   },
   {
    "duration": 38,
    "start_time": "2021-06-24T13:23:51.293Z"
   },
   {
    "duration": 35,
    "start_time": "2021-06-24T13:23:59.198Z"
   },
   {
    "duration": 34,
    "start_time": "2021-06-24T13:25:16.152Z"
   },
   {
    "duration": 26,
    "start_time": "2021-06-24T13:25:18.935Z"
   },
   {
    "duration": 35,
    "start_time": "2021-06-24T13:25:25.415Z"
   },
   {
    "duration": 36,
    "start_time": "2021-06-24T13:25:39.048Z"
   },
   {
    "duration": 38,
    "start_time": "2021-06-24T13:26:15.817Z"
   },
   {
    "duration": 30,
    "start_time": "2021-06-24T13:26:42.353Z"
   },
   {
    "duration": 27,
    "start_time": "2021-06-24T13:26:46.681Z"
   },
   {
    "duration": 22,
    "start_time": "2021-06-24T13:26:55.193Z"
   },
   {
    "duration": 29,
    "start_time": "2021-06-24T13:27:07.825Z"
   },
   {
    "duration": 23,
    "start_time": "2021-06-24T13:27:09.322Z"
   },
   {
    "duration": 31,
    "start_time": "2021-06-24T13:27:29.771Z"
   },
   {
    "duration": 88,
    "start_time": "2021-06-24T13:27:37.915Z"
   },
   {
    "duration": 13,
    "start_time": "2021-06-24T13:27:38.586Z"
   },
   {
    "duration": 23,
    "start_time": "2021-06-24T13:27:38.834Z"
   },
   {
    "duration": 4,
    "start_time": "2021-06-24T13:27:39.137Z"
   },
   {
    "duration": 7,
    "start_time": "2021-06-24T13:27:39.282Z"
   },
   {
    "duration": 5,
    "start_time": "2021-06-24T13:27:40.018Z"
   },
   {
    "duration": 17,
    "start_time": "2021-06-24T13:27:41.787Z"
   },
   {
    "duration": 30,
    "start_time": "2021-06-24T13:27:42.874Z"
   },
   {
    "duration": 36,
    "start_time": "2021-06-24T13:27:48.507Z"
   },
   {
    "duration": 29,
    "start_time": "2021-06-24T13:28:29.283Z"
   },
   {
    "duration": 22,
    "start_time": "2021-06-24T13:28:31.779Z"
   },
   {
    "duration": 28,
    "start_time": "2021-06-24T13:28:52.996Z"
   },
   {
    "duration": 21,
    "start_time": "2021-06-24T13:28:55.131Z"
   },
   {
    "duration": 27,
    "start_time": "2021-06-24T13:29:07.780Z"
   },
   {
    "duration": 6680,
    "start_time": "2021-06-24T13:30:59.215Z"
   },
   {
    "duration": 6362,
    "start_time": "2021-06-24T13:31:44.904Z"
   },
   {
    "duration": 988,
    "start_time": "2021-06-24T13:31:50.280Z"
   },
   {
    "duration": 6289,
    "start_time": "2021-06-24T13:32:19.345Z"
   },
   {
    "duration": 990,
    "start_time": "2021-06-24T13:32:24.646Z"
   },
   {
    "duration": 329,
    "start_time": "2021-06-24T13:32:49.954Z"
   },
   {
    "duration": 92,
    "start_time": "2021-06-24T13:33:11.634Z"
   },
   {
    "duration": 314,
    "start_time": "2021-06-24T13:33:15.066Z"
   },
   {
    "duration": 6622,
    "start_time": "2021-06-24T13:33:23.635Z"
   },
   {
    "duration": 10,
    "start_time": "2021-06-24T13:33:53.300Z"
   },
   {
    "duration": 25,
    "start_time": "2021-06-24T13:35:20.972Z"
   },
   {
    "duration": 33,
    "start_time": "2021-06-24T13:35:26.922Z"
   },
   {
    "duration": 39,
    "start_time": "2021-06-24T13:36:13.325Z"
   },
   {
    "duration": 37,
    "start_time": "2021-06-24T13:36:20.645Z"
   },
   {
    "duration": 24,
    "start_time": "2021-06-24T13:36:23.997Z"
   },
   {
    "duration": 270,
    "start_time": "2021-06-24T13:37:09.973Z"
   },
   {
    "duration": 26,
    "start_time": "2021-06-24T13:37:22.717Z"
   },
   {
    "duration": 22,
    "start_time": "2021-06-24T13:37:25.549Z"
   },
   {
    "duration": 25,
    "start_time": "2021-06-24T13:37:57.718Z"
   },
   {
    "duration": 91,
    "start_time": "2021-06-24T13:38:18.919Z"
   },
   {
    "duration": 28,
    "start_time": "2021-06-24T13:38:22.639Z"
   },
   {
    "duration": 33,
    "start_time": "2021-06-24T13:38:38.759Z"
   },
   {
    "duration": 39,
    "start_time": "2021-06-24T13:42:26.413Z"
   },
   {
    "duration": 22,
    "start_time": "2021-06-24T13:42:30.996Z"
   },
   {
    "duration": 36,
    "start_time": "2021-06-24T13:42:41.317Z"
   },
   {
    "duration": 7238,
    "start_time": "2021-06-24T13:51:41.519Z"
   },
   {
    "duration": 8742,
    "start_time": "2021-06-24T13:52:12.376Z"
   },
   {
    "duration": 6561,
    "start_time": "2021-06-24T13:52:31.209Z"
   },
   {
    "duration": 9503,
    "start_time": "2021-06-24T13:52:44.481Z"
   },
   {
    "duration": 91,
    "start_time": "2021-06-24T13:53:13.745Z"
   },
   {
    "duration": 2102,
    "start_time": "2021-06-24T13:54:01.385Z"
   },
   {
    "duration": 6621,
    "start_time": "2021-06-24T13:54:35.051Z"
   },
   {
    "duration": 31,
    "start_time": "2021-06-24T13:56:28.229Z"
   },
   {
    "duration": 32,
    "start_time": "2021-06-24T13:56:55.389Z"
   },
   {
    "duration": 85,
    "start_time": "2021-06-24T13:57:04.637Z"
   },
   {
    "duration": 96,
    "start_time": "2021-06-24T13:57:27.231Z"
   },
   {
    "duration": 96,
    "start_time": "2021-06-24T13:57:44.766Z"
   },
   {
    "duration": 38,
    "start_time": "2021-06-24T13:59:23.192Z"
   },
   {
    "duration": 47,
    "start_time": "2021-06-24T14:16:37.022Z"
   },
   {
    "duration": 41,
    "start_time": "2021-06-24T14:17:08.701Z"
   },
   {
    "duration": 32,
    "start_time": "2021-06-24T14:17:14.029Z"
   },
   {
    "duration": 92,
    "start_time": "2021-06-24T14:17:52.312Z"
   },
   {
    "duration": 28,
    "start_time": "2021-06-24T14:18:25.239Z"
   },
   {
    "duration": 23,
    "start_time": "2021-06-24T14:18:28.110Z"
   },
   {
    "duration": 30,
    "start_time": "2021-06-24T14:19:12.624Z"
   },
   {
    "duration": 22,
    "start_time": "2021-06-24T14:19:16.615Z"
   },
   {
    "duration": 35,
    "start_time": "2021-06-24T14:23:41.150Z"
   },
   {
    "duration": 37,
    "start_time": "2021-06-24T14:23:45.540Z"
   },
   {
    "duration": 11,
    "start_time": "2021-06-24T14:27:53.866Z"
   },
   {
    "duration": 10,
    "start_time": "2021-06-24T14:28:08.155Z"
   },
   {
    "duration": 10,
    "start_time": "2021-06-24T14:28:14.562Z"
   },
   {
    "duration": 23,
    "start_time": "2021-06-24T14:28:36.035Z"
   },
   {
    "duration": 31,
    "start_time": "2021-06-24T14:28:55.611Z"
   },
   {
    "duration": 25,
    "start_time": "2021-06-24T14:30:09.662Z"
   },
   {
    "duration": 18,
    "start_time": "2021-06-24T14:32:30.889Z"
   },
   {
    "duration": 38,
    "start_time": "2021-06-24T14:37:20.422Z"
   },
   {
    "duration": 27,
    "start_time": "2021-06-24T14:40:42.218Z"
   },
   {
    "duration": 13,
    "start_time": "2021-06-24T14:52:18.832Z"
   },
   {
    "duration": 37,
    "start_time": "2021-06-24T14:58:17.311Z"
   },
   {
    "duration": 18,
    "start_time": "2021-06-24T14:58:24.928Z"
   },
   {
    "duration": 17,
    "start_time": "2021-06-24T14:58:34.063Z"
   },
   {
    "duration": 17,
    "start_time": "2021-06-24T14:58:36.726Z"
   },
   {
    "duration": 9,
    "start_time": "2021-06-24T14:59:04.143Z"
   },
   {
    "duration": 11,
    "start_time": "2021-06-24T14:59:14.313Z"
   },
   {
    "duration": 50,
    "start_time": "2021-06-24T14:59:25.088Z"
   },
   {
    "duration": 12,
    "start_time": "2021-06-24T15:03:26.844Z"
   },
   {
    "duration": 15,
    "start_time": "2021-06-24T15:06:48.545Z"
   },
   {
    "duration": 38,
    "start_time": "2021-06-24T15:08:01.730Z"
   },
   {
    "duration": 39,
    "start_time": "2021-06-24T15:22:57.868Z"
   },
   {
    "duration": 30,
    "start_time": "2021-06-24T15:25:02.878Z"
   },
   {
    "duration": 54,
    "start_time": "2021-06-24T15:28:33.724Z"
   },
   {
    "duration": 10,
    "start_time": "2021-06-24T15:30:36.877Z"
   },
   {
    "duration": 9,
    "start_time": "2021-06-24T15:30:42.589Z"
   },
   {
    "duration": 14,
    "start_time": "2021-06-24T15:30:46.261Z"
   },
   {
    "duration": 27,
    "start_time": "2021-06-24T15:33:24.280Z"
   },
   {
    "duration": 39,
    "start_time": "2021-06-24T15:33:29.121Z"
   },
   {
    "duration": 30,
    "start_time": "2021-06-24T15:33:33.401Z"
   },
   {
    "duration": 22,
    "start_time": "2021-06-24T15:39:03.952Z"
   },
   {
    "duration": 40,
    "start_time": "2021-06-24T15:39:38.496Z"
   },
   {
    "duration": 22,
    "start_time": "2021-06-24T15:40:05.657Z"
   },
   {
    "duration": 22,
    "start_time": "2021-06-24T15:40:23.217Z"
   },
   {
    "duration": 14,
    "start_time": "2021-06-24T15:40:41.753Z"
   },
   {
    "duration": 12,
    "start_time": "2021-06-24T15:54:08.603Z"
   },
   {
    "duration": 11,
    "start_time": "2021-06-24T15:54:17.496Z"
   },
   {
    "duration": 11,
    "start_time": "2021-06-24T15:54:25.337Z"
   },
   {
    "duration": 12,
    "start_time": "2021-06-24T15:54:28.440Z"
   },
   {
    "duration": 11,
    "start_time": "2021-06-24T15:54:33.521Z"
   },
   {
    "duration": 12,
    "start_time": "2021-06-24T15:54:37.409Z"
   },
   {
    "duration": 16,
    "start_time": "2021-06-24T15:54:40.912Z"
   },
   {
    "duration": 15,
    "start_time": "2021-06-24T15:54:43.793Z"
   },
   {
    "duration": 13,
    "start_time": "2021-06-24T15:54:48.721Z"
   },
   {
    "duration": 13,
    "start_time": "2021-06-24T15:56:47.395Z"
   },
   {
    "duration": 13,
    "start_time": "2021-06-24T15:56:51.891Z"
   },
   {
    "duration": 16,
    "start_time": "2021-06-24T15:56:55.620Z"
   },
   {
    "duration": 21,
    "start_time": "2021-06-24T15:58:31.262Z"
   },
   {
    "duration": 19,
    "start_time": "2021-06-24T15:58:49.213Z"
   },
   {
    "duration": 22,
    "start_time": "2021-06-24T15:58:59.806Z"
   },
   {
    "duration": 21,
    "start_time": "2021-06-24T15:59:06.933Z"
   },
   {
    "duration": 18,
    "start_time": "2021-06-24T15:59:15.230Z"
   },
   {
    "duration": 19,
    "start_time": "2021-06-24T15:59:27.065Z"
   },
   {
    "duration": 36,
    "start_time": "2021-06-24T15:59:38.262Z"
   },
   {
    "duration": 48,
    "start_time": "2021-06-24T16:00:10.376Z"
   },
   {
    "duration": 15,
    "start_time": "2021-06-24T16:00:38.617Z"
   },
   {
    "duration": 16,
    "start_time": "2021-06-24T16:00:46.904Z"
   },
   {
    "duration": 12,
    "start_time": "2021-06-24T16:00:52.241Z"
   },
   {
    "duration": 19,
    "start_time": "2021-06-24T16:01:06.488Z"
   },
   {
    "duration": 38,
    "start_time": "2021-06-24T16:01:49.563Z"
   },
   {
    "duration": 35,
    "start_time": "2021-06-24T16:01:59.282Z"
   },
   {
    "duration": 41,
    "start_time": "2021-06-24T16:08:11.225Z"
   },
   {
    "duration": 38,
    "start_time": "2021-06-24T16:19:42.031Z"
   },
   {
    "duration": 33,
    "start_time": "2021-06-24T16:19:58.398Z"
   },
   {
    "duration": 105,
    "start_time": "2021-06-24T16:20:05.743Z"
   },
   {
    "duration": 13,
    "start_time": "2021-06-24T16:20:07.014Z"
   },
   {
    "duration": 32,
    "start_time": "2021-06-24T16:20:07.334Z"
   },
   {
    "duration": 4,
    "start_time": "2021-06-24T16:20:07.646Z"
   },
   {
    "duration": 9,
    "start_time": "2021-06-24T16:20:07.789Z"
   },
   {
    "duration": 7,
    "start_time": "2021-06-24T16:20:08.087Z"
   },
   {
    "duration": 15,
    "start_time": "2021-06-24T16:20:09.511Z"
   },
   {
    "duration": 35,
    "start_time": "2021-06-24T16:20:11.613Z"
   },
   {
    "duration": 10,
    "start_time": "2021-06-24T16:20:14.974Z"
   },
   {
    "duration": 22,
    "start_time": "2021-06-24T16:20:17.263Z"
   },
   {
    "duration": 43,
    "start_time": "2021-06-24T16:20:21.646Z"
   },
   {
    "duration": 41,
    "start_time": "2021-06-24T16:22:56.426Z"
   },
   {
    "duration": 27,
    "start_time": "2021-06-24T16:23:35.515Z"
   },
   {
    "duration": 27,
    "start_time": "2021-06-24T16:23:37.538Z"
   },
   {
    "duration": 88,
    "start_time": "2021-06-24T16:23:41.459Z"
   },
   {
    "duration": 14,
    "start_time": "2021-06-24T16:23:42.354Z"
   },
   {
    "duration": 23,
    "start_time": "2021-06-24T16:23:42.698Z"
   },
   {
    "duration": 4,
    "start_time": "2021-06-24T16:23:43.050Z"
   },
   {
    "duration": 9,
    "start_time": "2021-06-24T16:23:43.233Z"
   },
   {
    "duration": 7,
    "start_time": "2021-06-24T16:23:44.057Z"
   },
   {
    "duration": 15,
    "start_time": "2021-06-24T16:23:46.050Z"
   },
   {
    "duration": 33,
    "start_time": "2021-06-24T16:23:47.715Z"
   },
   {
    "duration": 10,
    "start_time": "2021-06-24T16:23:48.354Z"
   },
   {
    "duration": 14,
    "start_time": "2021-06-24T16:23:49.810Z"
   },
   {
    "duration": 30,
    "start_time": "2021-06-24T16:23:51.826Z"
   },
   {
    "duration": 12,
    "start_time": "2021-06-24T16:25:26.420Z"
   },
   {
    "duration": 91,
    "start_time": "2021-06-24T16:27:50.817Z"
   },
   {
    "duration": 15,
    "start_time": "2021-06-24T16:27:51.510Z"
   },
   {
    "duration": 25,
    "start_time": "2021-06-24T16:27:51.775Z"
   },
   {
    "duration": 4,
    "start_time": "2021-06-24T16:27:52.023Z"
   },
   {
    "duration": 8,
    "start_time": "2021-06-24T16:27:52.151Z"
   },
   {
    "duration": 7,
    "start_time": "2021-06-24T16:27:52.398Z"
   },
   {
    "duration": 16,
    "start_time": "2021-06-24T16:27:53.694Z"
   },
   {
    "duration": 34,
    "start_time": "2021-06-24T16:27:53.990Z"
   },
   {
    "duration": 10,
    "start_time": "2021-06-24T16:27:55.231Z"
   },
   {
    "duration": 16,
    "start_time": "2021-06-24T16:27:55.502Z"
   },
   {
    "duration": 68,
    "start_time": "2021-06-24T16:27:56.920Z"
   },
   {
    "duration": 89,
    "start_time": "2021-06-24T16:28:26.217Z"
   },
   {
    "duration": 13,
    "start_time": "2021-06-24T16:28:26.839Z"
   },
   {
    "duration": 34,
    "start_time": "2021-06-24T16:28:27.088Z"
   },
   {
    "duration": 5,
    "start_time": "2021-06-24T16:28:27.320Z"
   },
   {
    "duration": 9,
    "start_time": "2021-06-24T16:28:27.439Z"
   },
   {
    "duration": 6,
    "start_time": "2021-06-24T16:28:27.663Z"
   },
   {
    "duration": 14,
    "start_time": "2021-06-24T16:28:28.640Z"
   },
   {
    "duration": 34,
    "start_time": "2021-06-24T16:28:28.879Z"
   },
   {
    "duration": 14,
    "start_time": "2021-06-24T16:28:30.744Z"
   },
   {
    "duration": 22,
    "start_time": "2021-06-24T16:28:31.007Z"
   },
   {
    "duration": 60,
    "start_time": "2021-06-24T16:28:32.113Z"
   },
   {
    "duration": 12,
    "start_time": "2021-06-24T16:28:39.672Z"
   },
   {
    "duration": 31,
    "start_time": "2021-06-24T16:28:53.745Z"
   },
   {
    "duration": 93,
    "start_time": "2021-06-24T16:29:00.593Z"
   },
   {
    "duration": 12,
    "start_time": "2021-06-24T16:29:01.360Z"
   },
   {
    "duration": 23,
    "start_time": "2021-06-24T16:29:01.688Z"
   },
   {
    "duration": 4,
    "start_time": "2021-06-24T16:29:02.023Z"
   },
   {
    "duration": 8,
    "start_time": "2021-06-24T16:29:02.191Z"
   },
   {
    "duration": 7,
    "start_time": "2021-06-24T16:29:02.520Z"
   },
   {
    "duration": 14,
    "start_time": "2021-06-24T16:29:02.832Z"
   },
   {
    "duration": 37,
    "start_time": "2021-06-24T16:29:05.464Z"
   },
   {
    "duration": 10,
    "start_time": "2021-06-24T16:29:05.872Z"
   },
   {
    "duration": 16,
    "start_time": "2021-06-24T16:29:07.209Z"
   },
   {
    "duration": 59,
    "start_time": "2021-06-24T16:29:10.696Z"
   },
   {
    "duration": 89,
    "start_time": "2021-06-24T16:29:19.673Z"
   },
   {
    "duration": 35,
    "start_time": "2021-06-24T16:29:26.697Z"
   },
   {
    "duration": 57,
    "start_time": "2021-06-24T16:29:31.825Z"
   },
   {
    "duration": 47,
    "start_time": "2021-06-24T16:33:34.073Z"
   },
   {
    "duration": 15,
    "start_time": "2021-06-24T16:33:59.591Z"
   },
   {
    "duration": 14,
    "start_time": "2021-06-24T16:45:36.933Z"
   },
   {
    "duration": 9,
    "start_time": "2021-06-24T16:52:46.253Z"
   },
   {
    "duration": 11,
    "start_time": "2021-06-24T16:53:09.950Z"
   },
   {
    "duration": 11,
    "start_time": "2021-06-24T16:53:12.253Z"
   },
   {
    "duration": 38,
    "start_time": "2021-06-24T16:55:05.344Z"
   },
   {
    "duration": 40,
    "start_time": "2021-06-24T16:55:35.673Z"
   },
   {
    "duration": 19,
    "start_time": "2021-06-24T16:56:31.369Z"
   },
   {
    "duration": 13,
    "start_time": "2021-06-24T16:56:35.112Z"
   },
   {
    "duration": 14,
    "start_time": "2021-06-24T16:56:39.809Z"
   },
   {
    "duration": 55,
    "start_time": "2021-06-24T16:56:56.857Z"
   },
   {
    "duration": 34,
    "start_time": "2021-06-24T16:58:40.550Z"
   },
   {
    "duration": 37,
    "start_time": "2021-06-24T16:58:47.244Z"
   },
   {
    "duration": 44,
    "start_time": "2021-06-24T16:58:57.205Z"
   },
   {
    "duration": 35,
    "start_time": "2021-06-24T16:59:01.284Z"
   },
   {
    "duration": 36,
    "start_time": "2021-06-24T17:02:23.387Z"
   },
   {
    "duration": 56,
    "start_time": "2021-06-24T17:02:32.475Z"
   },
   {
    "duration": 18,
    "start_time": "2021-06-24T17:03:19.593Z"
   },
   {
    "duration": 16,
    "start_time": "2021-06-24T17:03:59.578Z"
   },
   {
    "duration": 52,
    "start_time": "2021-06-24T17:08:36.128Z"
   },
   {
    "duration": 38,
    "start_time": "2021-06-24T17:09:13.401Z"
   },
   {
    "duration": 36,
    "start_time": "2021-06-24T17:10:35.026Z"
   },
   {
    "duration": 35,
    "start_time": "2021-06-24T17:11:01.946Z"
   },
   {
    "duration": 97,
    "start_time": "2021-06-24T17:11:06.319Z"
   },
   {
    "duration": 41,
    "start_time": "2021-06-24T17:11:10.690Z"
   },
   {
    "duration": 36,
    "start_time": "2021-06-24T17:11:19.106Z"
   },
   {
    "duration": 37,
    "start_time": "2021-06-24T17:11:22.347Z"
   },
   {
    "duration": 6,
    "start_time": "2021-06-24T17:16:45.865Z"
   },
   {
    "duration": 17,
    "start_time": "2021-06-24T17:16:53.568Z"
   },
   {
    "duration": 37,
    "start_time": "2021-06-24T17:17:30.281Z"
   },
   {
    "duration": 15,
    "start_time": "2021-06-24T17:17:37.961Z"
   },
   {
    "duration": 16,
    "start_time": "2021-06-24T17:17:40.001Z"
   },
   {
    "duration": 284,
    "start_time": "2021-06-24T17:18:21.858Z"
   },
   {
    "duration": 11,
    "start_time": "2021-06-24T17:18:40.603Z"
   },
   {
    "duration": 10,
    "start_time": "2021-06-24T17:19:09.740Z"
   },
   {
    "duration": 37,
    "start_time": "2021-06-24T17:19:13.371Z"
   },
   {
    "duration": 14,
    "start_time": "2021-06-24T17:19:16.779Z"
   },
   {
    "duration": 16,
    "start_time": "2021-06-24T17:19:18.323Z"
   },
   {
    "duration": 16,
    "start_time": "2021-06-24T17:19:20.451Z"
   },
   {
    "duration": 10,
    "start_time": "2021-06-24T17:19:32.964Z"
   },
   {
    "duration": 39,
    "start_time": "2021-06-24T17:19:34.308Z"
   },
   {
    "duration": 19,
    "start_time": "2021-06-24T17:20:06.284Z"
   },
   {
    "duration": 23,
    "start_time": "2021-06-24T17:25:07.059Z"
   },
   {
    "duration": 22,
    "start_time": "2021-06-24T17:25:13.610Z"
   },
   {
    "duration": 490,
    "start_time": "2021-06-24T17:25:30.691Z"
   },
   {
    "duration": 21,
    "start_time": "2021-06-24T17:25:38.683Z"
   },
   {
    "duration": 31,
    "start_time": "2021-06-24T17:25:57.299Z"
   },
   {
    "duration": 29,
    "start_time": "2021-06-24T17:26:14.452Z"
   },
   {
    "duration": 22,
    "start_time": "2021-06-24T17:26:17.332Z"
   },
   {
    "duration": 258,
    "start_time": "2021-06-24T17:26:56.189Z"
   },
   {
    "duration": 260,
    "start_time": "2021-06-24T17:27:36.285Z"
   },
   {
    "duration": 309,
    "start_time": "2021-06-24T17:27:47.150Z"
   },
   {
    "duration": 315,
    "start_time": "2021-06-24T17:28:03.446Z"
   },
   {
    "duration": 310,
    "start_time": "2021-06-24T17:28:13.854Z"
   },
   {
    "duration": 35,
    "start_time": "2021-06-24T17:28:18.688Z"
   },
   {
    "duration": 274,
    "start_time": "2021-06-24T17:29:04.583Z"
   },
   {
    "duration": 267,
    "start_time": "2021-06-24T17:29:50.047Z"
   },
   {
    "duration": 49,
    "start_time": "2021-06-24T17:29:58.112Z"
   },
   {
    "duration": 32,
    "start_time": "2021-06-24T17:30:02.265Z"
   },
   {
    "duration": 44,
    "start_time": "2021-06-24T17:30:09.169Z"
   },
   {
    "duration": 56,
    "start_time": "2021-06-24T17:31:52.539Z"
   },
   {
    "duration": 52,
    "start_time": "2021-06-24T17:32:06.898Z"
   },
   {
    "duration": 50,
    "start_time": "2021-06-24T17:34:29.648Z"
   },
   {
    "duration": 11,
    "start_time": "2021-06-24T17:34:37.373Z"
   },
   {
    "duration": 16,
    "start_time": "2021-06-24T17:34:51.174Z"
   },
   {
    "duration": 16,
    "start_time": "2021-06-24T17:36:17.562Z"
   },
   {
    "duration": 16,
    "start_time": "2021-06-24T17:36:27.536Z"
   },
   {
    "duration": 249,
    "start_time": "2021-06-24T17:37:19.361Z"
   },
   {
    "duration": 266,
    "start_time": "2021-06-24T17:37:23.585Z"
   },
   {
    "duration": 55,
    "start_time": "2021-06-24T17:37:35.844Z"
   },
   {
    "duration": 27,
    "start_time": "2021-06-24T17:37:55.049Z"
   },
   {
    "duration": 22,
    "start_time": "2021-06-24T17:39:21.003Z"
   },
   {
    "duration": 254,
    "start_time": "2021-06-24T17:39:36.739Z"
   },
   {
    "duration": 22,
    "start_time": "2021-06-24T17:40:09.543Z"
   },
   {
    "duration": 17,
    "start_time": "2021-06-24T17:44:32.184Z"
   },
   {
    "duration": 257,
    "start_time": "2021-06-24T17:47:50.597Z"
   },
   {
    "duration": 57,
    "start_time": "2021-06-24T17:48:15.174Z"
   },
   {
    "duration": 55,
    "start_time": "2021-06-24T17:49:30.254Z"
   },
   {
    "duration": 80,
    "start_time": "2021-06-24T17:49:34.135Z"
   },
   {
    "duration": 275,
    "start_time": "2021-06-24T17:52:54.987Z"
   },
   {
    "duration": 32,
    "start_time": "2021-06-24T17:52:59.266Z"
   },
   {
    "duration": 263,
    "start_time": "2021-06-24T17:53:21.771Z"
   },
   {
    "duration": 3814,
    "start_time": "2021-06-24T17:53:26.667Z"
   },
   {
    "duration": 46,
    "start_time": "2021-06-24T17:54:05.001Z"
   },
   {
    "duration": 21,
    "start_time": "2021-06-24T17:55:02.462Z"
   },
   {
    "duration": 269,
    "start_time": "2021-06-24T17:55:13.092Z"
   },
   {
    "duration": 3795,
    "start_time": "2021-06-24T17:55:17.901Z"
   },
   {
    "duration": 317,
    "start_time": "2021-06-24T17:55:54.595Z"
   },
   {
    "duration": 331,
    "start_time": "2021-06-24T17:56:04.902Z"
   },
   {
    "duration": 342,
    "start_time": "2021-06-24T17:56:10.158Z"
   },
   {
    "duration": 361,
    "start_time": "2021-06-24T17:56:12.422Z"
   },
   {
    "duration": 308,
    "start_time": "2021-06-24T17:56:14.718Z"
   },
   {
    "duration": 4031,
    "start_time": "2021-06-24T17:56:26.318Z"
   },
   {
    "duration": 3248,
    "start_time": "2021-06-24T17:56:31.415Z"
   },
   {
    "duration": 3256,
    "start_time": "2021-06-24T17:56:36.895Z"
   },
   {
    "duration": 320,
    "start_time": "2021-06-24T17:56:57.887Z"
   },
   {
    "duration": 320,
    "start_time": "2021-06-24T17:57:18.120Z"
   },
   {
    "duration": 342,
    "start_time": "2021-06-24T17:57:24.039Z"
   },
   {
    "duration": 268,
    "start_time": "2021-06-24T17:57:29.384Z"
   },
   {
    "duration": 328,
    "start_time": "2021-06-24T17:59:16.833Z"
   },
   {
    "duration": 333,
    "start_time": "2021-06-24T17:59:22.425Z"
   },
   {
    "duration": 532,
    "start_time": "2021-06-24T17:59:28.690Z"
   },
   {
    "duration": 84,
    "start_time": "2021-06-24T17:59:39.082Z"
   },
   {
    "duration": 344,
    "start_time": "2021-06-24T17:59:42.081Z"
   },
   {
    "duration": 440,
    "start_time": "2021-06-24T17:59:47.154Z"
   },
   {
    "duration": 5930,
    "start_time": "2021-06-24T17:59:54.475Z"
   },
   {
    "duration": 86,
    "start_time": "2021-06-24T18:00:32.582Z"
   },
   {
    "duration": 97,
    "start_time": "2021-06-24T18:00:37.292Z"
   },
   {
    "duration": 82,
    "start_time": "2021-06-24T18:00:40.275Z"
   },
   {
    "duration": 26,
    "start_time": "2021-06-24T18:00:42.155Z"
   },
   {
    "duration": 22,
    "start_time": "2021-06-24T18:00:59.164Z"
   },
   {
    "duration": 26,
    "start_time": "2021-06-24T18:01:37.244Z"
   },
   {
    "duration": 31,
    "start_time": "2021-06-24T18:01:44.909Z"
   },
   {
    "duration": 64,
    "start_time": "2021-06-24T18:02:26.277Z"
   },
   {
    "duration": 51,
    "start_time": "2021-06-24T18:05:04.312Z"
   },
   {
    "duration": 26,
    "start_time": "2021-06-24T18:06:40.275Z"
   },
   {
    "duration": 24,
    "start_time": "2021-06-24T18:07:13.555Z"
   },
   {
    "duration": 25,
    "start_time": "2021-06-24T18:07:34.284Z"
   },
   {
    "duration": 288,
    "start_time": "2021-06-24T18:07:53.732Z"
   },
   {
    "duration": 89,
    "start_time": "2021-06-24T18:08:05.661Z"
   },
   {
    "duration": 24,
    "start_time": "2021-06-24T18:08:09.995Z"
   },
   {
    "duration": 23,
    "start_time": "2021-06-24T18:08:18.996Z"
   },
   {
    "duration": 32,
    "start_time": "2021-06-24T18:09:15.965Z"
   },
   {
    "duration": 25,
    "start_time": "2021-06-24T18:09:24.390Z"
   },
   {
    "duration": 97,
    "start_time": "2021-06-24T18:10:24.999Z"
   },
   {
    "duration": 95,
    "start_time": "2021-06-24T18:10:34.815Z"
   },
   {
    "duration": 59,
    "start_time": "2021-06-24T18:11:44.273Z"
   },
   {
    "duration": 60,
    "start_time": "2021-06-24T18:12:11.401Z"
   },
   {
    "duration": 89,
    "start_time": "2021-06-24T18:12:13.369Z"
   },
   {
    "duration": 276,
    "start_time": "2021-06-24T18:28:32.485Z"
   },
   {
    "duration": 11,
    "start_time": "2021-06-24T18:28:36.036Z"
   },
   {
    "duration": 429,
    "start_time": "2021-06-24T18:30:47.158Z"
   },
   {
    "duration": 285,
    "start_time": "2021-06-24T18:30:55.935Z"
   },
   {
    "duration": 13549,
    "start_time": "2021-06-24T18:31:08.839Z"
   },
   {
    "duration": 318,
    "start_time": "2021-06-24T18:32:05.129Z"
   },
   {
    "duration": 257,
    "start_time": "2021-06-24T18:32:22.801Z"
   },
   {
    "duration": 5040,
    "start_time": "2021-06-24T18:33:23.442Z"
   },
   {
    "duration": 286,
    "start_time": "2021-06-24T18:34:02.659Z"
   },
   {
    "duration": 915,
    "start_time": "2021-06-24T18:34:13.827Z"
   },
   {
    "duration": 1147,
    "start_time": "2021-06-24T18:34:26.011Z"
   },
   {
    "duration": 1369,
    "start_time": "2021-06-24T18:35:26.237Z"
   },
   {
    "duration": 957,
    "start_time": "2021-06-24T18:35:49.909Z"
   },
   {
    "duration": 933,
    "start_time": "2021-06-24T18:36:15.149Z"
   },
   {
    "duration": 1232,
    "start_time": "2021-06-24T18:36:54.965Z"
   },
   {
    "duration": 983,
    "start_time": "2021-06-24T18:38:02.080Z"
   },
   {
    "duration": 7167,
    "start_time": "2021-06-24T18:42:18.300Z"
   },
   {
    "duration": 7454,
    "start_time": "2021-06-24T18:43:00.975Z"
   },
   {
    "duration": 14,
    "start_time": "2021-06-24T18:43:35.165Z"
   },
   {
    "duration": 16,
    "start_time": "2021-06-24T18:43:37.230Z"
   },
   {
    "duration": 13,
    "start_time": "2021-06-24T18:43:39.509Z"
   },
   {
    "duration": 7819,
    "start_time": "2021-06-24T18:51:02.433Z"
   },
   {
    "duration": 7533,
    "start_time": "2021-06-24T18:51:34.255Z"
   },
   {
    "duration": 6019,
    "start_time": "2021-06-24T18:52:19.911Z"
   },
   {
    "duration": 4167,
    "start_time": "2021-06-24T18:52:38.703Z"
   },
   {
    "duration": 6,
    "start_time": "2021-06-24T18:53:03.080Z"
   },
   {
    "duration": 3993,
    "start_time": "2021-06-24T18:53:08.375Z"
   },
   {
    "duration": 72,
    "start_time": "2021-06-24T18:54:26.681Z"
   },
   {
    "duration": 94,
    "start_time": "2021-06-24T18:54:31.907Z"
   },
   {
    "duration": 13,
    "start_time": "2021-06-24T18:54:32.521Z"
   },
   {
    "duration": 26,
    "start_time": "2021-06-24T18:54:32.714Z"
   },
   {
    "duration": 4,
    "start_time": "2021-06-24T18:54:32.985Z"
   },
   {
    "duration": 8,
    "start_time": "2021-06-24T18:54:33.113Z"
   },
   {
    "duration": 6,
    "start_time": "2021-06-24T18:54:33.401Z"
   },
   {
    "duration": 19,
    "start_time": "2021-06-24T18:54:33.657Z"
   },
   {
    "duration": 50,
    "start_time": "2021-06-24T18:54:33.961Z"
   },
   {
    "duration": 14,
    "start_time": "2021-06-24T18:54:34.257Z"
   },
   {
    "duration": 22,
    "start_time": "2021-06-24T18:54:34.561Z"
   },
   {
    "duration": 86,
    "start_time": "2021-06-24T18:54:34.874Z"
   },
   {
    "duration": 51,
    "start_time": "2021-06-24T18:54:35.186Z"
   },
   {
    "duration": 15,
    "start_time": "2021-06-24T18:54:35.520Z"
   },
   {
    "duration": 34,
    "start_time": "2021-06-24T18:54:35.992Z"
   },
   {
    "duration": 11,
    "start_time": "2021-06-24T18:54:36.145Z"
   },
   {
    "duration": 56,
    "start_time": "2021-06-24T18:54:36.457Z"
   },
   {
    "duration": 53,
    "start_time": "2021-06-24T18:54:36.795Z"
   },
   {
    "duration": 18,
    "start_time": "2021-06-24T18:54:37.209Z"
   },
   {
    "duration": 37,
    "start_time": "2021-06-24T18:54:37.809Z"
   },
   {
    "duration": 34,
    "start_time": "2021-06-24T18:54:38.001Z"
   },
   {
    "duration": 17,
    "start_time": "2021-06-24T18:54:39.400Z"
   },
   {
    "duration": 19,
    "start_time": "2021-06-24T18:54:40.161Z"
   },
   {
    "duration": 15,
    "start_time": "2021-06-24T18:54:41.881Z"
   },
   {
    "duration": 22,
    "start_time": "2021-06-24T18:54:44.899Z"
   },
   {
    "duration": 52,
    "start_time": "2021-06-24T18:54:47.137Z"
   },
   {
    "duration": 346,
    "start_time": "2021-06-24T18:55:22.075Z"
   },
   {
    "duration": 60,
    "start_time": "2021-06-24T18:55:43.506Z"
   },
   {
    "duration": 91,
    "start_time": "2021-06-24T18:55:49.788Z"
   },
   {
    "duration": 19,
    "start_time": "2021-06-24T18:55:50.457Z"
   },
   {
    "duration": 34,
    "start_time": "2021-06-24T18:55:50.692Z"
   },
   {
    "duration": 5,
    "start_time": "2021-06-24T18:55:50.922Z"
   },
   {
    "duration": 8,
    "start_time": "2021-06-24T18:55:51.034Z"
   },
   {
    "duration": 6,
    "start_time": "2021-06-24T18:55:51.282Z"
   },
   {
    "duration": 16,
    "start_time": "2021-06-24T18:55:51.521Z"
   },
   {
    "duration": 33,
    "start_time": "2021-06-24T18:55:51.769Z"
   },
   {
    "duration": 25,
    "start_time": "2021-06-24T18:55:52.010Z"
   },
   {
    "duration": 15,
    "start_time": "2021-06-24T18:55:52.258Z"
   },
   {
    "duration": 61,
    "start_time": "2021-06-24T18:55:52.539Z"
   },
   {
    "duration": 51,
    "start_time": "2021-06-24T18:55:52.804Z"
   },
   {
    "duration": 14,
    "start_time": "2021-06-24T18:55:53.066Z"
   },
   {
    "duration": 36,
    "start_time": "2021-06-24T18:55:53.498Z"
   },
   {
    "duration": 13,
    "start_time": "2021-06-24T18:55:53.642Z"
   },
   {
    "duration": 38,
    "start_time": "2021-06-24T18:55:53.938Z"
   },
   {
    "duration": 37,
    "start_time": "2021-06-24T18:55:54.246Z"
   },
   {
    "duration": 16,
    "start_time": "2021-06-24T18:55:54.388Z"
   },
   {
    "duration": 38,
    "start_time": "2021-06-24T18:55:54.698Z"
   },
   {
    "duration": 34,
    "start_time": "2021-06-24T18:55:54.851Z"
   },
   {
    "duration": 15,
    "start_time": "2021-06-24T18:55:55.601Z"
   },
   {
    "duration": 20,
    "start_time": "2021-06-24T18:55:55.986Z"
   },
   {
    "duration": 17,
    "start_time": "2021-06-24T18:55:56.705Z"
   },
   {
    "duration": 21,
    "start_time": "2021-06-24T18:55:56.993Z"
   },
   {
    "duration": 51,
    "start_time": "2021-06-24T18:55:57.314Z"
   },
   {
    "duration": 65,
    "start_time": "2021-06-24T18:55:58.114Z"
   },
   {
    "duration": 19954,
    "start_time": "2021-06-24T18:56:02.123Z"
   },
   {
    "duration": 6,
    "start_time": "2021-06-24T18:56:45.013Z"
   },
   {
    "duration": 6,
    "start_time": "2021-06-24T18:56:49.771Z"
   },
   {
    "duration": 5,
    "start_time": "2021-06-24T18:56:57.660Z"
   },
   {
    "duration": 6,
    "start_time": "2021-06-24T18:57:01.155Z"
   },
   {
    "duration": 6,
    "start_time": "2021-06-24T18:57:40.981Z"
   },
   {
    "duration": 6,
    "start_time": "2021-06-24T18:57:43.293Z"
   },
   {
    "duration": 6,
    "start_time": "2021-06-24T18:57:45.637Z"
   },
   {
    "duration": 31070,
    "start_time": "2021-06-24T18:58:03.686Z"
   },
   {
    "duration": 31505,
    "start_time": "2021-06-24T18:58:50.311Z"
   },
   {
    "duration": 33288,
    "start_time": "2021-06-24T18:59:23.473Z"
   },
   {
    "duration": 14280,
    "start_time": "2021-06-24T19:00:36.876Z"
   },
   {
    "duration": 10,
    "start_time": "2021-06-24T19:02:14.282Z"
   },
   {
    "duration": 13309,
    "start_time": "2021-06-24T19:02:54.202Z"
   },
   {
    "duration": 24434,
    "start_time": "2021-06-24T19:03:17.196Z"
   },
   {
    "duration": 13925,
    "start_time": "2021-06-24T19:04:05.678Z"
   },
   {
    "duration": 11,
    "start_time": "2021-06-24T19:04:25.108Z"
   },
   {
    "duration": 13311,
    "start_time": "2021-06-24T19:04:53.093Z"
   },
   {
    "duration": 11,
    "start_time": "2021-06-24T19:05:07.989Z"
   },
   {
    "duration": 14211,
    "start_time": "2021-06-24T19:06:03.366Z"
   },
   {
    "duration": 15,
    "start_time": "2021-06-24T19:07:22.816Z"
   },
   {
    "duration": 13,
    "start_time": "2021-06-24T19:07:24.816Z"
   },
   {
    "duration": 13571,
    "start_time": "2021-06-24T19:11:28.118Z"
   },
   {
    "duration": 95,
    "start_time": "2021-06-24T19:12:23.933Z"
   },
   {
    "duration": 13,
    "start_time": "2021-06-24T19:12:24.773Z"
   },
   {
    "duration": 24,
    "start_time": "2021-06-24T19:12:25.101Z"
   },
   {
    "duration": 4,
    "start_time": "2021-06-24T19:12:25.428Z"
   },
   {
    "duration": 8,
    "start_time": "2021-06-24T19:12:25.581Z"
   },
   {
    "duration": 6,
    "start_time": "2021-06-24T19:12:25.900Z"
   },
   {
    "duration": 13,
    "start_time": "2021-06-24T19:12:26.213Z"
   },
   {
    "duration": 33,
    "start_time": "2021-06-24T19:12:26.533Z"
   },
   {
    "duration": 10,
    "start_time": "2021-06-24T19:12:26.853Z"
   },
   {
    "duration": 15,
    "start_time": "2021-06-24T19:12:27.188Z"
   },
   {
    "duration": 64,
    "start_time": "2021-06-24T19:12:27.542Z"
   },
   {
    "duration": 47,
    "start_time": "2021-06-24T19:12:27.877Z"
   },
   {
    "duration": 15,
    "start_time": "2021-06-24T19:12:28.220Z"
   },
   {
    "duration": 35,
    "start_time": "2021-06-24T19:12:28.717Z"
   },
   {
    "duration": 12,
    "start_time": "2021-06-24T19:12:28.884Z"
   },
   {
    "duration": 38,
    "start_time": "2021-06-24T19:12:29.197Z"
   },
   {
    "duration": 40,
    "start_time": "2021-06-24T19:12:29.535Z"
   },
   {
    "duration": 18,
    "start_time": "2021-06-24T19:12:29.701Z"
   },
   {
    "duration": 37,
    "start_time": "2021-06-24T19:12:30.029Z"
   },
   {
    "duration": 35,
    "start_time": "2021-06-24T19:12:30.181Z"
   },
   {
    "duration": 21,
    "start_time": "2021-06-24T19:12:30.989Z"
   },
   {
    "duration": 26,
    "start_time": "2021-06-24T19:12:31.317Z"
   },
   {
    "duration": 15,
    "start_time": "2021-06-24T19:12:32.101Z"
   },
   {
    "duration": 21,
    "start_time": "2021-06-24T19:12:32.404Z"
   },
   {
    "duration": 82,
    "start_time": "2021-06-24T19:12:32.725Z"
   },
   {
    "duration": 63,
    "start_time": "2021-06-24T19:12:33.037Z"
   },
   {
    "duration": 11956,
    "start_time": "2021-06-24T19:12:33.861Z"
   },
   {
    "duration": 1503,
    "start_time": "2021-06-24T19:12:44.318Z"
   },
   {
    "duration": 1501,
    "start_time": "2021-06-24T19:12:44.322Z"
   },
   {
    "duration": 5987,
    "start_time": "2021-06-24T19:13:14.976Z"
   },
   {
    "duration": 15,
    "start_time": "2021-06-24T19:13:26.607Z"
   },
   {
    "duration": 10,
    "start_time": "2021-06-24T19:14:55.617Z"
   },
   {
    "duration": 88,
    "start_time": "2021-06-24T19:15:03.033Z"
   },
   {
    "duration": 29,
    "start_time": "2021-06-24T19:36:25.594Z"
   },
   {
    "duration": 6,
    "start_time": "2021-06-24T19:36:37.122Z"
   },
   {
    "duration": 27,
    "start_time": "2021-06-24T19:36:40.809Z"
   },
   {
    "duration": 10,
    "start_time": "2021-06-24T19:37:16.915Z"
   },
   {
    "duration": 52,
    "start_time": "2021-06-24T19:38:14.332Z"
   },
   {
    "duration": 30,
    "start_time": "2021-06-24T19:38:20.981Z"
   },
   {
    "duration": 19,
    "start_time": "2021-06-24T19:38:38.812Z"
   },
   {
    "duration": 21,
    "start_time": "2021-06-24T19:38:44.459Z"
   },
   {
    "duration": 11,
    "start_time": "2021-06-24T19:38:52.292Z"
   },
   {
    "duration": 13,
    "start_time": "2021-06-24T19:38:59.804Z"
   },
   {
    "duration": 20,
    "start_time": "2021-06-24T19:39:04.621Z"
   },
   {
    "duration": 28,
    "start_time": "2021-06-24T19:39:41.454Z"
   },
   {
    "duration": 16,
    "start_time": "2021-06-24T19:41:13.249Z"
   },
   {
    "duration": 20,
    "start_time": "2021-06-24T19:41:25.279Z"
   },
   {
    "duration": 10,
    "start_time": "2021-06-24T19:42:49.865Z"
   },
   {
    "duration": 22,
    "start_time": "2021-06-24T19:42:59.641Z"
   },
   {
    "duration": 24,
    "start_time": "2021-06-24T19:44:29.971Z"
   },
   {
    "duration": 22,
    "start_time": "2021-06-24T19:44:44.843Z"
   },
   {
    "duration": 22,
    "start_time": "2021-06-24T19:44:58.603Z"
   },
   {
    "duration": 22,
    "start_time": "2021-06-24T19:45:22.860Z"
   },
   {
    "duration": 23,
    "start_time": "2021-06-24T19:45:54.780Z"
   },
   {
    "duration": 24,
    "start_time": "2021-06-24T19:51:10.021Z"
   },
   {
    "duration": 30,
    "start_time": "2021-06-24T19:51:41.853Z"
   },
   {
    "duration": 46,
    "start_time": "2021-06-24T19:51:51.532Z"
   },
   {
    "duration": 30,
    "start_time": "2021-06-24T19:52:11.660Z"
   },
   {
    "duration": 19,
    "start_time": "2021-06-24T19:53:09.054Z"
   },
   {
    "duration": 92,
    "start_time": "2021-06-24T19:53:11.877Z"
   },
   {
    "duration": 32,
    "start_time": "2021-06-24T19:53:15.565Z"
   },
   {
    "duration": 33,
    "start_time": "2021-06-24T19:53:21.621Z"
   },
   {
    "duration": 33,
    "start_time": "2021-06-24T19:53:25.373Z"
   },
   {
    "duration": 22,
    "start_time": "2021-06-24T19:53:32.749Z"
   },
   {
    "duration": 31,
    "start_time": "2021-06-24T19:53:40.829Z"
   },
   {
    "duration": 24,
    "start_time": "2021-06-24T19:53:44.893Z"
   },
   {
    "duration": 31,
    "start_time": "2021-06-24T19:55:05.839Z"
   },
   {
    "duration": 23,
    "start_time": "2021-06-24T20:01:28.927Z"
   },
   {
    "duration": 24,
    "start_time": "2021-06-24T20:01:58.344Z"
   },
   {
    "duration": 23,
    "start_time": "2021-06-24T20:02:41.943Z"
   },
   {
    "duration": 90,
    "start_time": "2021-06-24T20:08:31.327Z"
   },
   {
    "duration": 7,
    "start_time": "2021-06-24T20:08:40.469Z"
   },
   {
    "duration": 8,
    "start_time": "2021-06-24T20:08:44.927Z"
   },
   {
    "duration": 7,
    "start_time": "2021-06-24T20:08:48.766Z"
   },
   {
    "duration": 8,
    "start_time": "2021-06-24T20:08:58.023Z"
   },
   {
    "duration": 20,
    "start_time": "2021-06-24T20:12:38.965Z"
   },
   {
    "duration": 39,
    "start_time": "2021-06-24T20:12:59.763Z"
   },
   {
    "duration": 33,
    "start_time": "2021-06-24T20:13:32.613Z"
   },
   {
    "duration": 33,
    "start_time": "2021-06-24T20:13:37.763Z"
   },
   {
    "duration": 268,
    "start_time": "2021-06-24T20:16:24.673Z"
   },
   {
    "duration": 11,
    "start_time": "2021-06-24T20:16:30.127Z"
   },
   {
    "duration": 25,
    "start_time": "2021-06-24T20:24:21.161Z"
   },
   {
    "duration": 250,
    "start_time": "2021-06-24T20:25:24.329Z"
   },
   {
    "duration": 269,
    "start_time": "2021-06-24T20:25:29.993Z"
   },
   {
    "duration": 11,
    "start_time": "2021-06-24T20:25:45.169Z"
   },
   {
    "duration": 15,
    "start_time": "2021-06-24T20:25:58.866Z"
   },
   {
    "duration": 14,
    "start_time": "2021-06-24T20:29:46.839Z"
   },
   {
    "duration": 15,
    "start_time": "2021-06-24T20:29:52.830Z"
   },
   {
    "duration": 10,
    "start_time": "2021-06-24T20:34:42.572Z"
   },
   {
    "duration": 13,
    "start_time": "2021-06-24T20:35:40.373Z"
   },
   {
    "duration": 92,
    "start_time": "2021-06-24T20:49:50.103Z"
   },
   {
    "duration": 14,
    "start_time": "2021-06-24T20:49:52.811Z"
   },
   {
    "duration": 26,
    "start_time": "2021-06-24T20:49:59.676Z"
   },
   {
    "duration": 23,
    "start_time": "2021-06-24T20:50:32.398Z"
   },
   {
    "duration": 5,
    "start_time": "2021-06-24T20:50:38.940Z"
   },
   {
    "duration": 8,
    "start_time": "2021-06-24T20:50:40.941Z"
   },
   {
    "duration": 6,
    "start_time": "2021-06-24T20:51:02.029Z"
   },
   {
    "duration": 13,
    "start_time": "2021-06-24T20:51:14.197Z"
   },
   {
    "duration": 33,
    "start_time": "2021-06-24T20:51:27.910Z"
   },
   {
    "duration": 11,
    "start_time": "2021-06-24T20:51:36.629Z"
   },
   {
    "duration": 14,
    "start_time": "2021-06-24T20:51:44.942Z"
   },
   {
    "duration": 61,
    "start_time": "2021-06-24T20:51:47.616Z"
   },
   {
    "duration": 50,
    "start_time": "2021-06-24T20:51:51.143Z"
   },
   {
    "duration": 14,
    "start_time": "2021-06-24T20:52:00.343Z"
   },
   {
    "duration": 35,
    "start_time": "2021-06-24T20:52:04.151Z"
   },
   {
    "duration": 11,
    "start_time": "2021-06-24T20:52:08.910Z"
   },
   {
    "duration": 36,
    "start_time": "2021-06-24T20:52:16.679Z"
   },
   {
    "duration": 35,
    "start_time": "2021-06-24T20:52:28.289Z"
   },
   {
    "duration": 23,
    "start_time": "2021-06-24T20:52:40.000Z"
   },
   {
    "duration": 35,
    "start_time": "2021-06-24T20:52:43.191Z"
   },
   {
    "duration": 41,
    "start_time": "2021-06-24T20:52:46.440Z"
   },
   {
    "duration": 14,
    "start_time": "2021-06-24T20:52:49.734Z"
   },
   {
    "duration": 20,
    "start_time": "2021-06-24T20:52:51.070Z"
   },
   {
    "duration": 14,
    "start_time": "2021-06-24T20:52:54.487Z"
   },
   {
    "duration": 32,
    "start_time": "2021-06-24T20:52:58.470Z"
   },
   {
    "duration": 81,
    "start_time": "2021-06-24T20:53:00.719Z"
   },
   {
    "duration": 65,
    "start_time": "2021-06-24T20:53:02.769Z"
   },
   {
    "duration": 5977,
    "start_time": "2021-06-24T20:53:10.663Z"
   },
   {
    "duration": 12,
    "start_time": "2021-06-24T20:56:58.733Z"
   },
   {
    "duration": 31,
    "start_time": "2021-06-24T20:57:00.620Z"
   },
   {
    "duration": 36,
    "start_time": "2021-06-24T20:57:02.859Z"
   },
   {
    "duration": 25,
    "start_time": "2021-06-24T20:57:04.900Z"
   },
   {
    "duration": 40,
    "start_time": "2021-06-24T20:57:06.676Z"
   },
   {
    "duration": 13,
    "start_time": "2021-06-24T20:57:09.108Z"
   },
   {
    "duration": 15,
    "start_time": "2021-06-24T20:57:11.003Z"
   },
   {
    "duration": 12,
    "start_time": "2021-06-24T20:57:12.843Z"
   },
   {
    "duration": 11,
    "start_time": "2021-06-24T20:57:14.652Z"
   },
   {
    "duration": 875,
    "start_time": "2021-06-24T22:57:17.093Z"
   },
   {
    "duration": 12,
    "start_time": "2021-06-24T22:57:17.971Z"
   },
   {
    "duration": 34,
    "start_time": "2021-06-24T22:57:17.986Z"
   },
   {
    "duration": 4,
    "start_time": "2021-06-24T22:57:18.022Z"
   },
   {
    "duration": 10,
    "start_time": "2021-06-24T22:57:18.028Z"
   },
   {
    "duration": 8,
    "start_time": "2021-06-24T22:57:18.040Z"
   },
   {
    "duration": 30,
    "start_time": "2021-06-24T22:57:18.050Z"
   },
   {
    "duration": 58,
    "start_time": "2021-06-24T22:57:18.083Z"
   },
   {
    "duration": 12,
    "start_time": "2021-06-24T22:57:18.144Z"
   },
   {
    "duration": 17,
    "start_time": "2021-06-24T22:57:18.158Z"
   },
   {
    "duration": 95,
    "start_time": "2021-06-24T22:57:18.177Z"
   },
   {
    "duration": 64,
    "start_time": "2021-06-24T22:57:18.274Z"
   },
   {
    "duration": 13,
    "start_time": "2021-06-24T22:57:18.341Z"
   },
   {
    "duration": 61,
    "start_time": "2021-06-24T22:57:18.357Z"
   },
   {
    "duration": 10,
    "start_time": "2021-06-24T22:57:18.421Z"
   },
   {
    "duration": 38,
    "start_time": "2021-06-24T22:57:18.434Z"
   },
   {
    "duration": 69,
    "start_time": "2021-06-24T22:57:18.475Z"
   },
   {
    "duration": 20,
    "start_time": "2021-06-24T22:57:18.547Z"
   },
   {
    "duration": 59,
    "start_time": "2021-06-24T22:57:18.569Z"
   },
   {
    "duration": 38,
    "start_time": "2021-06-24T22:57:18.630Z"
   },
   {
    "duration": 43,
    "start_time": "2021-06-24T22:57:18.671Z"
   },
   {
    "duration": 20,
    "start_time": "2021-06-24T22:57:18.717Z"
   },
   {
    "duration": 14,
    "start_time": "2021-06-24T22:57:18.742Z"
   },
   {
    "duration": 57,
    "start_time": "2021-06-24T22:57:18.759Z"
   },
   {
    "duration": 55,
    "start_time": "2021-06-24T22:57:18.819Z"
   },
   {
    "duration": 90,
    "start_time": "2021-06-24T22:57:18.876Z"
   },
   {
    "duration": 5572,
    "start_time": "2021-06-24T22:57:18.968Z"
   },
   {
    "duration": 9,
    "start_time": "2021-06-24T22:57:24.543Z"
   },
   {
    "duration": 34,
    "start_time": "2021-06-24T22:57:24.555Z"
   },
   {
    "duration": 50,
    "start_time": "2021-06-24T22:57:24.591Z"
   },
   {
    "duration": 22,
    "start_time": "2021-06-24T22:57:24.644Z"
   },
   {
    "duration": 67,
    "start_time": "2021-06-24T22:57:24.669Z"
   },
   {
    "duration": 11,
    "start_time": "2021-06-24T22:57:24.738Z"
   },
   {
    "duration": 11,
    "start_time": "2021-06-24T22:57:24.752Z"
   },
   {
    "duration": 44,
    "start_time": "2021-06-24T22:57:24.766Z"
   },
   {
    "duration": 11,
    "start_time": "2021-06-24T22:57:24.813Z"
   },
   {
    "duration": 133,
    "start_time": "2021-06-24T23:08:58.626Z"
   },
   {
    "duration": 1163,
    "start_time": "2021-06-24T23:09:00.549Z"
   },
   {
    "duration": 414,
    "start_time": "2021-06-25T13:54:39.807Z"
   },
   {
    "duration": 835,
    "start_time": "2021-06-25T13:54:49.350Z"
   },
   {
    "duration": 14,
    "start_time": "2021-06-25T13:54:50.984Z"
   },
   {
    "duration": 25,
    "start_time": "2021-06-25T13:54:51.863Z"
   },
   {
    "duration": 5,
    "start_time": "2021-06-25T13:54:52.661Z"
   },
   {
    "duration": 8,
    "start_time": "2021-06-25T13:54:53.034Z"
   },
   {
    "duration": 6,
    "start_time": "2021-06-25T13:54:53.819Z"
   },
   {
    "duration": 14,
    "start_time": "2021-06-25T13:54:55.479Z"
   },
   {
    "duration": 34,
    "start_time": "2021-06-25T13:54:56.436Z"
   },
   {
    "duration": 11,
    "start_time": "2021-06-25T13:55:12.021Z"
   },
   {
    "duration": 16,
    "start_time": "2021-06-25T13:55:18.233Z"
   },
   {
    "duration": 70,
    "start_time": "2021-06-25T13:55:19.828Z"
   },
   {
    "duration": 49,
    "start_time": "2021-06-25T13:55:40.790Z"
   },
   {
    "duration": 13,
    "start_time": "2021-06-25T13:56:11.791Z"
   },
   {
    "duration": 34,
    "start_time": "2021-06-25T13:56:19.655Z"
   },
   {
    "duration": 11,
    "start_time": "2021-06-25T13:56:27.265Z"
   },
   {
    "duration": 36,
    "start_time": "2021-06-25T13:56:28.405Z"
   },
   {
    "duration": 38,
    "start_time": "2021-06-25T13:56:41.005Z"
   },
   {
    "duration": 16,
    "start_time": "2021-06-25T13:56:48.832Z"
   },
   {
    "duration": 14,
    "start_time": "2021-06-25T13:58:56.371Z"
   },
   {
    "duration": 38,
    "start_time": "2021-06-25T14:01:27.104Z"
   },
   {
    "duration": 33,
    "start_time": "2021-06-25T14:01:27.773Z"
   },
   {
    "duration": 19,
    "start_time": "2021-06-25T14:01:55.421Z"
   },
   {
    "duration": 17,
    "start_time": "2021-06-25T14:02:01.868Z"
   },
   {
    "duration": 63,
    "start_time": "2021-06-25T14:04:25.031Z"
   },
   {
    "duration": 477,
    "start_time": "2021-06-25T14:04:39.602Z"
   },
   {
    "duration": 63,
    "start_time": "2021-06-25T14:04:53.402Z"
   },
   {
    "duration": 395,
    "start_time": "2021-06-25T14:06:12.172Z"
   },
   {
    "duration": 66,
    "start_time": "2021-06-25T14:06:27.227Z"
   },
   {
    "duration": 119,
    "start_time": "2021-06-25T14:06:55.276Z"
   },
   {
    "duration": 5905,
    "start_time": "2021-06-25T14:08:13.579Z"
   },
   {
    "duration": 5590,
    "start_time": "2021-06-25T14:08:54.385Z"
   },
   {
    "duration": 5997,
    "start_time": "2021-06-25T14:11:37.665Z"
   },
   {
    "duration": 6185,
    "start_time": "2021-06-25T14:15:21.787Z"
   },
   {
    "duration": 5779,
    "start_time": "2021-06-25T14:15:54.675Z"
   },
   {
    "duration": 5640,
    "start_time": "2021-06-25T14:16:53.639Z"
   },
   {
    "duration": 5705,
    "start_time": "2021-06-25T14:21:05.542Z"
   },
   {
    "duration": 5548,
    "start_time": "2021-06-25T14:21:41.999Z"
   },
   {
    "duration": 699,
    "start_time": "2021-06-25T14:32:56.454Z"
   },
   {
    "duration": 754,
    "start_time": "2021-06-25T14:33:21.396Z"
   },
   {
    "duration": 673,
    "start_time": "2021-06-25T14:33:35.369Z"
   },
   {
    "duration": 229,
    "start_time": "2021-06-25T15:58:02.146Z"
   },
   {
    "duration": 608,
    "start_time": "2021-06-25T15:58:08.807Z"
   },
   {
    "duration": 9,
    "start_time": "2021-06-25T15:58:09.685Z"
   },
   {
    "duration": 16,
    "start_time": "2021-06-25T15:58:09.982Z"
   },
   {
    "duration": 3,
    "start_time": "2021-06-25T15:58:10.270Z"
   },
   {
    "duration": 6,
    "start_time": "2021-06-25T15:58:10.422Z"
   },
   {
    "duration": 4,
    "start_time": "2021-06-25T15:58:10.725Z"
   },
   {
    "duration": 10,
    "start_time": "2021-06-25T15:58:11.206Z"
   },
   {
    "duration": 22,
    "start_time": "2021-06-25T15:58:11.526Z"
   },
   {
    "duration": 8,
    "start_time": "2021-06-25T15:58:12.021Z"
   },
   {
    "duration": 10,
    "start_time": "2021-06-25T15:58:12.357Z"
   },
   {
    "duration": 45,
    "start_time": "2021-06-25T15:58:12.703Z"
   },
   {
    "duration": 32,
    "start_time": "2021-06-25T15:58:13.238Z"
   },
   {
    "duration": 10,
    "start_time": "2021-06-25T15:58:13.606Z"
   },
   {
    "duration": 20,
    "start_time": "2021-06-25T15:58:15.343Z"
   },
   {
    "duration": 7,
    "start_time": "2021-06-25T15:58:15.583Z"
   },
   {
    "duration": 24,
    "start_time": "2021-06-25T15:58:16.062Z"
   },
   {
    "duration": 21,
    "start_time": "2021-06-25T15:58:18.352Z"
   },
   {
    "duration": 9,
    "start_time": "2021-06-25T15:58:18.534Z"
   },
   {
    "duration": 24,
    "start_time": "2021-06-25T15:58:20.398Z"
   },
   {
    "duration": 23,
    "start_time": "2021-06-25T15:58:20.550Z"
   },
   {
    "duration": 13,
    "start_time": "2021-06-25T15:58:26.086Z"
   },
   {
    "duration": 14,
    "start_time": "2021-06-25T15:58:27.862Z"
   },
   {
    "duration": 11,
    "start_time": "2021-06-25T15:58:31.750Z"
   },
   {
    "duration": 16,
    "start_time": "2021-06-25T15:58:32.174Z"
   },
   {
    "duration": 33,
    "start_time": "2021-06-25T15:58:33.543Z"
   },
   {
    "duration": 48,
    "start_time": "2021-06-25T15:58:35.158Z"
   },
   {
    "duration": 4050,
    "start_time": "2021-06-25T15:58:48.175Z"
   },
   {
    "duration": 4058,
    "start_time": "2021-06-25T15:59:07.152Z"
   },
   {
    "duration": 4098,
    "start_time": "2021-06-25T16:00:11.962Z"
   },
   {
    "duration": 61,
    "start_time": "2021-06-25T16:01:27.205Z"
   },
   {
    "duration": 68,
    "start_time": "2021-06-25T16:01:31.491Z"
   },
   {
    "duration": 4193,
    "start_time": "2021-06-25T16:01:34.395Z"
   },
   {
    "duration": 3844,
    "start_time": "2021-06-25T16:01:54.692Z"
   },
   {
    "duration": 4159,
    "start_time": "2021-06-25T16:02:23.526Z"
   },
   {
    "duration": 3932,
    "start_time": "2021-06-25T16:03:04.358Z"
   },
   {
    "duration": 67,
    "start_time": "2021-06-25T16:08:51.221Z"
   },
   {
    "duration": 3378,
    "start_time": "2021-06-25T16:08:55.540Z"
   },
   {
    "duration": 2675,
    "start_time": "2021-06-25T16:09:17.421Z"
   },
   {
    "duration": 2709,
    "start_time": "2021-06-25T16:09:47.693Z"
   },
   {
    "duration": 8,
    "start_time": "2021-06-25T16:10:07.798Z"
   },
   {
    "duration": 2900,
    "start_time": "2021-06-25T16:12:03.304Z"
   },
   {
    "duration": 2680,
    "start_time": "2021-06-25T16:13:23.018Z"
   },
   {
    "duration": 2783,
    "start_time": "2021-06-25T16:13:42.097Z"
   },
   {
    "duration": 2644,
    "start_time": "2021-06-25T16:14:20.419Z"
   },
   {
    "duration": 3230,
    "start_time": "2021-06-25T16:14:29.762Z"
   },
   {
    "duration": 2994,
    "start_time": "2021-06-25T16:14:43.291Z"
   },
   {
    "duration": 73,
    "start_time": "2021-06-25T16:15:13.228Z"
   },
   {
    "duration": 10,
    "start_time": "2021-06-25T16:15:14.105Z"
   },
   {
    "duration": 18,
    "start_time": "2021-06-25T16:15:14.370Z"
   },
   {
    "duration": 3,
    "start_time": "2021-06-25T16:15:14.634Z"
   },
   {
    "duration": 6,
    "start_time": "2021-06-25T16:15:14.763Z"
   },
   {
    "duration": 5,
    "start_time": "2021-06-25T16:15:15.010Z"
   },
   {
    "duration": 12,
    "start_time": "2021-06-25T16:15:15.690Z"
   },
   {
    "duration": 24,
    "start_time": "2021-06-25T16:15:15.962Z"
   },
   {
    "duration": 9,
    "start_time": "2021-06-25T16:15:16.409Z"
   },
   {
    "duration": 12,
    "start_time": "2021-06-25T16:15:16.705Z"
   },
   {
    "duration": 43,
    "start_time": "2021-06-25T16:15:17.026Z"
   },
   {
    "duration": 31,
    "start_time": "2021-06-25T16:15:17.499Z"
   },
   {
    "duration": 11,
    "start_time": "2021-06-25T16:15:17.810Z"
   },
   {
    "duration": 22,
    "start_time": "2021-06-25T16:15:19.099Z"
   },
   {
    "duration": 10,
    "start_time": "2021-06-25T16:15:19.250Z"
   },
   {
    "duration": 24,
    "start_time": "2021-06-25T16:15:19.570Z"
   },
   {
    "duration": 21,
    "start_time": "2021-06-25T16:15:20.117Z"
   },
   {
    "duration": 10,
    "start_time": "2021-06-25T16:15:20.330Z"
   },
   {
    "duration": 23,
    "start_time": "2021-06-25T16:15:21.411Z"
   },
   {
    "duration": 21,
    "start_time": "2021-06-25T16:15:21.611Z"
   },
   {
    "duration": 13,
    "start_time": "2021-06-25T16:15:22.577Z"
   },
   {
    "duration": 14,
    "start_time": "2021-06-25T16:15:22.914Z"
   },
   {
    "duration": 11,
    "start_time": "2021-06-25T16:15:24.258Z"
   },
   {
    "duration": 15,
    "start_time": "2021-06-25T16:15:25.042Z"
   },
   {
    "duration": 37,
    "start_time": "2021-06-25T16:15:25.482Z"
   },
   {
    "duration": 52,
    "start_time": "2021-06-25T16:15:25.906Z"
   },
   {
    "duration": 3307,
    "start_time": "2021-06-25T16:15:29.827Z"
   },
   {
    "duration": 3339,
    "start_time": "2021-06-25T16:16:07.421Z"
   },
   {
    "duration": 3561,
    "start_time": "2021-06-25T16:16:21.773Z"
   },
   {
    "duration": 3883,
    "start_time": "2021-06-25T16:16:52.541Z"
   },
   {
    "duration": 4326,
    "start_time": "2021-06-25T16:17:08.373Z"
   },
   {
    "duration": 4344,
    "start_time": "2021-06-25T16:17:18.902Z"
   },
   {
    "duration": 64,
    "start_time": "2021-06-25T16:18:29.118Z"
   },
   {
    "duration": 9,
    "start_time": "2021-06-25T16:18:29.821Z"
   },
   {
    "duration": 17,
    "start_time": "2021-06-25T16:18:30.054Z"
   },
   {
    "duration": 3,
    "start_time": "2021-06-25T16:18:30.277Z"
   },
   {
    "duration": 6,
    "start_time": "2021-06-25T16:18:30.405Z"
   },
   {
    "duration": 4,
    "start_time": "2021-06-25T16:18:30.629Z"
   },
   {
    "duration": 10,
    "start_time": "2021-06-25T16:18:30.989Z"
   },
   {
    "duration": 23,
    "start_time": "2021-06-25T16:18:31.197Z"
   },
   {
    "duration": 7,
    "start_time": "2021-06-25T16:18:31.693Z"
   },
   {
    "duration": 11,
    "start_time": "2021-06-25T16:18:31.925Z"
   },
   {
    "duration": 97,
    "start_time": "2021-06-25T16:18:32.166Z"
   },
   {
    "duration": 32,
    "start_time": "2021-06-25T16:18:32.550Z"
   },
   {
    "duration": 10,
    "start_time": "2021-06-25T16:18:32.813Z"
   },
   {
    "duration": 22,
    "start_time": "2021-06-25T16:18:33.334Z"
   },
   {
    "duration": 9,
    "start_time": "2021-06-25T16:18:33.469Z"
   },
   {
    "duration": 27,
    "start_time": "2021-06-25T16:18:33.725Z"
   },
   {
    "duration": 22,
    "start_time": "2021-06-25T16:18:34.127Z"
   },
   {
    "duration": 11,
    "start_time": "2021-06-25T16:18:34.285Z"
   },
   {
    "duration": 26,
    "start_time": "2021-06-25T16:18:34.829Z"
   },
   {
    "duration": 23,
    "start_time": "2021-06-25T16:18:34.983Z"
   },
   {
    "duration": 13,
    "start_time": "2021-06-25T16:18:35.828Z"
   },
   {
    "duration": 15,
    "start_time": "2021-06-25T16:18:36.109Z"
   },
   {
    "duration": 12,
    "start_time": "2021-06-25T16:18:37.124Z"
   },
   {
    "duration": 14,
    "start_time": "2021-06-25T16:18:37.557Z"
   },
   {
    "duration": 37,
    "start_time": "2021-06-25T16:18:37.877Z"
   },
   {
    "duration": 57,
    "start_time": "2021-06-25T16:18:38.341Z"
   },
   {
    "duration": 3906,
    "start_time": "2021-06-25T16:18:45.182Z"
   },
   {
    "duration": 488,
    "start_time": "2021-06-25T16:18:56.038Z"
   },
   {
    "duration": 2667,
    "start_time": "2021-06-25T16:18:58.630Z"
   },
   {
    "duration": 3358,
    "start_time": "2021-06-25T16:20:24.529Z"
   },
   {
    "duration": 3388,
    "start_time": "2021-06-25T16:20:36.754Z"
   },
   {
    "duration": 425,
    "start_time": "2021-06-25T16:20:45.969Z"
   },
   {
    "duration": 2756,
    "start_time": "2021-06-25T16:20:48.160Z"
   },
   {
    "duration": 7,
    "start_time": "2021-06-25T16:21:05.257Z"
   },
   {
    "duration": 2595,
    "start_time": "2021-06-25T16:21:31.218Z"
   },
   {
    "duration": 7,
    "start_time": "2021-06-25T16:22:25.282Z"
   },
   {
    "duration": 23,
    "start_time": "2021-06-25T16:22:29.299Z"
   },
   {
    "duration": 25,
    "start_time": "2021-06-25T16:22:39.299Z"
   },
   {
    "duration": 17,
    "start_time": "2021-06-25T16:22:40.275Z"
   },
   {
    "duration": 26,
    "start_time": "2021-06-25T16:22:41.154Z"
   },
   {
    "duration": 9,
    "start_time": "2021-06-25T16:22:54.739Z"
   },
   {
    "duration": 12,
    "start_time": "2021-06-25T16:22:59.275Z"
   },
   {
    "duration": 11,
    "start_time": "2021-06-25T16:24:47.726Z"
   },
   {
    "duration": 181,
    "start_time": "2021-06-25T16:25:15.200Z"
   },
   {
    "duration": 185,
    "start_time": "2021-06-25T16:25:34.967Z"
   },
   {
    "duration": 330,
    "start_time": "2021-06-25T16:25:51.407Z"
   },
   {
    "duration": 14,
    "start_time": "2021-06-25T16:26:23.903Z"
   },
   {
    "duration": 10,
    "start_time": "2021-06-25T16:26:29.864Z"
   },
   {
    "duration": 57,
    "start_time": "2021-06-25T16:26:41.865Z"
   },
   {
    "duration": 201,
    "start_time": "2021-06-25T16:27:03.496Z"
   },
   {
    "duration": 60,
    "start_time": "2021-06-25T16:27:12.028Z"
   },
   {
    "duration": 385,
    "start_time": "2021-06-25T16:27:14.985Z"
   },
   {
    "duration": 206,
    "start_time": "2021-06-25T16:27:25.769Z"
   },
   {
    "duration": 10,
    "start_time": "2021-06-25T16:27:43.145Z"
   },
   {
    "duration": 11,
    "start_time": "2021-06-25T16:28:17.811Z"
   },
   {
    "duration": 10,
    "start_time": "2021-06-25T16:28:25.578Z"
   },
   {
    "duration": 11,
    "start_time": "2021-06-25T16:28:43.067Z"
   },
   {
    "duration": 11,
    "start_time": "2021-06-25T16:29:17.931Z"
   },
   {
    "duration": 3204,
    "start_time": "2021-06-25T16:36:23.421Z"
   },
   {
    "duration": 3301,
    "start_time": "2021-06-25T16:36:33.323Z"
   },
   {
    "duration": 3229,
    "start_time": "2021-06-25T16:36:42.796Z"
   },
   {
    "duration": 3319,
    "start_time": "2021-06-25T16:37:00.396Z"
   },
   {
    "duration": 3448,
    "start_time": "2021-06-25T16:37:39.588Z"
   },
   {
    "duration": 3506,
    "start_time": "2021-06-25T16:37:47.205Z"
   },
   {
    "duration": 3058,
    "start_time": "2021-06-25T16:38:17.926Z"
   },
   {
    "duration": 3207,
    "start_time": "2021-06-25T16:38:27.238Z"
   },
   {
    "duration": 3076,
    "start_time": "2021-06-25T16:38:53.111Z"
   },
   {
    "duration": 377,
    "start_time": "2021-06-25T16:39:01.166Z"
   },
   {
    "duration": 2505,
    "start_time": "2021-06-25T16:39:38.663Z"
   },
   {
    "duration": 8,
    "start_time": "2021-06-25T16:39:43.934Z"
   },
   {
    "duration": 20,
    "start_time": "2021-06-25T16:39:45.790Z"
   },
   {
    "duration": 21,
    "start_time": "2021-06-25T16:39:46.430Z"
   },
   {
    "duration": 17,
    "start_time": "2021-06-25T16:39:51.214Z"
   },
   {
    "duration": 22,
    "start_time": "2021-06-25T16:39:51.701Z"
   },
   {
    "duration": 10,
    "start_time": "2021-06-25T16:39:59.206Z"
   },
   {
    "duration": 11,
    "start_time": "2021-06-25T16:40:00.910Z"
   },
   {
    "duration": 11,
    "start_time": "2021-06-25T16:40:03.054Z"
   },
   {
    "duration": 10,
    "start_time": "2021-06-25T16:40:04.374Z"
   },
   {
    "duration": 11,
    "start_time": "2021-06-25T16:40:07.671Z"
   }
  ],
  "kernelspec": {
   "display_name": "Python 3",
   "language": "python",
   "name": "python3"
  },
  "language_info": {
   "codemirror_mode": {
    "name": "ipython",
    "version": 3
   },
   "file_extension": ".py",
   "mimetype": "text/x-python",
   "name": "python",
   "nbconvert_exporter": "python",
   "pygments_lexer": "ipython3",
   "version": "3.7.6"
  },
  "toc": {
   "base_numbering": 1,
   "nav_menu": {},
   "number_sections": true,
   "sideBar": true,
   "skip_h1_title": true,
   "title_cell": "Table of Contents",
   "title_sidebar": "Contents",
   "toc_cell": false,
   "toc_position": {},
   "toc_section_display": true,
   "toc_window_display": false
  }
 },
 "nbformat": 4,
 "nbformat_minor": 2
}
